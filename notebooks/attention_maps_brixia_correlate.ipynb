{
 "cells": [
  {
   "cell_type": "code",
   "execution_count": 42,
   "id": "4465a75d",
   "metadata": {},
   "outputs": [],
   "source": [
    "import numpy as np\n",
    "import matplotlib.pyplot as plt\n",
    "import matplotlib as mpl\n",
    "import seaborn as sns\n",
    "import pandas as pd\n",
    "from skimage.transform import resize"
   ]
  },
  {
   "cell_type": "code",
   "execution_count": 77,
   "id": "bdad26d6",
   "metadata": {},
   "outputs": [],
   "source": [
    "cols = ['Age', 'Sex', 'PositivityAtAdmission', 'Temp_C', 'DaysFever', 'Cough',\n",
    "       'DifficultyInBreathing', 'WBC', 'RBC', 'CRP', 'Fibrinogen', 'Glucose',\n",
    "       'PCT', 'LDH', 'INR', 'D_dimer', 'Ox_percentage', 'PaO2', 'SaO2',\n",
    "       'PaCO2', 'pH', 'CardiovascularDisease', 'IschemicHeartDisease',\n",
    "       'AtrialFibrillation', 'HeartFailure', 'Ictus', 'HighBloodPressure',\n",
    "       'Diabetes', 'Dementia', 'BPCO', 'Cancer', 'ChronicKidneyDisease',\n",
    "       'RespiratoryFailure', 'Obesity', 'Position']"
   ]
  },
  {
   "cell_type": "code",
   "execution_count": 78,
   "id": "81e52e62",
   "metadata": {},
   "outputs": [],
   "source": [
    "test_mean_mild_map = np.load(\n",
    "    \"../data/raw_output/checkpoints_xplainable/ES_2022-10-03_15:27:54.457214/attentions/mean_mild_attentions.npy\")\n",
    "test_mean_severe_map = np.load(\n",
    "    \"../data/raw_output/checkpoints_xplainable/ES_2022-10-03_15:27:54.457214/attentions/mean_severe_attentions.npy\")\n",
    "\n",
    "mean_mild_map = np.load(\n",
    "    \"../data/raw_output/checkpoints_xplainable/ES_2022-10-03_15:27:54.457214/attentions/valid_mean_mild_attentions.npy\")\n",
    "mean_severe_map = np.load(\n",
    "    \"../data/raw_output/checkpoints_xplainable/ES_2022-10-03_15:27:54.457214/attentions/valid_mean_severe_attentions.npy\")"
   ]
  },
  {
   "cell_type": "code",
   "execution_count": 79,
   "id": "06b292c6",
   "metadata": {},
   "outputs": [
    {
     "data": {
      "text/plain": [
       "((256, 35, 1), (256, 35, 1), (256, 35, 1), (256, 35, 1))"
      ]
     },
     "execution_count": 79,
     "metadata": {},
     "output_type": "execute_result"
    }
   ],
   "source": [
    "mean_mild_map.shape, mean_severe_map.shape, test_mean_mild_map.shape, test_mean_severe_map.shape"
   ]
  },
  {
   "cell_type": "code",
   "execution_count": 80,
   "id": "921acdad",
   "metadata": {},
   "outputs": [
    {
     "data": {
      "text/plain": [
       "(35, 16, 16)"
      ]
     },
     "execution_count": 80,
     "metadata": {},
     "output_type": "execute_result"
    }
   ],
   "source": [
    "def reshape(inp):\n",
    "    return np.moveaxis(inp.reshape(16, 16, 35), 2, 0)\n",
    "\n",
    "mean_mild_map = reshape(mean_mild_map)\n",
    "mean_severe_map = reshape(mean_severe_map)\n",
    "test_mean_mild_map = reshape(test_mean_mild_map)\n",
    "test_mean_severe_map = reshape(test_mean_severe_map)\n",
    "\n",
    "mean_mild_map.shape"
   ]
  },
  {
   "cell_type": "code",
   "execution_count": 283,
   "id": "8072c083",
   "metadata": {},
   "outputs": [
    {
     "data": {
      "text/plain": [
       "(1103, 1103, 1103)"
      ]
     },
     "execution_count": 283,
     "metadata": {},
     "output_type": "execute_result"
    }
   ],
   "source": [
    "brixia_scores = np.array(\n",
    "    [np.loadtxt(\n",
    "        fname\n",
    "    ).reshape(3, 2).astype(int) for fname in Path(\n",
    "        \"../data/preprocessed_data/train/score_original/\").glob(\"*.txt\")])\n",
    "\n",
    "\n",
    "brixia_paths = np.array(\n",
    "    [fname.name for fname in Path(\n",
    "        \"../data/preprocessed_data/train/score_original/\").glob(\"*.txt\")]).tolist()\n",
    "\n",
    "len(brixia_scores), len(brixia_paths), len(np.unique(brixia_paths))"
   ]
  },
  {
   "cell_type": "code",
   "execution_count": 284,
   "id": "62aa8da8",
   "metadata": {},
   "outputs": [
    {
     "data": {
      "text/plain": [
       "(486, 486, 486)"
      ]
     },
     "execution_count": 284,
     "metadata": {},
     "output_type": "execute_result"
    }
   ],
   "source": [
    "test_brixia_scores = np.array(\n",
    "    [np.loadtxt(\n",
    "        fname\n",
    "    ).reshape(3, 2).astype(int) for fname in Path(\n",
    "        \"../data/preprocessed_data/test/score_original/\").glob(\"*.txt\")])\n",
    "\n",
    "test_brixia_paths = np.array(\n",
    "    [fname.name for fname in Path(\n",
    "        \"../data/preprocessed_data/test/score_original/\").glob(\"*.txt\")]).tolist()\n",
    "\n",
    "len(test_brixia_scores), len(test_brixia_paths), len(np.unique(test_brixia_paths))"
   ]
  },
  {
   "cell_type": "code",
   "execution_count": 285,
   "id": "de6cc96f",
   "metadata": {},
   "outputs": [],
   "source": [
    "prognosis = pd.read_csv(\n",
    "    \"../data/preprocessed_data/tables/trainClinData.csv\"\n",
    ")[\"Prognosis\"].map(lambda x: int(x == \"SEVERE\")).values\n",
    "test_prognosis = pd.read_excel(\n",
    "    \"../data/raw_data/completeTestClinData.xls\"\n",
    ")[\"Prognosis\"].map(lambda x: int(x == \"SEVERE\")).values\n",
    "\n",
    "names = pd.read_csv(\n",
    "    \"../data/preprocessed_data/tables/trainClinData.csv\"\n",
    ")[\"ImageFile\"].map(lambda x: x.replace('.png', '.txt')).values.tolist()\n",
    "test_names = pd.read_csv(\n",
    "    \"../data/preprocessed_data/tables/testClinData.csv\"\n",
    ")[\"ImageFile\"].map(lambda x: x.replace('.png', '.txt')).values.tolist()"
   ]
  },
  {
   "cell_type": "code",
   "execution_count": 286,
   "id": "ecd94acc",
   "metadata": {},
   "outputs": [
    {
     "data": {
      "text/plain": [
       "(1103, 486, 1103, 486)"
      ]
     },
     "execution_count": 286,
     "metadata": {},
     "output_type": "execute_result"
    }
   ],
   "source": [
    "len(names), len(test_names), len(brixia_paths), len(test_brixia_paths)"
   ]
  },
  {
   "cell_type": "code",
   "execution_count": 287,
   "id": "1f89f83d",
   "metadata": {},
   "outputs": [
    {
     "data": {
      "text/plain": [
       "(['P_102.txt', 'P_131.txt', 'P_132.txt', 'P_117.txt', 'P_16.txt'],\n",
       " ['P_3_29.txt', 'P_3_415.txt', 'P_3_163.txt', 'P_3_348.txt', 'P_3_263.txt'],\n",
       " ['P_1_27.txt', 'P_272.txt', 'P_613.txt', 'P_165.txt', 'P_504.txt'],\n",
       " ['P_3_442.txt', 'P_3_334.txt', 'P_3_493.txt', 'P_3_399.txt', 'P_3_348.txt'])"
      ]
     },
     "execution_count": 287,
     "metadata": {},
     "output_type": "execute_result"
    }
   ],
   "source": [
    "names[:5], test_names[:5], brixia_paths[:5], test_brixia_paths[:5]"
   ]
  },
  {
   "cell_type": "code",
   "execution_count": 288,
   "id": "29b575f4",
   "metadata": {},
   "outputs": [
    {
     "data": {
      "text/plain": [
       "(array([1, 0, 0, 0, 1]), array([0, 0, 0, 1, 1]))"
      ]
     },
     "execution_count": 288,
     "metadata": {},
     "output_type": "execute_result"
    }
   ],
   "source": [
    "prognosis[:5], test_prognosis[:5]"
   ]
  },
  {
   "cell_type": "code",
   "execution_count": 289,
   "id": "6c67642b",
   "metadata": {},
   "outputs": [
    {
     "data": {
      "text/plain": [
       "(1103, 486)"
      ]
     },
     "execution_count": 289,
     "metadata": {},
     "output_type": "execute_result"
    }
   ],
   "source": [
    "indices = np.where(np.in1d(names, brixia_paths, assume_unique=True))[0]\n",
    "test_indices = np.where(np.in1d(test_names, test_brixia_paths, assume_unique=True))[0]\n",
    "\n",
    "len(indices), len(test_indices)"
   ]
  },
  {
   "cell_type": "code",
   "execution_count": 290,
   "id": "d50e01d9",
   "metadata": {},
   "outputs": [],
   "source": [
    "mean_severe_brixia_scores = brixia_scores[indices][np.nonzero(prognosis)]\n",
    "mean_mild_brixia_scores = brixia_scores[indices][np.nonzero(1. - prognosis)]\n",
    "\n",
    "\n",
    "test_mean_severe_brixia_scores = test_brixia_scores[test_indices][np.nonzero(test_prognosis)]\n",
    "test_mean_mild_brixia_scores = test_brixia_scores[test_indices][np.nonzero(1. - test_prognosis)]\n",
    "\n",
    "def mean_interpolate(arr):\n",
    "    rescaled = []\n",
    "    for _arr in arr:\n",
    "        out = resize(_arr, (16, 16), preserve_range=True)\n",
    "        rescaled.append(out)\n",
    "    br_map = np.mean(np.array(rescaled), axis=0)\n",
    "    # scale for covariance calc\n",
    "    br_map = (br_map - np.mean(br_map))/np.std(br_map)\n",
    "    return br_map\n",
    "\n",
    "test_mean_severe_brixia_scores = mean_interpolate(test_mean_severe_brixia_scores)\n",
    "test_mean_mild_brixia_scores = mean_interpolate(test_mean_mild_brixia_scores)\n",
    "\n",
    "mean_severe_brixia_scores = mean_interpolate(mean_severe_brixia_scores)\n",
    "mean_mild_brixia_scores = mean_interpolate(mean_mild_brixia_scores)"
   ]
  },
  {
   "cell_type": "code",
   "execution_count": 291,
   "id": "b8d33005",
   "metadata": {},
   "outputs": [
    {
     "data": {
      "image/png": "[encoded data removed]",
      "text/plain": [
       "<Figure size 1152x720 with 12 Axes>"
      ]
     },
     "metadata": {
      "needs_background": "light"
     },
     "output_type": "display_data"
    }
   ],
   "source": [
    "fig, axes = plt.subplots(2, 3, figsize=(16, 10))\n",
    "\n",
    "axes = axes.flatten()\n",
    "\n",
    "cdata = axes[0].imshow(test_mean_severe_brixia_scores, vmin=-1.5, vmax=1.5, interpolation='none', cmap='coolwarm')\n",
    "axes[0].set_title('TEST, SEVERE')\n",
    "cbar = plt.colorbar(cdata, ax=axes[0])\n",
    "cbar.minorticks_on()\n",
    "axes[0].set_xticks([])\n",
    "axes[0].set_yticks([])\n",
    "\n",
    "cdata = axes[1].imshow(test_mean_mild_brixia_scores, vmin=-1.5, vmax=1.5, interpolation='none', cmap='coolwarm')\n",
    "axes[1].set_title('TEST, MILD')\n",
    "cbar = plt.colorbar(cdata, ax=axes[1])\n",
    "cbar.minorticks_on()\n",
    "axes[1].set_xticks([])\n",
    "axes[1].set_yticks([])\n",
    "\n",
    "cdata = axes[2].imshow(test_mean_severe_brixia_scores - test_mean_mild_brixia_scores, vmin=-.1, vmax=.1, interpolation='none', cmap='coolwarm')\n",
    "axes[2].set_title('TEST, SEVERE - MILD')\n",
    "cbar = plt.colorbar(cdata, ax=axes[2])\n",
    "cbar.minorticks_on()\n",
    "axes[2].set_xticks([])\n",
    "axes[2].set_yticks([])\n",
    "\n",
    "cdata = axes[3].imshow(mean_severe_brixia_scores, vmin=-1.5, vmax=1.5, interpolation='none', cmap='coolwarm')\n",
    "axes[3].set_title('VALID, SEVERE')\n",
    "cbar = plt.colorbar(cdata, ax=axes[3])\n",
    "cbar.minorticks_on()\n",
    "axes[3].set_xticks([])\n",
    "axes[3].set_yticks([])\n",
    "\n",
    "cdata = axes[4].imshow(mean_mild_brixia_scores, vmin=-1.5, vmax=1.5, interpolation='none', cmap='coolwarm')\n",
    "axes[4].set_title('VALID, MILD')\n",
    "cbar = plt.colorbar(cdata, ax=axes[4])\n",
    "cbar.minorticks_on()\n",
    "axes[4].set_xticks([])\n",
    "axes[4].set_yticks([])\n",
    "\n",
    "cdata = axes[5].imshow(mean_severe_brixia_scores - mean_mild_brixia_scores, vmin=-.1, vmax=.1, interpolation='none', cmap='coolwarm')\n",
    "axes[5].set_title('VALID, SEVERE - MILD')\n",
    "cbar = plt.colorbar(cdata, ax=axes[5])\n",
    "cbar.minorticks_on()\n",
    "axes[5].set_xticks([])\n",
    "axes[5].set_yticks([])\n",
    "\n",
    "plt.show()"
   ]
  },
  {
   "cell_type": "code",
   "execution_count": 292,
   "id": "0f5c084f",
   "metadata": {},
   "outputs": [],
   "source": [
    "def correlation_study(arr, brixia, cols, threshold=0.0):\n",
    "    for _arr, _col in zip(arr, cols):\n",
    "        corr = np.correlate(_arr.flatten(), brixia.flatten())[0]\n",
    "        if np.abs(corr) > threshold:\n",
    "            print(f\"{_col:25s} : {corr:10.4f}\")"
   ]
  },
  {
   "cell_type": "markdown",
   "id": "b23c6cda",
   "metadata": {},
   "source": [
    "# TEST"
   ]
  },
  {
   "cell_type": "markdown",
   "id": "2a995d2e",
   "metadata": {},
   "source": [
    "### TEST - MILD"
   ]
  },
  {
   "cell_type": "code",
   "execution_count": 294,
   "id": "fc88318c",
   "metadata": {},
   "outputs": [
    {
     "name": "stdout",
     "output_type": "stream",
     "text": [
      "Sex                       :     0.2073\n",
      "PositivityAtAdmission     :     0.2745\n",
      "DaysFever                 :     0.2544\n",
      "Cough                     :     0.3617\n",
      "WBC                       :     0.2639\n",
      "RBC                       :     0.1260\n",
      "CRP                       :     0.2714\n",
      "Fibrinogen                :     0.1282\n",
      "Glucose                   :     0.1340\n",
      "LDH                       :     0.1649\n",
      "SaO2                      :     0.2988\n",
      "PaCO2                     :     0.1387\n",
      "ChronicKidneyDisease      :     0.1257\n"
     ]
    }
   ],
   "source": [
    "correlation_study(test_mean_mild_map, test_mean_mild_brixia_scores, cols, 0.1)"
   ]
  },
  {
   "cell_type": "markdown",
   "id": "b4c25935",
   "metadata": {},
   "source": [
    "### TEST - SEVERE"
   ]
  },
  {
   "cell_type": "code",
   "execution_count": 295,
   "id": "6599880c",
   "metadata": {},
   "outputs": [
    {
     "name": "stdout",
     "output_type": "stream",
     "text": [
      "Cough                     :     0.1545\n",
      "Cancer                    :     0.2202\n"
     ]
    }
   ],
   "source": [
    "correlation_study(test_mean_severe_map, test_mean_severe_brixia_scores, cols, 0.1)"
   ]
  },
  {
   "cell_type": "markdown",
   "id": "a0072cad",
   "metadata": {},
   "source": [
    "### TEST, SEVERE - MILD"
   ]
  },
  {
   "cell_type": "code",
   "execution_count": 296,
   "id": "8124dc29",
   "metadata": {},
   "outputs": [
    {
     "name": "stdout",
     "output_type": "stream",
     "text": [
      "WBC                       :     0.0025\n",
      "SaO2                      :     0.0052\n",
      "PaCO2                     :     0.0041\n",
      "CardiovascularDisease     :    -0.0027\n",
      "IschemicHeartDisease      :    -0.0031\n",
      "HighBloodPressure         :    -0.0027\n",
      "Diabetes                  :    -0.0031\n",
      "BPCO                      :    -0.0035\n",
      "Cancer                    :    -0.0054\n",
      "Position                  :    -0.0032\n"
     ]
    }
   ],
   "source": [
    "correlation_study(test_mean_severe_map - test_mean_mild_map,\n",
    "                  test_mean_severe_brixia_scores - test_mean_mild_brixia_scores,\n",
    "                  cols, 0.0025)"
   ]
  },
  {
   "cell_type": "markdown",
   "id": "9843b71b",
   "metadata": {},
   "source": [
    "# VALID"
   ]
  },
  {
   "cell_type": "markdown",
   "id": "d482be9a",
   "metadata": {},
   "source": [
    "## VALID - MILD"
   ]
  },
  {
   "cell_type": "code",
   "execution_count": 300,
   "id": "449b7e2d",
   "metadata": {},
   "outputs": [
    {
     "name": "stdout",
     "output_type": "stream",
     "text": [
      "Sex                       :     0.2252\n",
      "PositivityAtAdmission     :     0.2303\n",
      "DaysFever                 :     0.3021\n",
      "Cough                     :     0.3631\n",
      "WBC                       :     0.2902\n",
      "RBC                       :     0.1753\n",
      "CRP                       :     0.2851\n",
      "Fibrinogen                :     0.1486\n",
      "Glucose                   :     0.1637\n",
      "PCT                       :     0.1238\n",
      "LDH                       :     0.1700\n",
      "INR                       :     0.1538\n",
      "SaO2                      :     0.3424\n",
      "PaCO2                     :     0.2059\n",
      "ChronicKidneyDisease      :     0.1336\n"
     ]
    }
   ],
   "source": [
    "correlation_study(mean_mild_map, mean_mild_brixia_scores, cols, 0.1)"
   ]
  },
  {
   "cell_type": "markdown",
   "id": "cdaade4d",
   "metadata": {},
   "source": [
    "## VALID - SEVERE"
   ]
  },
  {
   "cell_type": "code",
   "execution_count": 301,
   "id": "e8dbba65",
   "metadata": {},
   "outputs": [
    {
     "name": "stdout",
     "output_type": "stream",
     "text": [
      "Cough                     :     0.1099\n",
      "Diabetes                  :     0.1026\n",
      "Cancer                    :     0.2647\n",
      "Obesity                   :     0.1121\n"
     ]
    }
   ],
   "source": [
    "correlation_study(mean_severe_map, mean_severe_brixia_scores, cols, 0.1)"
   ]
  },
  {
   "cell_type": "markdown",
   "id": "fae2a26c",
   "metadata": {},
   "source": [
    "## VALID, SEVERE - MILD"
   ]
  },
  {
   "cell_type": "code",
   "execution_count": 308,
   "id": "2a98bc1a",
   "metadata": {},
   "outputs": [
    {
     "name": "stdout",
     "output_type": "stream",
     "text": [
      "DaysFever                 :     0.0029\n",
      "Cough                     :     0.0029\n",
      "WBC                       :     0.0026\n",
      "SaO2                      :     0.0046\n",
      "PaCO2                     :     0.0034\n"
     ]
    }
   ],
   "source": [
    "correlation_study(mean_severe_map - mean_mild_map,\n",
    "                  mean_severe_brixia_scores - mean_mild_brixia_scores,\n",
    "                  cols, 0.0025)"
   ]
  },
  {
   "cell_type": "code",
   "execution_count": 312,
   "id": "9968b461",
   "metadata": {},
   "outputs": [
    {
     "name": "stdout",
     "output_type": "stream",
     "text": [
      "Sex                       :     0.5122\n",
      "PositivityAtAdmission     :     0.3325\n",
      "DaysFever                 :     0.6955\n",
      "Cough                     :     0.9432\n",
      "WBC                       :     0.6099\n",
      "RBC                       :     0.3832\n",
      "CRP                       :     0.6610\n",
      "Fibrinogen                :     0.3021\n",
      "Glucose                   :     0.4101\n",
      "LDH                       :     0.3425\n",
      "SaO2                      :     0.7914\n",
      "PaCO2                     :     0.3626\n",
      "Cancer                    :     0.3689\n",
      "ChronicKidneyDisease      :     0.4060\n"
     ]
    }
   ],
   "source": [
    "###\n",
    "correlation_study(mean_severe_map + mean_mild_map,\n",
    "                  mean_severe_brixia_scores + mean_mild_brixia_scores,\n",
    "                  cols, 0.3)"
   ]
  },
  {
   "cell_type": "code",
   "execution_count": null,
   "id": "423d1a19",
   "metadata": {},
   "outputs": [],
   "source": []
  }
 ],
 "metadata": {
  "kernelspec": {
   "display_name": "Python 3",
   "language": "python",
   "name": "python3"
  },
  "language_info": {
   "codemirror_mode": {
    "name": "ipython",
    "version": 3
   },
   "file_extension": ".py",
   "mimetype": "text/x-python",
   "name": "python",
   "nbconvert_exporter": "python",
   "pygments_lexer": "ipython3",
   "version": "3.6.13"
  }
 },
 "nbformat": 4,
 "nbformat_minor": 5
}
