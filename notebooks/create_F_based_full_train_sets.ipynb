{
 "cells": [
  {
   "cell_type": "code",
   "execution_count": 2,
   "id": "bc18576c",
   "metadata": {},
   "outputs": [],
   "source": [
    "import pandas as pd\n",
    "from pathlib import Path"
   ]
  },
  {
   "cell_type": "code",
   "execution_count": 16,
   "id": "9bce9fa9",
   "metadata": {},
   "outputs": [],
   "source": [
    "paths = list(Path(\"/home/qbeer/GitHub/ai4covid/data/preprocessed_data/tables\").glob('*'))\n",
    "for path in paths:\n",
    "    if Path(path).is_dir():\n",
    "        imp_train_csvs = path.glob('*Imputed*')\n",
    "        for imputed in imp_train_csvs:\n",
    "            if \"_cv\" not in str(imputed) and \"train\" in str(imputed) and \"_F\" not in str(imputed):\n",
    "                df = pd.read_csv(imputed)\n",
    "                sub_df = df[df[\"Hospital_F\"] == 1]\n",
    "                sub_df.to_csv(str(imputed).replace('.csv', '_F.csv'))"
   ]
  },
  {
   "cell_type": "code",
   "execution_count": null,
   "id": "20dbf695",
   "metadata": {},
   "outputs": [],
   "source": []
  }
 ],
 "metadata": {
  "kernelspec": {
   "display_name": "Python 3",
   "language": "python",
   "name": "python3"
  },
  "language_info": {
   "codemirror_mode": {
    "name": "ipython",
    "version": 3
   },
   "file_extension": ".py",
   "mimetype": "text/x-python",
   "name": "python",
   "nbconvert_exporter": "python",
   "pygments_lexer": "ipython3",
   "version": "3.6.13"
  }
 },
 "nbformat": 4,
 "nbformat_minor": 5
}
