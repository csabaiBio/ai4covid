{
 "cells": [
  {
   "cell_type": "code",
   "execution_count": 1,
   "id": "93d5f451",
   "metadata": {},
   "outputs": [],
   "source": [
    "import os\n",
    "import glob\n",
    "import pandas as pd\n",
    "from pathlib import Path\n",
    "from scipy import stats\n",
    "from sklearn.metrics import balanced_accuracy_score\n",
    "import numpy as np"
   ]
  },
  {
   "cell_type": "code",
   "execution_count": 5,
   "id": "1f7351a5",
   "metadata": {},
   "outputs": [],
   "source": [
    "def run_cv_analysis(base_path):\n",
    "    paths = list(filter(lambda x: x is not None, [path if path.is_dir() else None for path in\\\n",
    "         Path(base_path).iterdir()]))\n",
    "\n",
    "    file = pd.read_csv(paths[0] / 'pred.csv').file\n",
    "\n",
    "    cols = [\"file\"]\n",
    "    cols.extend([f\"prognosis_{ind}\"for ind in range(len(list(paths)))])\n",
    "    preds = pd.DataFrame(columns=cols)\n",
    "\n",
    "    preds[\"file\"] = file\n",
    "\n",
    "    for ind, path_dir in enumerate(paths):\n",
    "        pred = pd.read_csv(path_dir / 'pred.csv')\n",
    "        preds[f\"prognosis_{ind}\"] = pred.prognosis\n",
    "        \n",
    "    modes = stats.mode(preds.values[:, 1:], axis=1)[0]\n",
    "    preds[\"mode_prognosis\"] = modes\n",
    "    \n",
    "    preds.to_csv(os.path.join(base_path, 'mode_preds.csv'),\n",
    "             index=False, columns=[\"file\", \"mode_prognosis\"])\n",
    "\n",
    "    preds['mode_prognosis'].replace('SEVERE', 1, inplace=True)\n",
    "    preds['mode_prognosis'].replace('MILD', 0, inplace=True)\n",
    "\n",
    "    for ind, path_dir in enumerate(paths):\n",
    "        preds[f\"prognosis_{ind}\"].replace('SEVERE', 1, inplace=True)\n",
    "        preds[f\"prognosis_{ind}\"].replace('MILD', 0, inplace=True)\n",
    "        \n",
    "    test_raw_df = pd.read_excel('/mnt/ncshare/ai4covid_hackathon/raw_data/completeTestClinData.xls')\n",
    "    test_raw_df = test_raw_df[ ['ImageFile', 'Prognosis'] ]\n",
    "    test_raw_df.Prognosis.replace('SEVERE', 1, inplace=True)\n",
    "    test_raw_df.Prognosis.replace('MILD', 0, inplace=True)\n",
    "    test_raw_df.head()\n",
    "    \n",
    "    scores = []\n",
    "\n",
    "    for ind, path_dir in enumerate(paths):\n",
    "        scores.append(balanced_accuracy_score(test_raw_df.Prognosis, preds[f\"prognosis_{ind}\"]))\n",
    "        \n",
    "    bs_scores = []\n",
    "    for _ in range(1_000): # 1000 bootstraps\n",
    "        indicies = np.random.choice(list(range(len(test_raw_df.Prognosis.values))),\n",
    "                                   size=len(test_raw_df.Prognosis.values), replace=True)\n",
    "        bs_scores.append(balanced_accuracy_score(test_raw_df.Prognosis.values[indicies],\n",
    "                                                preds[\"mode_prognosis\"].values[indicies]))\n",
    "\n",
    "    print('Balanced accuracy score (CV):\\t', np.mean(scores), '+/-', np.std(scores))\n",
    "    print('Balanced accuracy score (mode):\\t', np.mean(bs_scores), '+/-', np.std(bs_scores))"
   ]
  },
  {
   "cell_type": "code",
   "execution_count": 6,
   "id": "b01fc513",
   "metadata": {},
   "outputs": [
    {
     "name": "stdout",
     "output_type": "stream",
     "text": [
      "Balanced accuracy score (CV):\t 0.7078022875816994 +/- 0.021456113431867808\n",
      "Balanced accuracy score (mode):\t 0.7494314737289155 +/- 0.020599515014316942\n"
     ]
    }
   ],
   "source": [
    "## ORIGINAL COMPETITION SUBMISSION --> trained on full training set, many more models to reduce variance in pred.\n",
    "run_cv_analysis('/mnt/ncshare/ai4covid_hackathon/raw_output/checkpoints/ENSEMBLE/')"
   ]
  },
  {
   "cell_type": "code",
   "execution_count": 7,
   "id": "9c605e65",
   "metadata": {},
   "outputs": [
    {
     "name": "stdout",
     "output_type": "stream",
     "text": [
      "Balanced accuracy score (CV):\t 0.7243464052287582 +/- 0.017661577179603757\n",
      "Balanced accuracy score (mode):\t 0.7342137307936832 +/- 0.01978346874623485\n"
     ]
    }
   ],
   "source": [
    "## PAPER CHKPT, with early stopping enabled --> on a single model basis, better than the first one\n",
    "run_cv_analysis('/mnt/ncshare/ai4covid_hackathon/raw_output/checkpoints/CROSS_VAL_paper_v1_w_ES/')"
   ]
  },
  {
   "cell_type": "code",
   "execution_count": null,
   "id": "5b1245a2",
   "metadata": {},
   "outputs": [],
   "source": []
  },
  {
   "cell_type": "code",
   "execution_count": null,
   "id": "2b394b5d",
   "metadata": {},
   "outputs": [],
   "source": []
  }
 ],
 "metadata": {
  "kernelspec": {
   "display_name": "Python 3",
   "language": "python",
   "name": "python3"
  },
  "language_info": {
   "codemirror_mode": {
    "name": "ipython",
    "version": 3
   },
   "file_extension": ".py",
   "mimetype": "text/x-python",
   "name": "python",
   "nbconvert_exporter": "python",
   "pygments_lexer": "ipython3",
   "version": "3.6.13"
  }
 },
 "nbformat": 4,
 "nbformat_minor": 5
}
