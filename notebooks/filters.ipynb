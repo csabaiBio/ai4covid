{
 "cells": [
  {
   "cell_type": "code",
   "execution_count": 7,
   "id": "a85a81b4",
   "metadata": {},
   "outputs": [],
   "source": [
    "import os\n",
    "from pathlib import Path\n",
    "\n",
    "import numpy as np\n",
    "import omegaconf\n",
    "import pandas as pd\n",
    "import tensorflow as tf\n",
    "\n",
    "import keras\n",
    "\n",
    "import sys\n",
    "sys.path.append('../')\n",
    "\n",
    "os.environ[\"CUDA_VISIBLE_DEVICES\"] = \"-1\"\n",
    "\n",
    "from src.base_model import build_model\n",
    "from src.data import generate_data, generate_test_data"
   ]
  },
  {
   "cell_type": "code",
   "execution_count": 46,
   "id": "83b6f97c",
   "metadata": {},
   "outputs": [
    {
     "name": "stdout",
     "output_type": "stream",
     "text": [
      "Model: \"model_3\"\n",
      "__________________________________________________________________________________________________\n",
      "Layer (type)                    Output Shape         Param #     Connected to                     \n",
      "==================================================================================================\n",
      "fourier (InputLayer)            [(None, 454, 454, 1) 0                                            \n",
      "__________________________________________________________________________________________________\n",
      "conv2d_15 (Conv2D)              (None, 224, 224, 16) 800         fourier[0][0]                    \n",
      "__________________________________________________________________________________________________\n",
      "fourier_bn1 (BatchNormalization (None, 224, 224, 16) 64          conv2d_15[0][0]                  \n",
      "__________________________________________________________________________________________________\n",
      "conv2d_16 (Conv2D)              (None, 111, 111, 32) 4640        fourier_bn1[0][0]                \n",
      "__________________________________________________________________________________________________\n",
      "fourier_bn2 (BatchNormalization (None, 111, 111, 32) 128         conv2d_16[0][0]                  \n",
      "__________________________________________________________________________________________________\n",
      "meta (InputLayer)               [(None, 41)]         0                                            \n",
      "__________________________________________________________________________________________________\n",
      "brixia (InputLayer)             [(None, 6)]          0                                            \n",
      "__________________________________________________________________________________________________\n",
      "conv2d_17 (Conv2D)              (None, 55, 55, 64)   18496       fourier_bn2[0][0]                \n",
      "__________________________________________________________________________________________________\n",
      "meta_and_brixia (Concatenate)   (None, 47)           0           meta[0][0]                       \n",
      "                                                                 brixia[0][0]                     \n",
      "__________________________________________________________________________________________________\n",
      "fourier_bn3 (BatchNormalization (None, 55, 55, 64)   256         conv2d_17[0][0]                  \n",
      "__________________________________________________________________________________________________\n",
      "dense_15 (Dense)                (None, 64)           3072        meta_and_brixia[0][0]            \n",
      "__________________________________________________________________________________________________\n",
      "conv2d_18 (Conv2D)              (None, 27, 27, 128)  73856       fourier_bn3[0][0]                \n",
      "__________________________________________________________________________________________________\n",
      "meta_bn1 (BatchNormalization)   (None, 64)           256         dense_15[0][0]                   \n",
      "__________________________________________________________________________________________________\n",
      "fourier_bn4 (BatchNormalization (None, 27, 27, 128)  512         conv2d_18[0][0]                  \n",
      "__________________________________________________________________________________________________\n",
      "dense_16 (Dense)                (None, 128)          8320        meta_bn1[0][0]                   \n",
      "__________________________________________________________________________________________________\n",
      "image (InputLayer)              [(None, 454, 454, 1) 0                                            \n",
      "__________________________________________________________________________________________________\n",
      "mask (InputLayer)               [(None, 454, 454, 1) 0                                            \n",
      "__________________________________________________________________________________________________\n",
      "conv2d_19 (Conv2D)              (None, 13, 13, 256)  295168      fourier_bn4[0][0]                \n",
      "__________________________________________________________________________________________________\n",
      "meta_bn2 (BatchNormalization)   (None, 128)          512         dense_16[0][0]                   \n",
      "__________________________________________________________________________________________________\n",
      "concat_inputs (Concatenate)     (None, 454, 454, 2)  0           image[0][0]                      \n",
      "                                                                 mask[0][0]                       \n",
      "__________________________________________________________________________________________________\n",
      "fourier_bn5 (BatchNormalization (None, 13, 13, 256)  1024        conv2d_19[0][0]                  \n",
      "__________________________________________________________________________________________________\n",
      "dense_17 (Dense)                (None, 256)          33024       meta_bn2[0][0]                   \n",
      "__________________________________________________________________________________________________\n",
      "resnet50 (Functional)           (None, 2048)         23584576    concat_inputs[0][0]              \n",
      "__________________________________________________________________________________________________\n",
      "fourier_avg_pool (GlobalAverage (None, 256)          0           fourier_bn5[0][0]                \n",
      "__________________________________________________________________________________________________\n",
      "meta_bn3 (BatchNormalization)   (None, 256)          1024        dense_17[0][0]                   \n",
      "__________________________________________________________________________________________________\n",
      "concat_heads (Concatenate)      (None, 2560)         0           resnet50[0][0]                   \n",
      "                                                                 fourier_avg_pool[0][0]           \n",
      "                                                                 meta_bn3[0][0]                   \n",
      "__________________________________________________________________________________________________\n",
      "dense_18 (Dense)                (None, 256)          655616      concat_heads[0][0]               \n",
      "__________________________________________________________________________________________________\n",
      "head_bn1 (BatchNormalization)   (None, 256)          1024        dense_18[0][0]                   \n",
      "__________________________________________________________________________________________________\n",
      "dropout_3 (Dropout)             (None, 256)          0           head_bn1[0][0]                   \n",
      "__________________________________________________________________________________________________\n",
      "dense_19 (Dense)                (None, 64)           16448       dropout_3[0][0]                  \n",
      "__________________________________________________________________________________________________\n",
      "head_bn2 (BatchNormalization)   (None, 64)           256         dense_19[0][0]                   \n",
      "__________________________________________________________________________________________________\n",
      "unnormalized_output (Dense)     (None, 4)            260         head_bn2[0][0]                   \n",
      "__________________________________________________________________________________________________\n",
      "outputs (Lambda)                [(None, 2), (None, 2 0           unnormalized_output[0][0]        \n",
      "__________________________________________________________________________________________________\n",
      "prognosis_out (Softmax)         (None, 2)            0           outputs[0][0]                    \n",
      "==================================================================================================\n",
      "Total params: 24,699,332\n",
      "Trainable params: 24,643,684\n",
      "Non-trainable params: 55,648\n",
      "__________________________________________________________________________________________________\n"
     ]
    }
   ],
   "source": [
    "chkpt_dir = \"/home/qbeer/GitHub/ai4covid/data/raw_output/checkpoints/2022-02-24_15:16:44.629240\"\n",
    "\n",
    "config_path = Path(chkpt_dir) / \"config.yaml\"\n",
    "config = omegaconf.OmegaConf.load(config_path)\n",
    "\n",
    "model = build_model(config=config)\n",
    "\n",
    "checkpoint_path = Path(chkpt_dir) / \"cp.ckpt\"\n",
    "model.load_weights(checkpoint_path).expect_partial()\n",
    "\n",
    "prediction_model = tf.keras.models.Model(\n",
    "    [\n",
    "        model.get_layer(name=\"image\").input,\n",
    "        model.get_layer(name=\"fourier\").input,\n",
    "        model.get_layer(name=\"brixia\").input,\n",
    "        model.get_layer(name=\"mask\").input,\n",
    "        model.get_layer(name=\"meta\").input,\n",
    "    ],\n",
    "    model.get_layer(name=\"prognosis_out\").output,\n",
    ")\n",
    "\n",
    "prediction_model.summary()"
   ]
  },
  {
   "cell_type": "code",
   "execution_count": 47,
   "id": "fe8d46ef",
   "metadata": {},
   "outputs": [
    {
     "name": "stdout",
     "output_type": "stream",
     "text": [
      "{'name': 'conv1_conv', 'trainable': True, 'dtype': 'float32', 'filters': 64, 'kernel_size': (7, 7), 'strides': (2, 2), 'padding': 'valid', 'data_format': 'channels_last', 'dilation_rate': (1, 1), 'groups': 1, 'activation': 'linear', 'use_bias': True, 'kernel_initializer': {'class_name': 'GlorotUniform', 'config': {'seed': None}}, 'bias_initializer': {'class_name': 'Zeros', 'config': {}}, 'kernel_regularizer': None, 'bias_regularizer': None, 'activity_regularizer': None, 'kernel_constraint': None, 'bias_constraint': None}\n",
      "(7, 7, 64)\n"
     ]
    }
   ],
   "source": [
    "for layer in prediction_model.layers:\n",
    "    if type(layer) == keras.engine.functional.Functional:\n",
    "        for lay in layer.layers:\n",
    "            if type(lay) == tf.keras.layers.Conv2D:\n",
    "                break\n",
    "        first_conv = lay\n",
    "        print(first_conv.get_config())\n",
    "        for weight in first_conv.get_weights():\n",
    "            # only image filters\n",
    "            image_filters = weight[:, :, 0, :]\n",
    "            print(image_filters.shape)\n",
    "            break"
   ]
  },
  {
   "cell_type": "code",
   "execution_count": 48,
   "id": "1f982b5a",
   "metadata": {},
   "outputs": [],
   "source": [
    "import matplotlib.pyplot as plt"
   ]
  },
  {
   "cell_type": "code",
   "execution_count": 49,
   "id": "b5751578",
   "metadata": {},
   "outputs": [
    {
     "data": {
      "image/png": "[encoded data removed]",
      "text/plain": [
       "<Figure size 1080x1080 with 25 Axes>"
      ]
     },
     "metadata": {},
     "output_type": "display_data"
    }
   ],
   "source": [
    "_, axes = plt.subplots(5, 5, sharex=True, sharey=True, figsize=(15, 15))\n",
    "\n",
    "for ind, ax in enumerate(axes.flatten()):\n",
    "    ax.imshow(image_filters[:, :, ind].reshape(7, 7), cmap='gray', interpolation=None)\n",
    "    ax.set_xticks([])\n",
    "    ax.set_yticks([])"
   ]
  },
  {
   "cell_type": "code",
   "execution_count": null,
   "id": "09a8909f",
   "metadata": {},
   "outputs": [],
   "source": []
  }
 ],
 "metadata": {
  "kernelspec": {
   "display_name": "Python 3",
   "language": "python",
   "name": "python3"
  },
  "language_info": {
   "codemirror_mode": {
    "name": "ipython",
    "version": 3
   },
   "file_extension": ".py",
   "mimetype": "text/x-python",
   "name": "python",
   "nbconvert_exporter": "python",
   "pygments_lexer": "ipython3",
   "version": "3.6.13"
  }
 },
 "nbformat": 4,
 "nbformat_minor": 5
}
