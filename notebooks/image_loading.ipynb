{
 "cells": [
  {
   "cell_type": "code",
   "execution_count": 2,
   "id": "758a14fa-6f47-4f97-8a10-ca8d104a11b6",
   "metadata": {},
   "outputs": [],
   "source": [
    "def load_image(filename):\n",
    "    image = Image.open(filename)\n",
    "    image = np.\n",
    "    image = np.clip(image, 0, 4095)\n",
    "    return np.array(image)\n",
    "\n",
    "def process_raw_image(image):\n",
    "    mode = stats.mode(image, None)[0][0]\n",
    "    vert = np.all(image[:, image.shape[1]//2-5:image.shape[1]//2+5] != mode, axis=1)\n",
    "    horiz = np.all(image[image.shape[0]//2-5:image.shape[0]//2+5, :] != mode, axis=0)\n",
    "    image = image[vert][:,horiz]\n",
    "    return image\n",
    " \n",
    "def is_inverted(image, corner_ratio=0.2, center_ratio=0.01, bottom=True):\n",
    "    height, width = image.shape\n",
    "    corner_size = (int(height*corner_ratio), int(width*corner_ratio))\n",
    "    tl = image[:corner_size[0], :corner_size[1]].flatten()\n",
    "    bl = image[-corner_size[0]:, :corner_size[1]].flatten()\n",
    "    tr = image[:corner_size[0], -corner_size[1]:].flatten()\n",
    "    br = image[-corner_size[0]:, -corner_size[1]:].flatten()\n",
    "    if bottom:\n",
    "        corners = np.hstack([tl, bl, tr, br])\n",
    "    else:\n",
    "        corners = np.hstack([tl, tr])\n",
    "            \n",
    "    center = image[\n",
    "        int(height*(0.5-center_ratio)):int(height*(0.5+center_ratio)),\n",
    "        int(width*(0.5-center_ratio)):int(width*(0.5+center_ratio))\n",
    "    ]\n",
    "    return center.mean() < corners.mean()"
   ]
  },
  {
   "cell_type": "code",
   "execution_count": null,
   "id": "255c61df-f43f-4beb-896f-085eccad9002",
   "metadata": {},
   "outputs": [],
   "source": []
  }
 ],
 "metadata": {
  "kernelspec": {
   "display_name": "Python 3 (ipykernel)",
   "language": "python",
   "name": "python3"
  },
  "language_info": {
   "codemirror_mode": {
    "name": "ipython",
    "version": 3
   },
   "file_extension": ".py",
   "mimetype": "text/x-python",
   "name": "python",
   "nbconvert_exporter": "python",
   "pygments_lexer": "ipython3",
   "version": "3.9.6"
  }
 },
 "nbformat": 4,
 "nbformat_minor": 5
}
