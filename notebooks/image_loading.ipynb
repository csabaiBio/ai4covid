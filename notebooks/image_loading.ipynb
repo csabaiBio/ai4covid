{
 "cells": [
  {
   "cell_type": "code",
   "execution_count": 2,
   "id": "12910d74-9a40-4cb3-907c-e286643d6e19",
   "metadata": {},
   "outputs": [],
   "source": [
    "import numpy as np\n",
    "import cv2\n",
    "from skimage import exposure"
   ]
  },
  {
   "cell_type": "code",
   "execution_count": 3,
   "id": "758a14fa-6f47-4f97-8a10-ca8d104a11b6",
   "metadata": {},
   "outputs": [],
   "source": [
    "def load_image(filename):\n",
    "    image = cv2.imread(filename, cv2.IMREAD_ANYDEPTH)\n",
    "    return image\n",
    " \n",
    "def is_inverted(image, corner_ratio=0.2, center_ratio=0.01, bottom=True):\n",
    "    height, width = image.shape\n",
    "    corner_size = (int(height*corner_ratio), int(width*corner_ratio))\n",
    "    tl = image[:corner_size[0], :corner_size[1]].flatten()\n",
    "    bl = image[-corner_size[0]:, :corner_size[1]].flatten()\n",
    "    tr = image[:corner_size[0], -corner_size[1]:].flatten()\n",
    "    br = image[-corner_size[0]:, -corner_size[1]:].flatten()\n",
    "    if bottom:\n",
    "        corners = np.hstack([tl, bl, tr, br])\n",
    "    else:\n",
    "        corners = np.hstack([tl, tr])\n",
    "            \n",
    "    center = image[\n",
    "        int(height*(0.5-center_ratio)):int(height*(0.5+center_ratio)),\n",
    "        int(width*(0.5-center_ratio)):int(width*(0.5+center_ratio))\n",
    "    ]\n",
    "    return center.mean() < corners.mean()"
   ]
  },
  {
   "cell_type": "markdown",
   "id": "9e209ed1-8c0b-4a25-a74e-9234d7e33d35",
   "metadata": {},
   "source": [
    "### ideas for cutting the frame"
   ]
  },
  {
   "cell_type": "code",
   "execution_count": null,
   "id": "255c61df-f43f-4beb-896f-085eccad9002",
   "metadata": {},
   "outputs": [],
   "source": [
    "def cut_frames(image, max_frame_ratio=0.2):\n",
    "    height, width = image.shape\n",
    "    img = image[:, int(width*max_frame_ratio):int(width*(1-max_frame_ratio))]\n",
    "    vert_mask = img.mean(1)*0.01 > np.abs(np.mean(img - img.mean(1)[:, None],1))\n",
    "    img = image[int(height*max_frame_ratio):int(height*(1-max_frame_ratio))]\n",
    "    horiz_mask = img.mean(0)*0.01 > np.abs(np.mean(img - img.mean(0),0))\n",
    "    return image[vert_mask][:, horiz_mask]\n",
    "\n",
    "def cut_frames2(image, max_frame_ratio=0.2, mode_threshold = 0.2):\n",
    "    height, width = image.shape\n",
    "    vert_mask = stats.mode(image, axis=1)[1].flatten() < width * mode_threshold\n",
    "    horiz_mask = stats.mode(image, axis=0)[1].flatten() < height * mode_threshold\n",
    "    print(horiz_mask)\n",
    "    return image[vert_mask][:, horiz_mask]"
   ]
  },
  {
   "cell_type": "markdown",
   "id": "4db2f226-c319-4659-aacb-a036eea3e1d1",
   "metadata": {},
   "source": [
    "def normalize(image):\n",
    "    return "
   ]
  },
  {
   "cell_type": "code",
   "execution_count": null,
   "id": "756e166e-400f-4bd4-b20c-4f42a546bcff",
   "metadata": {},
   "outputs": [],
   "source": []
  }
 ],
 "metadata": {
  "kernelspec": {
   "display_name": "Python 3 (ipykernel)",
   "language": "python",
   "name": "python3"
  },
  "language_info": {
   "codemirror_mode": {
    "name": "ipython",
    "version": 3
   },
   "file_extension": ".py",
   "mimetype": "text/x-python",
   "name": "python",
   "nbconvert_exporter": "python",
   "pygments_lexer": "ipython3",
   "version": "3.9.6"
  }
 },
 "nbformat": 4,
 "nbformat_minor": 5
}
