{
 "cells": [
  {
   "cell_type": "code",
   "execution_count": 104,
   "id": "2e667e1c",
   "metadata": {
    "scrolled": true
   },
   "outputs": [
    {
     "data": {
      "text/html": [
       "<style>.container { width:100% !important; }</style>"
      ],
      "text/plain": [
       "<IPython.core.display.HTML object>"
      ]
     },
     "metadata": {},
     "output_type": "display_data"
    }
   ],
   "source": [
    "from IPython.display import display, HTML\n",
    "display(HTML(\"<style>.container { width:100% !important; }</style>\"))"
   ]
  },
  {
   "cell_type": "code",
   "execution_count": 105,
   "id": "fd9d0998",
   "metadata": {
    "scrolled": true
   },
   "outputs": [],
   "source": [
    "import numpy as np\n",
    "import pandas as pd\n",
    "import seaborn as sns\n",
    "import matplotlib.pyplot as plt\n",
    "from collections import Counter\n",
    "import plotly.express as px\n",
    "import math\n",
    "import os\n",
    "\n",
    "from sklearn import metrics, model_selection\n",
    "from sklearn.preprocessing import scale, normalize\n",
    "from sklearn import datasets, cluster\n",
    "from sklearn import neighbors, ensemble, tree, linear_model\n",
    "from xgboost import XGBClassifier\n",
    "from sklearn.model_selection import train_test_split\n",
    "from sklearn.feature_selection import RFE\n",
    "from sklearn import linear_model\n",
    "from sklearn import svm\n",
    "from sklearn.ensemble import GradientBoostingClassifier, RandomForestClassifier\n",
    "\n",
    "import warnings\n",
    "warnings.filterwarnings('ignore')\n",
    "\n",
    "from hydra import initialize, compose\n",
    "\n",
    "import tensorflow as tf\n",
    "from tensorflow import keras\n",
    "from tensorflow.keras import layers\n",
    "from tensorflow.keras.layers import (\n",
    "    BatchNormalization,\n",
    "    Concatenate,\n",
    "    Conv2D,\n",
    "    Dense,\n",
    "    Dropout,\n",
    "    Flatten,\n",
    "    GlobalAveragePooling2D,\n",
    "    Input,\n",
    "    Lambda,\n",
    "    Softmax,\n",
    ")"
   ]
  },
  {
   "cell_type": "raw",
   "id": "9f1a83d8",
   "metadata": {},
   "source": [
    "physical_devices = tf.config.list_physical_devices(\"GPU\")\n",
    "tf.config.experimental.set_memory_growth(physical_devices[0:1], True)"
   ]
  },
  {
   "cell_type": "code",
   "execution_count": 3,
   "id": "a8c7dbe6",
   "metadata": {},
   "outputs": [],
   "source": [
    "physical_devices = tf.config.experimental.list_physical_devices('GPU')\n",
    "if len(physical_devices) > 0:\n",
    "    tf.config.set_visible_devices(physical_devices[0:1], 'GPU')"
   ]
  },
  {
   "cell_type": "code",
   "execution_count": 4,
   "id": "cec191a4",
   "metadata": {},
   "outputs": [],
   "source": [
    "tf.config.experimental.set_virtual_device_configuration( \n",
    "    physical_devices[0], \n",
    "    [tf.config.experimental.VirtualDeviceConfiguration(memory_limit=2048)] )"
   ]
  },
  {
   "cell_type": "markdown",
   "id": "f1720ed8",
   "metadata": {},
   "source": [
    "### Locate and choose config files"
   ]
  },
  {
   "cell_type": "code",
   "execution_count": 5,
   "id": "d45d57f3",
   "metadata": {},
   "outputs": [
    {
     "data": {
      "text/plain": [
       "hydra.initialize()"
      ]
     },
     "execution_count": 5,
     "metadata": {},
     "output_type": "execute_result"
    }
   ],
   "source": [
    "initialize('../src/conf/') # Assume the configuration file is in the current folder"
   ]
  },
  {
   "cell_type": "code",
   "execution_count": 6,
   "id": "99d6eed1",
   "metadata": {},
   "outputs": [],
   "source": [
    "cfg = compose(config_name='train.yaml')"
   ]
  },
  {
   "cell_type": "code",
   "execution_count": 7,
   "id": "7247956f",
   "metadata": {},
   "outputs": [
    {
     "data": {
      "text/plain": [
       "dict_keys(['project', 'segmentation_base_path', 'preprocessed_image_base_path', 'fourier_base_path', 'brixia_score_base_path', 'raw_output_base', 'img_size', 'backbone', 'last_dense_size', 'batch_size', 'epochs', 'learning_rate', 'steps_per_epoch', 'death_rate', 'visualize', 'augment', 'cross_val_train', 'n_folds', 'dataset_identifier', 'datasets'])"
      ]
     },
     "execution_count": 7,
     "metadata": {},
     "output_type": "execute_result"
    }
   ],
   "source": [
    "cfg.keys()"
   ]
  },
  {
   "cell_type": "markdown",
   "id": "b838ee87",
   "metadata": {},
   "source": [
    "#### paths for image based models"
   ]
  },
  {
   "cell_type": "code",
   "execution_count": 8,
   "id": "79aa5716",
   "metadata": {
    "scrolled": true
   },
   "outputs": [
    {
     "data": {
      "text/plain": [
       "('/mnt/ncshare/ai4covid_hackathon/preprocessed_data/train/aligned',\n",
       " '/mnt/ncshare/ai4covid_hackathon/preprocessed_data/train/fourier_2d',\n",
       " '/mnt/ncshare/ai4covid_hackathon/preprocessed_data/train/segmented')"
      ]
     },
     "execution_count": 8,
     "metadata": {},
     "output_type": "execute_result"
    }
   ],
   "source": [
    "cfg.preprocessed_image_base_path, cfg.fourier_base_path, cfg.segmentation_base_path"
   ]
  },
  {
   "cell_type": "markdown",
   "id": "92600571",
   "metadata": {},
   "source": [
    "#### paths for dataframe based models"
   ]
  },
  {
   "cell_type": "code",
   "execution_count": 9,
   "id": "93e9fdfa",
   "metadata": {},
   "outputs": [
    {
     "data": {
      "text/plain": [
       "'/mnt/ncshare/ai4covid_hackathon/preprocessed_data/train/score_original'"
      ]
     },
     "execution_count": 9,
     "metadata": {},
     "output_type": "execute_result"
    }
   ],
   "source": [
    "cfg.brixia_score_base_path"
   ]
  },
  {
   "cell_type": "code",
   "execution_count": 10,
   "id": "5a1e1930",
   "metadata": {},
   "outputs": [
    {
     "data": {
      "text/plain": [
       "dict_keys(['population_average', 'population_sampled', 'age_average', 'hospital_average'])"
      ]
     },
     "execution_count": 10,
     "metadata": {},
     "output_type": "execute_result"
    }
   ],
   "source": [
    "cfg.datasets.keys()"
   ]
  },
  {
   "cell_type": "code",
   "execution_count": 11,
   "id": "f968ad18",
   "metadata": {},
   "outputs": [
    {
     "data": {
      "text/plain": [
       "dict_keys(['train_table', 'valid_table', 'test_table', 'cv_train_table', 'cv_valid_table', 'feature_cols'])"
      ]
     },
     "execution_count": 11,
     "metadata": {},
     "output_type": "execute_result"
    }
   ],
   "source": [
    "cfg.datasets.population_average.keys()"
   ]
  },
  {
   "cell_type": "markdown",
   "id": "81bb5b96",
   "metadata": {},
   "source": [
    "##### read raw dataframe for future use if needed"
   ]
  },
  {
   "cell_type": "code",
   "execution_count": 12,
   "id": "63349855",
   "metadata": {},
   "outputs": [
    {
     "data": {
      "text/html": [
       "<div>\n",
       "<style scoped>\n",
       "    .dataframe tbody tr th:only-of-type {\n",
       "        vertical-align: middle;\n",
       "    }\n",
       "\n",
       "    .dataframe tbody tr th {\n",
       "        vertical-align: top;\n",
       "    }\n",
       "\n",
       "    .dataframe thead th {\n",
       "        text-align: right;\n",
       "    }\n",
       "</style>\n",
       "<table border=\"1\" class=\"dataframe\">\n",
       "  <thead>\n",
       "    <tr style=\"text-align: right;\">\n",
       "      <th></th>\n",
       "      <th>ImageFile</th>\n",
       "      <th>Prognosis</th>\n",
       "    </tr>\n",
       "  </thead>\n",
       "  <tbody>\n",
       "    <tr>\n",
       "      <th>0</th>\n",
       "      <td>P_102.png</td>\n",
       "      <td>1</td>\n",
       "    </tr>\n",
       "    <tr>\n",
       "      <th>1</th>\n",
       "      <td>P_131.png</td>\n",
       "      <td>0</td>\n",
       "    </tr>\n",
       "    <tr>\n",
       "      <th>2</th>\n",
       "      <td>P_132.png</td>\n",
       "      <td>0</td>\n",
       "    </tr>\n",
       "    <tr>\n",
       "      <th>3</th>\n",
       "      <td>P_117.png</td>\n",
       "      <td>0</td>\n",
       "    </tr>\n",
       "    <tr>\n",
       "      <th>4</th>\n",
       "      <td>P_16.png</td>\n",
       "      <td>1</td>\n",
       "    </tr>\n",
       "  </tbody>\n",
       "</table>\n",
       "</div>"
      ],
      "text/plain": [
       "   ImageFile  Prognosis\n",
       "0  P_102.png          1\n",
       "1  P_131.png          0\n",
       "2  P_132.png          0\n",
       "3  P_117.png          0\n",
       "4   P_16.png          1"
      ]
     },
     "execution_count": 12,
     "metadata": {},
     "output_type": "execute_result"
    }
   ],
   "source": [
    "whole_df = pd.read_excel('/mnt/ncshare/ai4covid_hackathon/raw_data/trainClinData.xls' )\n",
    "raw_df = whole_df[ ['ImageFile', 'Prognosis'] ]\n",
    "raw_df.Prognosis.replace('SEVERE', 1, inplace=True)\n",
    "raw_df.Prognosis.replace('MILD', 0, inplace=True)\n",
    "raw_df.head()"
   ]
  },
  {
   "cell_type": "markdown",
   "id": "26dee1ac",
   "metadata": {},
   "source": [
    "##### how folds are encoded"
   ]
  },
  {
   "cell_type": "code",
   "execution_count": 13,
   "id": "1486e052",
   "metadata": {},
   "outputs": [
    {
     "data": {
      "text/plain": [
       "('/mnt/ncshare/ai4covid_hackathon/preprocessed_data/tables/pop_avg/trainClinDataImputedPopAvg_',\n",
       " '+cv1.csv',\n",
       " '+cv2.csv',\n",
       " '...',\n",
       " '+cv5.csv')"
      ]
     },
     "execution_count": 13,
     "metadata": {},
     "output_type": "execute_result"
    }
   ],
   "source": [
    "cfg.datasets.population_average.cv_train_table, '+cv1.csv', '+cv2.csv', '...', '+cv5.csv'"
   ]
  },
  {
   "cell_type": "code",
   "execution_count": 14,
   "id": "f3ffde36",
   "metadata": {},
   "outputs": [
    {
     "data": {
      "text/plain": [
       "'/mnt/ncshare/ai4covid_hackathon/preprocessed_data/tables/pop_avg/validClinDataImputedPopAvg_'"
      ]
     },
     "execution_count": 14,
     "metadata": {},
     "output_type": "execute_result"
    }
   ],
   "source": [
    "cfg.datasets.population_average.cv_valid_table"
   ]
  },
  {
   "cell_type": "markdown",
   "id": "16e8f63e",
   "metadata": {},
   "source": [
    "##### train cv1 and valid cv1 are the corresponding parts"
   ]
  },
  {
   "cell_type": "code",
   "execution_count": 15,
   "id": "50d9c14f",
   "metadata": {
    "scrolled": false
   },
   "outputs": [
    {
     "data": {
      "text/plain": [
       "0"
      ]
     },
     "execution_count": 15,
     "metadata": {},
     "output_type": "execute_result"
    }
   ],
   "source": [
    "np.in1d( pd.read_csv( cfg.datasets.population_average.cv_train_table+'cv1.csv').ImageFile.unique(), pd.read_csv( cfg.datasets.population_average.cv_valid_table+'cv1.csv').ImageFile.unique() ).sum()"
   ]
  },
  {
   "cell_type": "markdown",
   "id": "2def32bb",
   "metadata": {},
   "source": [
    "##### dataframe colums"
   ]
  },
  {
   "cell_type": "code",
   "execution_count": 16,
   "id": "fd568712",
   "metadata": {},
   "outputs": [],
   "source": [
    "best_cols = np.array(['Age', 'BPCO', 'CRP', 'CardiovascularDisease', 'Cough', 'D_dimer', 'DaysFever', 'Diabetes', 'DifficultyInBreathing', 'Fibrinogen', 'Glucose', 'HighBloodPressure', 'Hospital_A', 'Hospital_C', 'Hospital_D', 'Hospital_F', 'INR', 'IschemicHeartDisease', 'LDH', 'Ox_percentage', 'PCT', 'PaCO2', 'PaO2', 'Position', 'RBC', 'SaO2', 'Sex', 'Temp_C', 'WBC', 'pH'])"
   ]
  },
  {
   "cell_type": "code",
   "execution_count": 17,
   "id": "551b16e9",
   "metadata": {},
   "outputs": [
    {
     "data": {
      "text/plain": [
       "(30,)"
      ]
     },
     "execution_count": 17,
     "metadata": {},
     "output_type": "execute_result"
    }
   ],
   "source": [
    "best_cols.shape"
   ]
  },
  {
   "cell_type": "code",
   "execution_count": 18,
   "id": "014de23e",
   "metadata": {},
   "outputs": [
    {
     "data": {
      "text/plain": [
       "array(['Age', 'Sex', 'Temp_C', 'DaysFever', 'Cough',\n",
       "       'DifficultyInBreathing', 'WBC', 'RBC', 'CRP', 'Fibrinogen',\n",
       "       'Glucose', 'PCT', 'LDH', 'INR', 'D_dimer', 'Ox_percentage', 'PaO2',\n",
       "       'SaO2', 'PaCO2', 'pH', 'CardiovascularDisease',\n",
       "       'IschemicHeartDisease', 'HighBloodPressure', 'Diabetes', 'BPCO',\n",
       "       'Position', 'Hospital_A', 'Hospital_C', 'Hospital_D', 'Hospital_F'],\n",
       "      dtype='<U21')"
      ]
     },
     "execution_count": 18,
     "metadata": {},
     "output_type": "execute_result"
    }
   ],
   "source": [
    "np.array(cfg.datasets.population_average.feature_cols)[ np.in1d(cfg.datasets.population_average.feature_cols, best_cols) ]"
   ]
  },
  {
   "cell_type": "markdown",
   "id": "23d5cae2",
   "metadata": {},
   "source": [
    "## Table based models"
   ]
  },
  {
   "cell_type": "markdown",
   "id": "a3aee60f",
   "metadata": {},
   "source": [
    "### Data preprocessing"
   ]
  },
  {
   "cell_type": "code",
   "execution_count": 19,
   "id": "ae8a60fb",
   "metadata": {},
   "outputs": [],
   "source": [
    "def dataframe_preproc( df, columns=[] ):\n",
    "    df.Prognosis.replace('SEVERE', 1, inplace=True)\n",
    "    df.Prognosis.replace('MILD', 0, inplace=True)\n",
    "    X_df = df.drop( columns=['ImageFile', 'Prognosis', 'Death'])    \n",
    "    \n",
    "    y = df[ ['Prognosis', 'Death'] ].values\n",
    "        \n",
    "    if len(columns) > 0:\n",
    "        X_df = X_df[best_cols] # restrict to certain columns only\n",
    "    \n",
    "    X = X_df.values\n",
    "    X_features = X_df.columns\n",
    "        \n",
    "    return X, y, X_features"
   ]
  },
  {
   "cell_type": "code",
   "execution_count": 20,
   "id": "39a55638",
   "metadata": {},
   "outputs": [],
   "source": [
    "def load_cv_data( cv=1, dataset='population_average', columns=[], include_death_column=False ):\n",
    "    train_cv_df = pd.read_csv( cfg.datasets[dataset].cv_train_table+'cv'+str(cv)+'.csv')\n",
    "    valid_cv_df = pd.read_csv( cfg.datasets[dataset].cv_valid_table+'cv'+str(cv)+'.csv')\n",
    "\n",
    "    x_train, y_train, features_train = dataframe_preproc( train_cv_df, columns )\n",
    "    x_valid, y_valid, features_valid = dataframe_preproc( valid_cv_df, columns )\n",
    "\n",
    "    if include_death_column:\n",
    "         return x_train, y_train, x_valid, y_valid\n",
    "        \n",
    "    else:\n",
    "        # keep prognosis only\n",
    "        y_train = y_train[:,0]\n",
    "        y_valid = y_valid[:,0]\n",
    "\n",
    "        #print(x_train.shape, y_train.shape, x_valid.shape, y_valid.shape)\n",
    "        return x_train, y_train, x_valid, y_valid    "
   ]
  },
  {
   "cell_type": "code",
   "execution_count": 21,
   "id": "b1a3d1c5",
   "metadata": {
    "scrolled": true
   },
   "outputs": [
    {
     "name": "stdout",
     "output_type": "stream",
     "text": [
      "(882, 30) (882,) (221, 30) (221,)\n"
     ]
    }
   ],
   "source": [
    "x_train, y_train, x_valid, y_valid = load_cv_data(1, 'population_average', columns=best_cols)\n",
    "print(x_train.shape, y_train.shape, x_valid.shape, y_valid.shape)"
   ]
  },
  {
   "cell_type": "markdown",
   "id": "9bd08a1b",
   "metadata": {},
   "source": [
    "### Sklearn models"
   ]
  },
  {
   "cell_type": "code",
   "execution_count": 22,
   "id": "3058ee4a",
   "metadata": {},
   "outputs": [],
   "source": [
    "def five_fold_cv_model_eval( model, dataset='population_average', columns=[]):\n",
    "    try:\n",
    "        model_instance = model(n_jobs=8)\n",
    "    except:\n",
    "        model_instance = model()\n",
    "        \n",
    "    b_accs = []\n",
    "    roc_aucs = []\n",
    "    f1s = []\n",
    "    \n",
    "    scores = {}\n",
    "    \n",
    "    for f in range(1,6):\n",
    "        x_train, y_train, x_valid, y_valid = load_cv_data(f, dataset, columns)\n",
    "        model_instance.fit(x_train, y_train)\n",
    "        try:\n",
    "            pred_values_label = model_instance.predict(x_valid)\n",
    "            b_acc = metrics.balanced_accuracy_score( y_pred=pred_values_label, y_true=y_valid )\n",
    "            f1 = metrics.f1_score( y_true=y_valid, y_pred=pred_values_label )\n",
    "            f1s.append(f1)\n",
    "            b_accs.append(b_acc)\n",
    "        except:\n",
    "            print('', end='\\r')\n",
    "        \n",
    "        try:\n",
    "            pred_values_proba = model_instance.predict_proba(x_valid)            \n",
    "            roc_auc = metrics.roc_auc_score( y_true=y_valid, y_score=pred_values_proba[:,1] )\n",
    "            roc_aucs.append(roc_auc)\n",
    "            \n",
    "        except:\n",
    "            try:\n",
    "                # this is added for SVM proba pred\n",
    "                model_instance = model(probability=True)\n",
    "                model_instance.fit(x_train, y_train)\n",
    "                pred_values_proba = model_instance.predict_proba(x_valid)\n",
    "                roc_auc = metrics.roc_auc_score( y_true=y_valid, y_score=pred_values_proba[:,1] )\n",
    "                roc_aucs.append(roc_auc)\n",
    "            except:\n",
    "                print('', end='\\r')\n",
    "    \n",
    "    scores['balanced_accuracy'] = b_accs\n",
    "    scores['roc_auc'] = roc_aucs\n",
    "    scores['f1'] = f1s\n",
    "    \n",
    "    return scores"
   ]
  },
  {
   "cell_type": "markdown",
   "id": "d07f7ff7",
   "metadata": {},
   "source": [
    "#### Define models"
   ]
  },
  {
   "cell_type": "code",
   "execution_count": 23,
   "id": "48da4900",
   "metadata": {},
   "outputs": [
    {
     "data": {
      "text/plain": [
       "{'Logistic': sklearn.linear_model._logistic.LogisticRegression,\n",
       " 'SVM': sklearn.svm._classes.SVC,\n",
       " 'Randomforest': sklearn.ensemble._forest.RandomForestClassifier,\n",
       " 'GradientBoosting': sklearn.ensemble._gb.GradientBoostingClassifier,\n",
       " 'XGB': xgboost.sklearn.XGBClassifier}"
      ]
     },
     "execution_count": 23,
     "metadata": {},
     "output_type": "execute_result"
    }
   ],
   "source": [
    "models_to_run = { 'Logistic': linear_model.LogisticRegression, 'SVM': svm.SVC, \n",
    "                  'Randomforest': ensemble.RandomForestClassifier, 'GradientBoosting': ensemble.GradientBoostingClassifier,\n",
    "                  'XGB': XGBClassifier, }\n",
    "models_to_run"
   ]
  },
  {
   "cell_type": "code",
   "execution_count": 24,
   "id": "c9543402",
   "metadata": {},
   "outputs": [
    {
     "data": {
      "text/plain": [
       "{0: 'Logistic', 1: 'SVM', 2: 'Randomforest', 3: 'GradientBoosting', 4: 'XGB'}"
      ]
     },
     "execution_count": 24,
     "metadata": {},
     "output_type": "execute_result"
    }
   ],
   "source": [
    "num_to_model = dict( zip( np.arange(len(models_to_run)), list(models_to_run.keys()) ) )\n",
    "num_to_model"
   ]
  },
  {
   "cell_type": "code",
   "execution_count": 25,
   "id": "c996d6d5",
   "metadata": {},
   "outputs": [],
   "source": [
    "def legend_without_duplicate_labels(ax):\n",
    "    # https://stackoverflow.com/questions/19385639/duplicate-items-in-legend-in-matplotlib/40870637\n",
    "    handles, labels = ax.get_legend_handles_labels()\n",
    "    unique = [(h, l) for i, (h, l) in enumerate(zip(handles, labels)) if l not in labels[:i]]\n",
    "    ax.legend(*zip(*unique))"
   ]
  },
  {
   "cell_type": "code",
   "execution_count": 26,
   "id": "a9283cc9",
   "metadata": {},
   "outputs": [],
   "source": [
    "def fit_and_eval_models( num_to_model, models_to_run, fig, dataset='population_average', color='blue', m='o', shift=0, columns=[]):\n",
    "    for i in range( len(num_to_model) ):\n",
    "        current_model = num_to_model[i] \n",
    "        #print(current_model)\n",
    "        scores = five_fold_cv_model_eval( models_to_run[current_model], dataset, columns )\n",
    "\n",
    "        ax1 = plt.subplot(131)\n",
    "        value = np.mean( scores['balanced_accuracy'] )\n",
    "        std_err = np.std( scores['balanced_accuracy'] ) / np.sqrt(5)\n",
    "        #sc = plt.scatter( i+np.zeros(5)+shift, scores['balanced_accuracy'], label=current_model, c=color, marker=m)\n",
    "        sc = plt.errorbar( i+shift, value, yerr=std_err, label=current_model, c=color, marker=m )\n",
    "        #plt.xlabel('Models')\n",
    "        plt.xticks(ticks=list(num_to_model.keys()), labels=list(num_to_model.values()), rotation=45 )\n",
    "        plt.ylabel('Balanced accuracy score')\n",
    "        plt.grid(True)\n",
    "        sc.set_label(dataset)\n",
    "        if i == len(num_to_model)-1: # put legend at the last iteration to avoid duplicates\n",
    "            legend_without_duplicate_labels(ax1)        \n",
    "\n",
    "        ax2 = plt.subplot(132)\n",
    "        value = np.mean( scores['roc_auc'] )\n",
    "        std_err = np.std( scores['roc_auc'] ) / np.sqrt(5)\n",
    "        #sc = plt.scatter( i+np.zeros(5)+shift, scores['roc_auc'], label=current_model, c=color, marker=m)\n",
    "        sc = plt.errorbar( i+shift, value, yerr=std_err, label=current_model, c=color, marker=m )\n",
    "        #plt.xlabel('Models')\n",
    "        plt.xticks(ticks=list(num_to_model.keys()), labels=list(num_to_model.values()), rotation=45)\n",
    "        plt.ylabel('Roc auc score')\n",
    "        plt.grid(True)\n",
    "        sc.set_label(dataset)\n",
    "        if i == len(num_to_model)-1: # put legend at the last iteration to avoid duplicates\n",
    "            legend_without_duplicate_labels(ax2)        \n",
    "\n",
    "        ax3 = plt.subplot(133)\n",
    "        value = np.mean( scores['f1'] )\n",
    "        std_err = np.std( scores['f1'] ) / np.sqrt(5)\n",
    "        #sc = plt.scatter( i+np.zeros(5)+shift, scores['f1'], label=current_model, c=color, marker=m)\n",
    "        sc = plt.errorbar( i+shift, value, yerr=std_err, label=current_model, c=color, marker=m )\n",
    "        #plt.xlabel('Models')\n",
    "        plt.xticks(ticks=list(num_to_model.keys()), labels=list(num_to_model.values()), rotation=45 )\n",
    "        plt.ylabel('F1 score')\n",
    "        plt.grid(True)\n",
    "        sc.set_label(dataset)\n",
    "        if i == len(num_to_model)-1: # put legend at the last iteration to avoid duplicates\n",
    "            legend_without_duplicate_labels(ax3)"
   ]
  },
  {
   "cell_type": "code",
   "execution_count": 26,
   "id": "b1d2310b",
   "metadata": {
    "scrolled": false
   },
   "outputs": [
    {
     "name": "stdout",
     "output_type": "stream",
     "text": [
      "[16:10:15] WARNING: ../src/learner.cc:1115: Starting in XGBoost 1.3.0, the default evaluation metric used with the objective 'binary:logistic' was changed from 'error' to 'logloss'. Explicitly set eval_metric if you'd like to restore the old behavior.\n",
      "[16:10:15] WARNING: ../src/learner.cc:1115: Starting in XGBoost 1.3.0, the default evaluation metric used with the objective 'binary:logistic' was changed from 'error' to 'logloss'. Explicitly set eval_metric if you'd like to restore the old behavior.\n",
      "[16:10:15] WARNING: ../src/learner.cc:1115: Starting in XGBoost 1.3.0, the default evaluation metric used with the objective 'binary:logistic' was changed from 'error' to 'logloss'. Explicitly set eval_metric if you'd like to restore the old behavior.\n",
      "[16:10:15] WARNING: ../src/learner.cc:1115: Starting in XGBoost 1.3.0, the default evaluation metric used with the objective 'binary:logistic' was changed from 'error' to 'logloss'. Explicitly set eval_metric if you'd like to restore the old behavior.\n",
      "[16:10:16] WARNING: ../src/learner.cc:1115: Starting in XGBoost 1.3.0, the default evaluation metric used with the objective 'binary:logistic' was changed from 'error' to 'logloss'. Explicitly set eval_metric if you'd like to restore the old behavior.\n",
      "[16:10:22] WARNING: ../src/learner.cc:1115: Starting in XGBoost 1.3.0, the default evaluation metric used with the objective 'binary:logistic' was changed from 'error' to 'logloss'. Explicitly set eval_metric if you'd like to restore the old behavior.\n",
      "[16:10:22] WARNING: ../src/learner.cc:1115: Starting in XGBoost 1.3.0, the default evaluation metric used with the objective 'binary:logistic' was changed from 'error' to 'logloss'. Explicitly set eval_metric if you'd like to restore the old behavior.\n",
      "[16:10:22] WARNING: ../src/learner.cc:1115: Starting in XGBoost 1.3.0, the default evaluation metric used with the objective 'binary:logistic' was changed from 'error' to 'logloss'. Explicitly set eval_metric if you'd like to restore the old behavior.\n",
      "[16:10:22] WARNING: ../src/learner.cc:1115: Starting in XGBoost 1.3.0, the default evaluation metric used with the objective 'binary:logistic' was changed from 'error' to 'logloss'. Explicitly set eval_metric if you'd like to restore the old behavior.\n",
      "[16:10:23] WARNING: ../src/learner.cc:1115: Starting in XGBoost 1.3.0, the default evaluation metric used with the objective 'binary:logistic' was changed from 'error' to 'logloss'. Explicitly set eval_metric if you'd like to restore the old behavior.\n",
      "[16:10:28] WARNING: ../src/learner.cc:1115: Starting in XGBoost 1.3.0, the default evaluation metric used with the objective 'binary:logistic' was changed from 'error' to 'logloss'. Explicitly set eval_metric if you'd like to restore the old behavior.\n",
      "[16:10:28] WARNING: ../src/learner.cc:1115: Starting in XGBoost 1.3.0, the default evaluation metric used with the objective 'binary:logistic' was changed from 'error' to 'logloss'. Explicitly set eval_metric if you'd like to restore the old behavior.\n",
      "[16:10:28] WARNING: ../src/learner.cc:1115: Starting in XGBoost 1.3.0, the default evaluation metric used with the objective 'binary:logistic' was changed from 'error' to 'logloss'. Explicitly set eval_metric if you'd like to restore the old behavior.\n",
      "[16:10:29] WARNING: ../src/learner.cc:1115: Starting in XGBoost 1.3.0, the default evaluation metric used with the objective 'binary:logistic' was changed from 'error' to 'logloss'. Explicitly set eval_metric if you'd like to restore the old behavior.\n",
      "[16:10:29] WARNING: ../src/learner.cc:1115: Starting in XGBoost 1.3.0, the default evaluation metric used with the objective 'binary:logistic' was changed from 'error' to 'logloss'. Explicitly set eval_metric if you'd like to restore the old behavior.\n",
      "[16:10:34] WARNING: ../src/learner.cc:1115: Starting in XGBoost 1.3.0, the default evaluation metric used with the objective 'binary:logistic' was changed from 'error' to 'logloss'. Explicitly set eval_metric if you'd like to restore the old behavior.\n",
      "[16:10:34] WARNING: ../src/learner.cc:1115: Starting in XGBoost 1.3.0, the default evaluation metric used with the objective 'binary:logistic' was changed from 'error' to 'logloss'. Explicitly set eval_metric if you'd like to restore the old behavior.\n",
      "[16:10:34] WARNING: ../src/learner.cc:1115: Starting in XGBoost 1.3.0, the default evaluation metric used with the objective 'binary:logistic' was changed from 'error' to 'logloss'. Explicitly set eval_metric if you'd like to restore the old behavior.\n",
      "[16:10:34] WARNING: ../src/learner.cc:1115: Starting in XGBoost 1.3.0, the default evaluation metric used with the objective 'binary:logistic' was changed from 'error' to 'logloss'. Explicitly set eval_metric if you'd like to restore the old behavior.\n",
      "[16:10:35] WARNING: ../src/learner.cc:1115: Starting in XGBoost 1.3.0, the default evaluation metric used with the objective 'binary:logistic' was changed from 'error' to 'logloss'. Explicitly set eval_metric if you'd like to restore the old behavior.\n"
     ]
    },
    {
     "data": {
      "image/png": "[encoded data removed]",
      "text/plain": [
       "<Figure size 1728x576 with 3 Axes>"
      ]
     },
     "metadata": {
      "needs_background": "light"
     },
     "output_type": "display_data"
    }
   ],
   "source": [
    "fig = plt.figure( figsize=(24,8) )\n",
    "fit_and_eval_models( num_to_model, models_to_run, fig, dataset='population_average', color='darkred', m='o', shift=-0.15)\n",
    "fit_and_eval_models( num_to_model, models_to_run, fig, dataset='population_sampled', color='forestgreen', m='x', shift=-0.05)\n",
    "fit_and_eval_models( num_to_model, models_to_run, fig, dataset='age_average', color='midnightblue', m='v', shift=0.05)\n",
    "fit_and_eval_models( num_to_model, models_to_run, fig, dataset='hospital_average', color='orange', m='s', shift=0.15)"
   ]
  },
  {
   "cell_type": "markdown",
   "id": "0e997157",
   "metadata": {},
   "source": [
    "##### only best features"
   ]
  },
  {
   "cell_type": "code",
   "execution_count": 27,
   "id": "f1f7caf5",
   "metadata": {
    "scrolled": false
   },
   "outputs": [
    {
     "data": {
      "text/plain": [
       "(array(['Age', 'BPCO', 'CRP', 'CardiovascularDisease', 'Cough', 'D_dimer',\n",
       "        'DaysFever', 'Diabetes', 'DifficultyInBreathing', 'Fibrinogen',\n",
       "        'Glucose', 'HighBloodPressure', 'Hospital_A', 'Hospital_C',\n",
       "        'Hospital_D', 'Hospital_F', 'INR', 'IschemicHeartDisease', 'LDH',\n",
       "        'Ox_percentage', 'PCT', 'PaCO2', 'PaO2', 'Position', 'RBC', 'SaO2',\n",
       "        'Sex', 'Temp_C', 'WBC', 'pH'], dtype='<U21'),\n",
       " (30,))"
      ]
     },
     "execution_count": 27,
     "metadata": {},
     "output_type": "execute_result"
    }
   ],
   "source": [
    "best_cols, best_cols.shape"
   ]
  },
  {
   "cell_type": "code",
   "execution_count": 28,
   "id": "20b5228a",
   "metadata": {
    "scrolled": false
   },
   "outputs": [
    {
     "name": "stdout",
     "output_type": "stream",
     "text": [
      "[15:38:25] WARNING: ../src/learner.cc:1115: Starting in XGBoost 1.3.0, the default evaluation metric used with the objective 'binary:logistic' was changed from 'error' to 'logloss'. Explicitly set eval_metric if you'd like to restore the old behavior.\n",
      "[15:38:25] WARNING: ../src/learner.cc:1115: Starting in XGBoost 1.3.0, the default evaluation metric used with the objective 'binary:logistic' was changed from 'error' to 'logloss'. Explicitly set eval_metric if you'd like to restore the old behavior.\n",
      "[15:38:25] WARNING: ../src/learner.cc:1115: Starting in XGBoost 1.3.0, the default evaluation metric used with the objective 'binary:logistic' was changed from 'error' to 'logloss'. Explicitly set eval_metric if you'd like to restore the old behavior.\n",
      "[15:38:25] WARNING: ../src/learner.cc:1115: Starting in XGBoost 1.3.0, the default evaluation metric used with the objective 'binary:logistic' was changed from 'error' to 'logloss'. Explicitly set eval_metric if you'd like to restore the old behavior.\n",
      "[15:38:25] WARNING: ../src/learner.cc:1115: Starting in XGBoost 1.3.0, the default evaluation metric used with the objective 'binary:logistic' was changed from 'error' to 'logloss'. Explicitly set eval_metric if you'd like to restore the old behavior.\n",
      "[15:38:31] WARNING: ../src/learner.cc:1115: Starting in XGBoost 1.3.0, the default evaluation metric used with the objective 'binary:logistic' was changed from 'error' to 'logloss'. Explicitly set eval_metric if you'd like to restore the old behavior.\n",
      "[15:38:31] WARNING: ../src/learner.cc:1115: Starting in XGBoost 1.3.0, the default evaluation metric used with the objective 'binary:logistic' was changed from 'error' to 'logloss'. Explicitly set eval_metric if you'd like to restore the old behavior.\n",
      "[15:38:31] WARNING: ../src/learner.cc:1115: Starting in XGBoost 1.3.0, the default evaluation metric used with the objective 'binary:logistic' was changed from 'error' to 'logloss'. Explicitly set eval_metric if you'd like to restore the old behavior.\n",
      "[15:38:31] WARNING: ../src/learner.cc:1115: Starting in XGBoost 1.3.0, the default evaluation metric used with the objective 'binary:logistic' was changed from 'error' to 'logloss'. Explicitly set eval_metric if you'd like to restore the old behavior.\n",
      "[15:38:31] WARNING: ../src/learner.cc:1115: Starting in XGBoost 1.3.0, the default evaluation metric used with the objective 'binary:logistic' was changed from 'error' to 'logloss'. Explicitly set eval_metric if you'd like to restore the old behavior.\n",
      "[15:38:36] WARNING: ../src/learner.cc:1115: Starting in XGBoost 1.3.0, the default evaluation metric used with the objective 'binary:logistic' was changed from 'error' to 'logloss'. Explicitly set eval_metric if you'd like to restore the old behavior.\n",
      "[15:38:36] WARNING: ../src/learner.cc:1115: Starting in XGBoost 1.3.0, the default evaluation metric used with the objective 'binary:logistic' was changed from 'error' to 'logloss'. Explicitly set eval_metric if you'd like to restore the old behavior.\n",
      "[15:38:37] WARNING: ../src/learner.cc:1115: Starting in XGBoost 1.3.0, the default evaluation metric used with the objective 'binary:logistic' was changed from 'error' to 'logloss'. Explicitly set eval_metric if you'd like to restore the old behavior.\n",
      "[15:38:37] WARNING: ../src/learner.cc:1115: Starting in XGBoost 1.3.0, the default evaluation metric used with the objective 'binary:logistic' was changed from 'error' to 'logloss'. Explicitly set eval_metric if you'd like to restore the old behavior.\n",
      "[15:38:37] WARNING: ../src/learner.cc:1115: Starting in XGBoost 1.3.0, the default evaluation metric used with the objective 'binary:logistic' was changed from 'error' to 'logloss'. Explicitly set eval_metric if you'd like to restore the old behavior.\n",
      "[15:38:42] WARNING: ../src/learner.cc:1115: Starting in XGBoost 1.3.0, the default evaluation metric used with the objective 'binary:logistic' was changed from 'error' to 'logloss'. Explicitly set eval_metric if you'd like to restore the old behavior.\n",
      "[15:38:42] WARNING: ../src/learner.cc:1115: Starting in XGBoost 1.3.0, the default evaluation metric used with the objective 'binary:logistic' was changed from 'error' to 'logloss'. Explicitly set eval_metric if you'd like to restore the old behavior.\n",
      "[15:38:42] WARNING: ../src/learner.cc:1115: Starting in XGBoost 1.3.0, the default evaluation metric used with the objective 'binary:logistic' was changed from 'error' to 'logloss'. Explicitly set eval_metric if you'd like to restore the old behavior.\n",
      "[15:38:42] WARNING: ../src/learner.cc:1115: Starting in XGBoost 1.3.0, the default evaluation metric used with the objective 'binary:logistic' was changed from 'error' to 'logloss'. Explicitly set eval_metric if you'd like to restore the old behavior.\n",
      "[15:38:43] WARNING: ../src/learner.cc:1115: Starting in XGBoost 1.3.0, the default evaluation metric used with the objective 'binary:logistic' was changed from 'error' to 'logloss'. Explicitly set eval_metric if you'd like to restore the old behavior.\n"
     ]
    },
    {
     "data": {
      "image/png": "[encoded data removed]",
      "text/plain": [
       "<Figure size 1728x576 with 3 Axes>"
      ]
     },
     "metadata": {
      "needs_background": "light"
     },
     "output_type": "display_data"
    }
   ],
   "source": [
    "fig = plt.figure( figsize=(24,8) )\n",
    "fit_and_eval_models( num_to_model, models_to_run, fig, dataset='population_average', color='darkred', m='o', shift=-0.15, columns=best_cols)\n",
    "fit_and_eval_models( num_to_model, models_to_run, fig, dataset='population_sampled', color='forestgreen', m='x', shift=-0.05, columns=best_cols)\n",
    "fit_and_eval_models( num_to_model, models_to_run, fig, dataset='age_average', color='midnightblue', m='v', shift=0.05, columns=best_cols)\n",
    "fit_and_eval_models( num_to_model, models_to_run, fig, dataset='hospital_average', color='orange', m='s', shift=0.15, columns=best_cols)"
   ]
  },
  {
   "cell_type": "markdown",
   "id": "951e0f0e",
   "metadata": {},
   "source": [
    "## Simple neural networks"
   ]
  },
  {
   "cell_type": "code",
   "execution_count": 27,
   "id": "ade909ad",
   "metadata": {
    "scrolled": false
   },
   "outputs": [
    {
     "data": {
      "text/plain": [
       "('/mnt/ncshare/ai4covid_hackathon/preprocessed_data/train/aligned',\n",
       " '/mnt/ncshare/ai4covid_hackathon/preprocessed_data/train/fourier_2d',\n",
       " '/mnt/ncshare/ai4covid_hackathon/preprocessed_data/train/segmented')"
      ]
     },
     "execution_count": 27,
     "metadata": {},
     "output_type": "execute_result"
    }
   ],
   "source": [
    "cfg.preprocessed_image_base_path, cfg.fourier_base_path, cfg.segmentation_base_path"
   ]
  },
  {
   "cell_type": "code",
   "execution_count": 28,
   "id": "bc45a72d",
   "metadata": {},
   "outputs": [
    {
     "data": {
      "text/plain": [
       "((882, 30), (882, 2), (221, 30), (221, 2))"
      ]
     },
     "execution_count": 28,
     "metadata": {},
     "output_type": "execute_result"
    }
   ],
   "source": [
    "x_train, y_train, x_valid, y_valid = load_cv_data(1, 'population_average', columns=best_cols, include_death_column=True)\n",
    "x_train.shape, y_train.shape, x_valid.shape, y_valid.shape"
   ]
  },
  {
   "cell_type": "code",
   "execution_count": 97,
   "id": "a2899e2a",
   "metadata": {},
   "outputs": [
    {
     "data": {
      "text/plain": [
       "(7, 36)"
      ]
     },
     "execution_count": 97,
     "metadata": {},
     "output_type": "execute_result"
    }
   ],
   "source": [
    "cfg.batch_size, cfg.epochs"
   ]
  },
  {
   "cell_type": "code",
   "execution_count": 82,
   "id": "07e17732",
   "metadata": {},
   "outputs": [],
   "source": [
    "def five_fold_cv_model_eval_NN( model, dataset='population_average', batch_size=8, columns=[]  ):\n",
    "        \n",
    "    b_accs = []\n",
    "    roc_aucs = []\n",
    "    f1s = []\n",
    "    \n",
    "    scores = {}\n",
    "    \n",
    "    for f in range(1,6):\n",
    "        #print(columns)\n",
    "        x_train, y_train, x_valid, y_valid = load_cv_data(f, dataset, columns, include_death_column=True)\n",
    "        #print(x_train.shape, y_train.shape, x_valid.shape, y_valid.shape)\n",
    "        model_instance, early_stopping = model(x_train.shape[1]) # init with feature\n",
    "        \n",
    "        \n",
    "        try:\n",
    "            history = model_instance.fit( x=x_train, y=[ tf.keras.utils.to_categorical(y_train[:,0]), tf.keras.utils.to_categorical(y_train[:,1]) ],\n",
    "                            validation_data=( x_valid, [ tf.keras.utils.to_categorical(y_valid[:,0]), tf.keras.utils.to_categorical(y_valid[:,1]) ] ),\n",
    "                            epochs=cfg.epochs,\n",
    "                            callbacks=[early_stopping],\n",
    "                            verbose=0,\n",
    "                            batch_size=batch_size\n",
    "                            )\n",
    "            prognosis_pred, death_pred = model_instance.predict( x_valid )\n",
    "        \n",
    "            prognosis_pred_labels = np.argmax( prognosis_pred, axis=-1)\n",
    "            prognosis_pred_proba = prognosis_pred[:,1]\n",
    "            #print(prognosis_pred_labels.shape, prognosis_pred_labels[:5], y_valid[:5])\n",
    "            \n",
    "        except:\n",
    "            history = model_instance.fit( x=x_train, y=[ tf.keras.utils.to_categorical(y_train[:,0]) ],\n",
    "                            validation_data=( x_valid, [ tf.keras.utils.to_categorical(y_valid[:,0]) ] ),\n",
    "                            epochs=cfg.epochs,\n",
    "                            callbacks=[early_stopping],\n",
    "                            verbose=0,\n",
    "                            )\n",
    "            prognosis_pred = model_instance.predict( x_valid )\n",
    "        \n",
    "            prognosis_pred_labels = np.argmax( prognosis_pred, axis=-1)\n",
    "            prognosis_pred_proba = prognosis_pred[:,1]\n",
    "            #print(prognosis_pred_labels.shape, prognosis_pred_labels[:5], y_valid[:5])\n",
    "        \n",
    "        try:\n",
    "            b_acc = metrics.balanced_accuracy_score( y_pred=prognosis_pred_labels, y_true=y_valid[:,0] )\n",
    "            f1 = metrics.f1_score( y_true=y_valid[:,0], y_pred=prognosis_pred_labels )\n",
    "            f1s.append(f1)\n",
    "            b_accs.append(b_acc)\n",
    "        except:\n",
    "            print('', end='\\r')\n",
    "        \n",
    "        try:\n",
    "            roc_auc = metrics.roc_auc_score( y_true=y_valid[:,0], y_score=prognosis_pred_proba )\n",
    "            roc_aucs.append(roc_auc)\n",
    "            \n",
    "        except:\n",
    "            print('', end='\\r')\n",
    "    \n",
    "    scores['balanced_accuracy'] = b_accs\n",
    "    scores['roc_auc'] = roc_aucs\n",
    "    scores['f1'] = f1s\n",
    "    \n",
    "    return scores"
   ]
  },
  {
   "cell_type": "code",
   "execution_count": 83,
   "id": "a601c128",
   "metadata": {
    "scrolled": false
   },
   "outputs": [],
   "source": [
    "def meta_model( n_feature_cols ):\n",
    "    input_meta = Input(shape=(n_feature_cols), name=\"meta\", dtype=\"float32\")\n",
    "    death = Input(name=\"death\", shape=(2), dtype=\"int32\")\n",
    "    prognosis = Input(name=\"prognosis\", shape=(2), dtype=\"int32\")\n",
    "\n",
    "    ## META HEAD\n",
    "    meta = Dense(64, activation=\"relu\")(input_meta)\n",
    "    meta = BatchNormalization(name=\"meta_bn1\")(meta)\n",
    "    meta = Dense(128, activation=\"relu\")(meta)\n",
    "    meta = BatchNormalization(name=\"meta_bn2\")(meta)\n",
    "    meta = Dense(128, activation=\"relu\")(meta)\n",
    "    meta_out = BatchNormalization(name=\"meta_bn3\")(meta)\n",
    "\n",
    "    out = Dense(256, activation=\"relu\")(meta_out)\n",
    "    out = BatchNormalization(name=\"head_bn1\")(out)\n",
    "    out = Dropout(0.2)(meta)\n",
    "    out = Dense(cfg.last_dense_size, activation=\"relu\")(out)\n",
    "    out = BatchNormalization(name=\"head_bn2\")(out)\n",
    "    out = Dense(4, activation=\"linear\", name=\"unnormalized_output\")(out)\n",
    "\n",
    "    p, d = Lambda(lambda x: tf.split(x, num_or_size_splits=2, axis=1), name=\"outputs\")(\n",
    "        out\n",
    "    )\n",
    "    prognosis_out = Softmax(name=\"prognosis_out\")(p)\n",
    "    death_out = Softmax(name=\"death_out\")(d)\n",
    "\n",
    "    model = keras.models.Model(\n",
    "        inputs=[ input_meta ],\n",
    "        outputs=[prognosis_out, death_out],\n",
    "        name=\"model_v1\",\n",
    "    )\n",
    "\n",
    "    lr_schedule = tf.keras.optimizers.schedules.ExponentialDecay(\n",
    "        cfg.learning_rate,\n",
    "        decay_steps=3 * cfg.steps_per_epoch,\n",
    "        decay_rate=0.15,\n",
    "        staircase=False,\n",
    "    )\n",
    "\n",
    "    early_stopping = tf.keras.callbacks.EarlyStopping(\n",
    "        monitor=\"val_loss\",\n",
    "        min_delta=0,\n",
    "        patience=5,\n",
    "        verbose=0,\n",
    "        mode=\"min\",\n",
    "        baseline=None,\n",
    "        restore_best_weights=True,\n",
    "    )\n",
    "\n",
    "    opt = keras.optimizers.Adam(lr_schedule)\n",
    "    model.compile(optimizer=opt, loss=tf.keras.losses.binary_crossentropy)\n",
    "\n",
    "    #model.summary()\n",
    "\n",
    "    #prognosis_out = BinaryEndpointLayer(name=\"prognosis_binary_loss\", config=config)(\n",
    "    #    prognosis, p\n",
    "    #)\n",
    "    #death_out = BinaryEndpointLayer(name=\"death_binary_loss\", config=config)(death, d)\n",
    "    return model, early_stopping"
   ]
  },
  {
   "cell_type": "code",
   "execution_count": 84,
   "id": "b2900ee6",
   "metadata": {},
   "outputs": [],
   "source": [
    "def meta_model_mod( n_feature_cols ):\n",
    "    input_meta = Input(shape=(n_feature_cols), name=\"meta\", dtype=\"float32\")\n",
    "    death = Input(name=\"death\", shape=(2), dtype=\"int32\")\n",
    "    prognosis = Input(name=\"prognosis\", shape=(2), dtype=\"int32\")\n",
    "\n",
    "    ## META HEAD\n",
    "    meta = Dense(64, activation=\"relu\")(input_meta)\n",
    "    #meta = BatchNormalization(name=\"meta_bn1\")(meta)\n",
    "    meta = Dense(64, activation=\"relu\")(meta)\n",
    "    #meta = BatchNormalization(name=\"meta_bn2\")(meta)\n",
    "    #meta = Dense(128, activation=\"relu\")(meta)\n",
    "    #meta_out = BatchNormalization(name=\"meta_bn3\")(meta)\n",
    "\n",
    "    out = Dense(128, activation=\"relu\")(meta)\n",
    "    #out = BatchNormalization(name=\"head_bn1\")(out)\n",
    "    out = Dropout(0.2)(out)\n",
    "    out = Dense(cfg.last_dense_size, activation=\"relu\")(out)\n",
    "    #out = BatchNormalization(name=\"head_bn2\")(out)\n",
    "    out = Dense(4, activation=\"linear\", name=\"unnormalized_output\")(out)\n",
    "\n",
    "    p, d = Lambda(lambda x: tf.split(x, num_or_size_splits=2, axis=1), name=\"outputs\")(\n",
    "        out\n",
    "    )\n",
    "    prognosis_out = Softmax(name=\"prognosis_out\")(p)\n",
    "    death_out = Softmax(name=\"death_out\")(d)\n",
    "\n",
    "    model = keras.models.Model(\n",
    "        inputs=[ input_meta ],\n",
    "        outputs=[prognosis_out, death_out],\n",
    "        name=\"model_v1\",\n",
    "    )\n",
    "\n",
    "    lr_schedule = tf.keras.optimizers.schedules.ExponentialDecay(\n",
    "        cfg.learning_rate,\n",
    "        decay_steps=3 * cfg.steps_per_epoch,\n",
    "        decay_rate=1e-2,\n",
    "        staircase=False,\n",
    "    )\n",
    "\n",
    "    early_stopping = tf.keras.callbacks.EarlyStopping(\n",
    "        monitor=\"val_loss\",\n",
    "        min_delta=0,\n",
    "        patience=15,\n",
    "        verbose=0,\n",
    "        mode=\"min\",\n",
    "        baseline=None,\n",
    "        restore_best_weights=True,\n",
    "    )\n",
    "\n",
    "    opt = keras.optimizers.Adam(lr_schedule)\n",
    "    model.compile(optimizer=opt, loss=tf.keras.losses.binary_crossentropy)\n",
    "\n",
    "    #model.summary()\n",
    "\n",
    "    #prognosis_out = BinaryEndpointLayer(name=\"prognosis_binary_loss\", config=config)(\n",
    "    #    prognosis, p\n",
    "    #)\n",
    "    #death_out = BinaryEndpointLayer(name=\"death_binary_loss\", config=config)(death, d)\n",
    "    return model, early_stopping"
   ]
  },
  {
   "cell_type": "code",
   "execution_count": 85,
   "id": "d523a525",
   "metadata": {},
   "outputs": [],
   "source": [
    "def meta_model_mod2( n_feature_cols ):\n",
    "    input_meta = Input(shape=(n_feature_cols), name=\"meta\", dtype=\"float32\")\n",
    "    death = Input(name=\"death\", shape=(2), dtype=\"int32\")\n",
    "    prognosis = Input(name=\"prognosis\", shape=(2), dtype=\"int32\")\n",
    "\n",
    "    ## META HEAD\n",
    "    meta = Dense(64, activation=\"tanh\")(input_meta)\n",
    "    #meta = BatchNormalization(name=\"meta_bn1\")(meta)\n",
    "    meta = Dense(64, activation=\"tanh\")(meta)\n",
    "    #meta = BatchNormalization(name=\"meta_bn2\")(meta)\n",
    "    #meta = Dense(128, activation=\"relu\")(meta)\n",
    "    #meta_out = BatchNormalization(name=\"meta_bn3\")(meta)\n",
    "\n",
    "    out = Dense(128, activation=\"tanh\")(meta)\n",
    "    #out = BatchNormalization(name=\"head_bn1\")(out)\n",
    "    out = Dropout(0.2)(out)\n",
    "    out = Dense(cfg.last_dense_size, activation=\"tanh\")(out)\n",
    "    #out = BatchNormalization(name=\"head_bn2\")(out)\n",
    "    out = Dense(4, activation=\"linear\", name=\"unnormalized_output\")(out)\n",
    "\n",
    "    p, d = Lambda(lambda x: tf.split(x, num_or_size_splits=2, axis=1), name=\"outputs\")(\n",
    "        out\n",
    "    )\n",
    "    prognosis_out = Softmax(name=\"prognosis_out\")(p)\n",
    "    death_out = Softmax(name=\"death_out\")(d)\n",
    "\n",
    "    model = keras.models.Model(\n",
    "        inputs=[ input_meta ],\n",
    "        outputs=[prognosis_out, death_out],\n",
    "        name=\"model_v1\",\n",
    "    )\n",
    "\n",
    "    lr_schedule = tf.keras.optimizers.schedules.ExponentialDecay(\n",
    "        cfg.learning_rate,\n",
    "        decay_steps=3 * cfg.steps_per_epoch,\n",
    "        decay_rate=1e-2,\n",
    "        staircase=False,\n",
    "    )\n",
    "\n",
    "    early_stopping = tf.keras.callbacks.EarlyStopping(\n",
    "        monitor=\"val_loss\",\n",
    "        min_delta=0,\n",
    "        patience=15,\n",
    "        verbose=0,\n",
    "        mode=\"min\",\n",
    "        baseline=None,\n",
    "        restore_best_weights=True,\n",
    "    )\n",
    "\n",
    "    opt = keras.optimizers.Adam(lr_schedule)\n",
    "    model.compile(optimizer=opt, loss=tf.keras.losses.binary_crossentropy)\n",
    "\n",
    "    #model.summary()\n",
    "\n",
    "    #prognosis_out = BinaryEndpointLayer(name=\"prognosis_binary_loss\", config=config)(\n",
    "    #    prognosis, p\n",
    "    #)\n",
    "    #death_out = BinaryEndpointLayer(name=\"death_binary_loss\", config=config)(death, d)\n",
    "    return model, early_stopping"
   ]
  },
  {
   "cell_type": "code",
   "execution_count": 86,
   "id": "afd8e0e8",
   "metadata": {},
   "outputs": [],
   "source": [
    "def meta_model_mod3( n_feature_cols ):\n",
    "    input_meta = Input(shape=(n_feature_cols), name=\"meta\", dtype=\"float32\")\n",
    "    death = Input(name=\"death\", shape=(2), dtype=\"int32\")\n",
    "    prognosis = Input(name=\"prognosis\", shape=(2), dtype=\"int32\")\n",
    "\n",
    "    ## META HEAD\n",
    "    meta = Dense(64, activation=\"tanh\")(input_meta)\n",
    "    meta = BatchNormalization(name=\"meta_bn1\")(meta)\n",
    "    meta = Dense(64, activation=\"tanh\")(meta)\n",
    "    #meta = BatchNormalization(name=\"meta_bn2\")(meta)\n",
    "    #meta = Dense(128, activation=\"relu\")(meta)\n",
    "    #meta_out = BatchNormalization(name=\"meta_bn3\")(meta)\n",
    "\n",
    "    out = Dense(128, activation=\"tanh\")(meta)\n",
    "    #out = BatchNormalization(name=\"head_bn1\")(out)\n",
    "    out = Dropout(0.2)(out)\n",
    "    out = Dense(cfg.last_dense_size, activation=\"tanh\")(out)\n",
    "    #out = BatchNormalization(name=\"head_bn2\")(out)\n",
    "    out = Dense(2, activation=\"linear\", name=\"unnormalized_output\")(out)\n",
    "\n",
    "    #p, d = Lambda(lambda x: tf.split(x, num_or_size_splits=2, axis=1), name=\"outputs\")(\n",
    "    #    out\n",
    "    #)\n",
    "    prognosis_out = Softmax(name=\"prognosis_out\")(out)\n",
    "    #death_out = Softmax(name=\"death_out\")(d)\n",
    "\n",
    "    model = keras.models.Model(\n",
    "        inputs=[ input_meta ],\n",
    "        outputs=[ prognosis_out ],\n",
    "        name=\"model_v1\",\n",
    "    )\n",
    "\n",
    "    lr_schedule = tf.keras.optimizers.schedules.ExponentialDecay(\n",
    "        initial_learning_rate=1e-2,\n",
    "        decay_steps=3 * cfg.steps_per_epoch,\n",
    "        decay_rate=1e-2,\n",
    "        staircase=False,\n",
    "    )\n",
    "\n",
    "    early_stopping = tf.keras.callbacks.EarlyStopping(\n",
    "        monitor=\"val_loss\",\n",
    "        min_delta=0,\n",
    "        patience=15,\n",
    "        verbose=0,\n",
    "        mode=\"min\",\n",
    "        baseline=None,\n",
    "        restore_best_weights=True,\n",
    "    )\n",
    "\n",
    "    opt = keras.optimizers.Adam(lr_schedule)\n",
    "    model.compile(optimizer=opt, loss=tf.keras.losses.binary_crossentropy)\n",
    "\n",
    "    #model.summary()\n",
    "\n",
    "    #prognosis_out = BinaryEndpointLayer(name=\"prognosis_binary_loss\", config=config)(\n",
    "    #    prognosis, p\n",
    "    #)\n",
    "    #death_out = BinaryEndpointLayer(name=\"death_binary_loss\", config=config)(death, d)\n",
    "    return model, early_stopping"
   ]
  },
  {
   "cell_type": "code",
   "execution_count": 87,
   "id": "ac46ed99",
   "metadata": {},
   "outputs": [],
   "source": [
    "def meta_model_mod4( n_feature_cols ):\n",
    "    input_meta = Input(shape=(n_feature_cols), name=\"meta\", dtype=\"float32\")\n",
    "    death = Input(name=\"death\", shape=(2), dtype=\"int32\")\n",
    "    prognosis = Input(name=\"prognosis\", shape=(2), dtype=\"int32\")\n",
    "\n",
    "    ## META HEAD\n",
    "    meta = Dense(128, activation=\"tanh\")(input_meta)\n",
    "    meta = BatchNormalization(name=\"meta_bn1\")(meta)\n",
    "    meta = Dense(128, activation=\"tanh\")(meta)\n",
    "    #meta = BatchNormalization(name=\"meta_bn2\")(meta)\n",
    "    #meta = Dense(128, activation=\"relu\")(meta)\n",
    "    #meta_out = BatchNormalization(name=\"meta_bn3\")(meta)\n",
    "\n",
    "    out = Dense(128, activation=\"tanh\")(meta)\n",
    "    #out = BatchNormalization(name=\"head_bn1\")(out)\n",
    "    out = Dropout(0.2)(out)\n",
    "    out = Dense(cfg.last_dense_size, activation=\"tanh\")(out)\n",
    "    #out = BatchNormalization(name=\"head_bn2\")(out)\n",
    "    out = Dense(2, activation=\"linear\", name=\"unnormalized_output\")(out)\n",
    "\n",
    "    #p, d = Lambda(lambda x: tf.split(x, num_or_size_splits=2, axis=1), name=\"outputs\")(\n",
    "    #    out\n",
    "    #)\n",
    "    prognosis_out = Softmax(name=\"prognosis_out\")(out)\n",
    "    #death_out = Softmax(name=\"death_out\")(d)\n",
    "\n",
    "    model = keras.models.Model(\n",
    "        inputs=[ input_meta ],\n",
    "        outputs=[ prognosis_out ],\n",
    "        name=\"model_v1\",\n",
    "    )\n",
    "\n",
    "    lr_schedule = tf.keras.optimizers.schedules.ExponentialDecay(\n",
    "        cfg.learning_rate,\n",
    "        decay_steps=3 * cfg.steps_per_epoch,\n",
    "        decay_rate=1e-2,\n",
    "        staircase=False,\n",
    "    )\n",
    "\n",
    "    early_stopping = tf.keras.callbacks.EarlyStopping(\n",
    "        monitor=\"val_loss\",\n",
    "        min_delta=0,\n",
    "        patience=15,\n",
    "        verbose=0,\n",
    "        mode=\"min\",\n",
    "        baseline=None,\n",
    "        restore_best_weights=True,\n",
    "    )\n",
    "\n",
    "    opt = keras.optimizers.Adam(lr_schedule)\n",
    "    model.compile(optimizer=opt, loss=tf.keras.losses.binary_crossentropy,  )\n",
    "\n",
    "    #model.summary()\n",
    "\n",
    "    #prognosis_out = BinaryEndpointLayer(name=\"prognosis_binary_loss\", config=config)(\n",
    "    #    prognosis, p\n",
    "    #)\n",
    "    #death_out = BinaryEndpointLayer(name=\"death_binary_loss\", config=config)(death, d)\n",
    "    return model, early_stopping"
   ]
  },
  {
   "cell_type": "code",
   "execution_count": 88,
   "id": "2fe2ec24",
   "metadata": {},
   "outputs": [],
   "source": [
    "def meta_model_mod5( n_feature_cols ):\n",
    "    input_meta = Input(shape=(n_feature_cols), name=\"meta\", dtype=\"float32\")\n",
    "    death = Input(name=\"death\", shape=(2), dtype=\"int32\")\n",
    "    prognosis = Input(name=\"prognosis\", shape=(2), dtype=\"int32\")\n",
    "\n",
    "    ## META HEAD\n",
    "    meta = Dense(128, activation=\"tanh\")(input_meta)\n",
    "    meta = BatchNormalization(name=\"meta_bn1\")(meta)\n",
    "    meta = Dense(128, activation=\"tanh\")(meta)\n",
    "    meta = BatchNormalization(name=\"meta_bn2\")(meta)\n",
    "    #meta = Dense(128, activation=\"relu\")(meta)\n",
    "    #meta_out = BatchNormalization(name=\"meta_bn3\")(meta)\n",
    "\n",
    "    out = Dense(128, activation=\"tanh\")(meta)\n",
    "    #out = BatchNormalization(name=\"head_bn1\")(out)\n",
    "    out = Dropout(0.2)(out)\n",
    "    out = Dense(cfg.last_dense_size, activation=\"tanh\")(out)\n",
    "    #out = BatchNormalization(name=\"head_bn2\")(out)\n",
    "    out = Dense(2, activation=\"linear\", name=\"unnormalized_output\")(out)\n",
    "\n",
    "    #p, d = Lambda(lambda x: tf.split(x, num_or_size_splits=2, axis=1), name=\"outputs\")(\n",
    "    #    out\n",
    "    #)\n",
    "    prognosis_out = Softmax(name=\"prognosis_out\")(out)\n",
    "    #death_out = Softmax(name=\"death_out\")(d)\n",
    "\n",
    "    model = keras.models.Model(\n",
    "        inputs=[ input_meta ],\n",
    "        outputs=[ prognosis_out ],\n",
    "        name=\"model_v1\",\n",
    "    )\n",
    "\n",
    "    lr_schedule = tf.keras.optimizers.schedules.ExponentialDecay(\n",
    "        cfg.learning_rate,\n",
    "        decay_steps=3 * cfg.steps_per_epoch,\n",
    "        decay_rate=1e-2,\n",
    "        staircase=False,\n",
    "    )\n",
    "\n",
    "    early_stopping = tf.keras.callbacks.EarlyStopping(\n",
    "        monitor=\"val_loss\",\n",
    "        min_delta=0,\n",
    "        patience=15,\n",
    "        verbose=0,\n",
    "        mode=\"min\",\n",
    "        baseline=None,\n",
    "        restore_best_weights=True,\n",
    "    )\n",
    "\n",
    "    opt = keras.optimizers.Adam(lr_schedule)\n",
    "    model.compile(optimizer=opt, loss=tf.keras.losses.binary_crossentropy)\n",
    "\n",
    "    #model.summary()\n",
    "\n",
    "    #prognosis_out = BinaryEndpointLayer(name=\"prognosis_binary_loss\", config=config)(\n",
    "    #    prognosis, p\n",
    "    #)\n",
    "    #death_out = BinaryEndpointLayer(name=\"death_binary_loss\", config=config)(death, d)\n",
    "    return model, early_stopping"
   ]
  },
  {
   "cell_type": "code",
   "execution_count": 92,
   "id": "b9b3b794",
   "metadata": {},
   "outputs": [
    {
     "data": {
      "text/plain": [
       "({'meta_base': <function __main__.meta_model(n_feature_cols)>,\n",
       "  'meta_base_mod': <function __main__.meta_model_mod(n_feature_cols)>,\n",
       "  'meta_base_mod2': <function __main__.meta_model_mod2(n_feature_cols)>,\n",
       "  'meta_base_mod3': <function __main__.meta_model_mod3(n_feature_cols)>,\n",
       "  'meta_base_mod4': <function __main__.meta_model_mod4(n_feature_cols)>,\n",
       "  'meta_base_mod5': <function __main__.meta_model_mod5(n_feature_cols)>},\n",
       " {0: 'meta_base',\n",
       "  1: 'meta_base_mod',\n",
       "  2: 'meta_base_mod2',\n",
       "  3: 'meta_base_mod3',\n",
       "  4: 'meta_base_mod4',\n",
       "  5: 'meta_base_mod5'})"
      ]
     },
     "execution_count": 92,
     "metadata": {},
     "output_type": "execute_result"
    }
   ],
   "source": [
    "models_to_run_NN = { \n",
    "    'meta_base': meta_model, \n",
    "    'meta_base_mod': meta_model_mod,\n",
    "    'meta_base_mod2': meta_model_mod2,\n",
    "    'meta_base_mod3': meta_model_mod3,\n",
    "    'meta_base_mod4': meta_model_mod4,\n",
    "    'meta_base_mod5': meta_model_mod5\n",
    "    }\n",
    "num_to_model_NN = dict( zip( np.arange(len(models_to_run_NN)), list(models_to_run_NN.keys()) ) )\n",
    "models_to_run_NN, num_to_model_NN"
   ]
  },
  {
   "cell_type": "code",
   "execution_count": 93,
   "id": "b2e58ee6",
   "metadata": {},
   "outputs": [],
   "source": [
    "def fit_and_eval_models_NN( num_to_model, models_to_run, \n",
    "                            dataset='population_average', color='blue', m='o', start_idx=0, shift=0, columns=[], batch_size=cfg.batch_size):\n",
    "    for i in range(len(num_to_model) ):\n",
    "        current_model = num_to_model[i] \n",
    "        print(current_model)\n",
    "        scores = five_fold_cv_model_eval_NN( models_to_run[current_model], dataset, batch_size, columns )\n",
    "\n",
    "        ax1 = plt.subplot(131)\n",
    "        value = np.mean( scores['balanced_accuracy'] )\n",
    "        std_err = np.std( scores['balanced_accuracy'] ) / np.sqrt(5)\n",
    "        #sc = plt.scatter( i+np.zeros(5)+shift, scores['balanced_accuracy'], label=current_model, c=color, marker=m)\n",
    "        sc = plt.errorbar( start_idx+i+shift, value, yerr=std_err, label=current_model, c=color, marker=m )\n",
    "        #plt.xlabel('Models')\n",
    "        plt.xticks(ticks=list(num_to_model.keys()), labels=list(num_to_model.values()), rotation=45 )\n",
    "        plt.ylabel('Balanced accuracy score')\n",
    "        plt.grid(True)\n",
    "        sc.set_label(dataset)\n",
    "        if i == len(num_to_model)-1: # put legend at the last iteration to avoid duplicates\n",
    "            legend_without_duplicate_labels(ax1)        \n",
    "\n",
    "        ax2 = plt.subplot(132)\n",
    "        value = np.mean( scores['roc_auc'] )\n",
    "        std_err = np.std( scores['roc_auc'] ) / np.sqrt(5)\n",
    "        #sc = plt.scatter( i+np.zeros(5)+shift, scores['roc_auc'], label=current_model, c=color, marker=m)\n",
    "        sc = plt.errorbar( start_idx+i+shift, value, yerr=std_err, label=current_model, c=color, marker=m )\n",
    "        #plt.xlabel('Models')\n",
    "        plt.xticks(ticks=list(num_to_model.keys()), labels=list(num_to_model.values()), rotation=45)\n",
    "        plt.ylabel('Roc auc score')\n",
    "        plt.grid(True)\n",
    "        sc.set_label(dataset)\n",
    "        if i == len(num_to_model)-1: # put legend at the last iteration to avoid duplicates\n",
    "            legend_without_duplicate_labels(ax2)        \n",
    "\n",
    "        ax3 = plt.subplot(133)\n",
    "        value = np.mean( scores['f1'] )\n",
    "        std_err = np.std( scores['f1'] ) / np.sqrt(5)\n",
    "        #sc = plt.scatter( i+np.zeros(5)+shift, scores['f1'], label=current_model, c=color, marker=m)\n",
    "        sc = plt.errorbar( start_idx+i+shift, value, yerr=std_err, label=current_model, c=color, marker=m )\n",
    "        #plt.xlabel('Models')\n",
    "        plt.xticks(ticks=list(num_to_model.keys()), labels=list(num_to_model.values()), rotation=45 )\n",
    "        plt.ylabel('F1 score')\n",
    "        plt.grid(True)\n",
    "        sc.set_label(dataset)\n",
    "        if i == len(num_to_model)-1: # put legend at the last iteration to avoid duplicates\n",
    "            legend_without_duplicate_labels(ax3)"
   ]
  },
  {
   "cell_type": "code",
   "execution_count": null,
   "id": "cd3c6c39",
   "metadata": {},
   "outputs": [],
   "source": []
  },
  {
   "cell_type": "code",
   "execution_count": 107,
   "id": "3ef033c9",
   "metadata": {
    "scrolled": false
   },
   "outputs": [
    {
     "name": "stdout",
     "output_type": "stream",
     "text": [
      "meta_base\n",
      "meta_base_mod\n",
      "meta_base_mod2\n",
      "meta_base_mod3\n",
      "meta_base_mod4\n",
      "meta_base_mod5\n",
      "meta_base\n",
      "meta_base_mod\n",
      "meta_base_mod2\n",
      "meta_base_mod3\n",
      "meta_base_mod4\n",
      "meta_base_mod5\n",
      "meta_base\n",
      "meta_base_mod\n",
      "meta_base_mod2\n",
      "meta_base_mod3\n",
      "meta_base_mod4\n",
      "meta_base_mod5\n",
      "meta_base\n",
      "meta_base_mod\n",
      "meta_base_mod2\n",
      "meta_base_mod3\n",
      "meta_base_mod4\n",
      "meta_base_mod5\n"
     ]
    },
    {
     "data": {
      "image/png": "[encoded data removed]",
      "text/plain": [
       "<Figure size 1728x576 with 3 Axes>"
      ]
     },
     "metadata": {
      "needs_background": "light"
     },
     "output_type": "display_data"
    }
   ],
   "source": [
    "fig = plt.figure( figsize=(24,8) )\n",
    "#fit_and_eval_models( num_to_model, models_to_run, fig, dataset='population_average', color='midnightblue', m='o', shift=0.0,)\n",
    "fit_and_eval_models_NN( num_to_model_NN, models_to_run_NN, dataset='population_average', color='darkred', m='o', start_idx=0, shift=0.0)\n",
    "fit_and_eval_models_NN( num_to_model_NN, models_to_run_NN, dataset='population_sampled', color='forestgreen', m='x', shift=-0.05)\n",
    "fit_and_eval_models_NN( num_to_model_NN, models_to_run_NN, dataset='age_average', color='midnightblue', m='v', shift=0.05)\n",
    "fit_and_eval_models_NN( num_to_model_NN, models_to_run_NN, dataset='hospital_average', color='orange', m='s', shift=0.15)"
   ]
  },
  {
   "cell_type": "code",
   "execution_count": null,
   "id": "25c8ff4c",
   "metadata": {},
   "outputs": [],
   "source": []
  },
  {
   "cell_type": "code",
   "execution_count": null,
   "id": "39ec68c0",
   "metadata": {},
   "outputs": [],
   "source": []
  },
  {
   "cell_type": "code",
   "execution_count": 102,
   "id": "9b8f6f7e",
   "metadata": {},
   "outputs": [
    {
     "name": "stdout",
     "output_type": "stream",
     "text": [
      "meta_base\n",
      "meta_base_mod\n",
      "meta_base_mod2\n",
      "meta_base_mod3\n",
      "meta_base_mod4\n",
      "meta_base_mod5\n"
     ]
    },
    {
     "data": {
      "image/png": "[encoded data removed]",
      "text/plain": [
       "<Figure size 1728x576 with 3 Axes>"
      ]
     },
     "metadata": {
      "needs_background": "light"
     },
     "output_type": "display_data"
    }
   ],
   "source": [
    "fig = plt.figure( figsize=(24,8) )\n",
    "#fit_and_eval_models( num_to_model, models_to_run, fig, dataset='population_average', color='midnightblue', m='o', shift=0.0,)\n",
    "fit_and_eval_models_NN( num_to_model_NN, models_to_run_NN, dataset='population_average', color='darkred', m='o', start_idx=0, shift=0.0, batch_size=16)\n",
    "#fit_and_eval_models_NN( num_to_model_NN, models_to_run_NN, dataset='population_sampled', color='forestgreen', m='x', shift=-0.05)\n",
    "#fit_and_eval_models_NN( num_to_model_NN, models_to_run_NN, dataset='age_average', color='midnightblue', m='v', shift=0.05)\n",
    "#fit_and_eval_models_NN( num_to_model_NN, models_to_run_NN, dataset='hospital_average', color='orange', m='s', shift=0.15)"
   ]
  },
  {
   "cell_type": "code",
   "execution_count": 103,
   "id": "6e4664b1",
   "metadata": {},
   "outputs": [
    {
     "name": "stdout",
     "output_type": "stream",
     "text": [
      "meta_base\n",
      "meta_base_mod\n",
      "meta_base_mod2\n",
      "meta_base_mod3\n",
      "meta_base_mod4\n",
      "meta_base_mod5\n"
     ]
    },
    {
     "data": {
      "image/png": "[encoded data removed]",
      "text/plain": [
       "<Figure size 1728x576 with 3 Axes>"
      ]
     },
     "metadata": {
      "needs_background": "light"
     },
     "output_type": "display_data"
    }
   ],
   "source": [
    "fig = plt.figure( figsize=(24,8) )\n",
    "#fit_and_eval_models( num_to_model, models_to_run, fig, dataset='population_average', color='midnightblue', m='o', shift=0.0,)\n",
    "fit_and_eval_models_NN( num_to_model_NN, models_to_run_NN, dataset='population_average', color='darkred', m='o', start_idx=0, shift=0.0, batch_size=32)\n",
    "#fit_and_eval_models_NN( num_to_model_NN, models_to_run_NN, dataset='population_sampled', color='forestgreen', m='x', shift=-0.05)\n",
    "#fit_and_eval_models_NN( num_to_model_NN, models_to_run_NN, dataset='age_average', color='midnightblue', m='v', shift=0.05)\n",
    "#fit_and_eval_models_NN( num_to_model_NN, models_to_run_NN, dataset='hospital_average', color='orange', m='s', shift=0.15)"
   ]
  },
  {
   "cell_type": "code",
   "execution_count": null,
   "id": "8f3added",
   "metadata": {},
   "outputs": [],
   "source": []
  },
  {
   "cell_type": "code",
   "execution_count": null,
   "id": "58e15310",
   "metadata": {},
   "outputs": [],
   "source": []
  },
  {
   "cell_type": "code",
   "execution_count": null,
   "id": "56ddb201",
   "metadata": {},
   "outputs": [],
   "source": []
  },
  {
   "cell_type": "code",
   "execution_count": null,
   "id": "433853c0",
   "metadata": {},
   "outputs": [],
   "source": []
  },
  {
   "cell_type": "code",
   "execution_count": 51,
   "id": "c11a5341",
   "metadata": {},
   "outputs": [
    {
     "name": "stdout",
     "output_type": "stream",
     "text": [
      "meta_base\n",
      "meta_base_mod\n",
      "meta_base_mod2\n"
     ]
    },
    {
     "data": {
      "image/png": "[encoded data removed]",
      "text/plain": [
       "<Figure size 1728x576 with 3 Axes>"
      ]
     },
     "metadata": {
      "needs_background": "light"
     },
     "output_type": "display_data"
    }
   ],
   "source": [
    "fig = plt.figure( figsize=(24,8) )\n",
    "#fit_and_eval_models( num_to_model, models_to_run, fig, dataset='population_average', color='midnightblue', m='o', shift=0.0,)\n",
    "fit_and_eval_models_NN( num_to_model_NN, models_to_run_NN, dataset='population_average', color='darkred', m='o', start_idx=0, shift=0.0)\n",
    "#fit_and_eval_models_NN( num_to_model_NN, models_to_run_NN, dataset='population_sampled', color='forestgreen', m='x', shift=-0.05)\n",
    "#fit_and_eval_models_NN( num_to_model_NN, models_to_run_NN, dataset='age_average', color='midnightblue', m='v', shift=0.05)\n",
    "#fit_and_eval_models_NN( num_to_model_NN, models_to_run_NN, dataset='hospital_average', color='orange', m='s', shift=0.15)"
   ]
  },
  {
   "cell_type": "markdown",
   "id": "d6f2e95a",
   "metadata": {},
   "source": [
    "## More complex model"
   ]
  },
  {
   "cell_type": "markdown",
   "id": "290dd97f",
   "metadata": {},
   "source": [
    "#### Locate data"
   ]
  },
  {
   "cell_type": "code",
   "execution_count": 51,
   "id": "8db8cd3c",
   "metadata": {},
   "outputs": [],
   "source": [
    "def load_cv_data_pred_only( cv=1, dataset='age_average' ):\n",
    "    \n",
    "    base_path = os.path.join( cfg.raw_output_base, 'checkpoints' )\n",
    "    model_cross_val_paths = np.array( sorted( [ i for i in os.listdir( base_path ) if 'CROSS' and 'v2' in i] ) )\n",
    "    model_datasets = np.array([ '_'.join( j.split('_')[2:4]) for j in model_cross_val_paths ])\n",
    "    cross_val_paths = model_cross_val_paths[ model_datasets == dataset ]\n",
    "    \n",
    "    current_fold_path = os.path.join( base_path, cross_val_paths[0] )\n",
    "    model_checkpoint_dir = os.listdir( current_fold_path )\n",
    "    \n",
    "    current_final_path = os.path.join( current_fold_path, model_checkpoint_dir[cv-1] )+ '/pred.csv'\n",
    "    \n",
    "    pred_df = pd.read_csv(current_final_path)\n",
    "    pred_df.prognosis.replace('SEVERE', 1, inplace=True)\n",
    "    pred_df.prognosis.replace('MILD', 0, inplace=True)\n",
    "    \n",
    "    y_pred = pred_df.prognosis.values\n",
    "    \n",
    "    \n",
    "    FOLD = int(open(os.path.join( current_fold_path, model_checkpoint_dir[cv-1], \"fold\"), 'r').readline()) + 1\n",
    "    y_true = pd.read_csv( cfg.datasets[dataset].cv_valid_table+f'cv{FOLD}.csv')\n",
    "    y_true.Prognosis.replace('SEVERE', 1, inplace=True)\n",
    "    y_true.Prognosis.replace('MILD', 0, inplace=True)\n",
    "    y_true = y_true.Prognosis.values\n",
    "        \n",
    "    return y_pred, y_true"
   ]
  },
  {
   "cell_type": "code",
   "execution_count": 52,
   "id": "a285fe1d",
   "metadata": {},
   "outputs": [],
   "source": [
    "def five_fold_cv_model_eval_NN_pred_only(dataset='age_average'):\n",
    "        \n",
    "    b_accs = []\n",
    "    roc_aucs = []\n",
    "    f1s = []\n",
    "    \n",
    "    scores = {}\n",
    "    \n",
    "    for f in range(1,6):\n",
    "        #print(columns)\n",
    "        y_pred, y_true = load_cv_data_pred_only(f, dataset)\n",
    "        \n",
    "        try:\n",
    "            b_acc = metrics.balanced_accuracy_score( y_pred=y_pred, y_true=y_true )\n",
    "            f1 = metrics.f1_score( y_true=y_true, y_pred=y_pred )\n",
    "            f1s.append(f1)\n",
    "            b_accs.append(b_acc)\n",
    "        except:\n",
    "            print('', end='\\r')\n",
    "        \n",
    "        try:\n",
    "            roc_auc = metrics.roc_auc_score( y_true=y_true, y_score=y_pred )\n",
    "            roc_aucs.append(roc_auc)\n",
    "            \n",
    "        except:\n",
    "            print('', end='\\r')\n",
    "    \n",
    "    scores['balanced_accuracy'] = b_accs\n",
    "    scores['roc_auc'] = roc_aucs\n",
    "    scores['f1'] = f1s\n",
    "    \n",
    "    return scores"
   ]
  },
  {
   "cell_type": "code",
   "execution_count": 53,
   "id": "bacfebf0",
   "metadata": {},
   "outputs": [
    {
     "name": "stdout",
     "output_type": "stream",
     "text": [
      "['CROSS_VAL_age_average_v2' 'CROSS_VAL_population_average_v2']\n",
      "['CROSS_VAL_age_average_v2' 'CROSS_VAL_population_average_v2']\n",
      "['CROSS_VAL_age_average_v2' 'CROSS_VAL_population_average_v2']\n",
      "['CROSS_VAL_age_average_v2' 'CROSS_VAL_population_average_v2']\n",
      "['CROSS_VAL_age_average_v2' 'CROSS_VAL_population_average_v2']\n"
     ]
    }
   ],
   "source": [
    "scores_age_avg = five_fold_cv_model_eval_NN_pred_only('age_average')"
   ]
  },
  {
   "cell_type": "code",
   "execution_count": 50,
   "id": "8a07ba0b",
   "metadata": {},
   "outputs": [
    {
     "data": {
      "text/plain": [
       "{'balanced_accuracy': [0.7550492610837438,\n",
       "  0.7209972025670561,\n",
       "  0.7555309734513274,\n",
       "  0.7647902327105867,\n",
       "  0.7095425479586817],\n",
       " 'roc_auc': [0.7550492610837438,\n",
       "  0.7209972025670561,\n",
       "  0.7555309734513274,\n",
       "  0.7647902327105867,\n",
       "  0.7095425479586819],\n",
       " 'f1': [0.7672413793103448,\n",
       "  0.7822878228782287,\n",
       "  0.7610619469026548,\n",
       "  0.7614678899082569,\n",
       "  0.6952380952380953]}"
      ]
     },
     "execution_count": 50,
     "metadata": {},
     "output_type": "execute_result"
    }
   ],
   "source": [
    "scores_age_avg"
   ]
  },
  {
   "cell_type": "code",
   "execution_count": 43,
   "id": "3f80c917",
   "metadata": {},
   "outputs": [],
   "source": [
    "scores_pop_avg = five_fold_cv_model_eval_NN_pred_only('population_average')"
   ]
  },
  {
   "cell_type": "code",
   "execution_count": 44,
   "id": "eba2687e",
   "metadata": {},
   "outputs": [
    {
     "data": {
      "text/plain": [
       "{'balanced_accuracy': [0.781900826446281,\n",
       "  0.6900197465854863,\n",
       "  0.7665598290598291,\n",
       "  0.7265240904621435,\n",
       "  0.7734349393641429],\n",
       " 'roc_auc': [0.781900826446281,\n",
       "  0.6900197465854863,\n",
       "  0.7665598290598291,\n",
       "  0.7265240904621435,\n",
       "  0.773434939364143],\n",
       " 'f1': [0.7860262008733625,\n",
       "  0.7703180212014133,\n",
       "  0.7678571428571429,\n",
       "  0.696969696969697,\n",
       "  0.7807017543859648]}"
      ]
     },
     "execution_count": 44,
     "metadata": {},
     "output_type": "execute_result"
    }
   ],
   "source": [
    "scores_pop_avg"
   ]
  },
  {
   "cell_type": "code",
   "execution_count": 45,
   "id": "2a147c6f",
   "metadata": {},
   "outputs": [],
   "source": [
    "def plot_scores(scores, current_model, color, m, dataset, shift):\n",
    "    ax1 = plt.subplot(131)\n",
    "    value = np.mean( scores['balanced_accuracy'] )\n",
    "    std_err = np.std( scores['balanced_accuracy'] ) / np.sqrt(5)\n",
    "    sc = plt.errorbar( 5+shift, value, yerr=std_err, label=current_model, c=color, marker=m )\n",
    "    plt.ylabel('Balanced accuracy score')\n",
    "    plt.grid(True)\n",
    "    sc.set_label(dataset)  \n",
    "\n",
    "    ax2 = plt.subplot(132)\n",
    "    value = np.mean( scores['roc_auc'] )\n",
    "    std_err = np.std( scores['roc_auc'] ) / np.sqrt(5)\n",
    "    sc = plt.errorbar( 5+shift, value, yerr=std_err, label=current_model, c=color, marker=m )\n",
    "    plt.ylabel('Roc auc score')\n",
    "    plt.grid(True)\n",
    "    sc.set_label(dataset)       \n",
    "\n",
    "    ax3 = plt.subplot(133)\n",
    "    value = np.mean( scores['f1'] )\n",
    "    std_err = np.std( scores['f1'] ) / np.sqrt(5)\n",
    "    sc = plt.errorbar( 5+shift, value, yerr=std_err, label=current_model, c=color, marker=m )\n",
    "    plt.ylabel('F1 score')\n",
    "    plt.grid(True)\n",
    "    sc.set_label(dataset)"
   ]
  },
  {
   "cell_type": "code",
   "execution_count": 46,
   "id": "e5ef521a",
   "metadata": {},
   "outputs": [
    {
     "name": "stdout",
     "output_type": "stream",
     "text": [
      "[14:51:18] WARNING: ../src/learner.cc:1115: Starting in XGBoost 1.3.0, the default evaluation metric used with the objective 'binary:logistic' was changed from 'error' to 'logloss'. Explicitly set eval_metric if you'd like to restore the old behavior.\n",
      "[14:51:18] WARNING: ../src/learner.cc:1115: Starting in XGBoost 1.3.0, the default evaluation metric used with the objective 'binary:logistic' was changed from 'error' to 'logloss'. Explicitly set eval_metric if you'd like to restore the old behavior.\n",
      "[14:51:18] WARNING: ../src/learner.cc:1115: Starting in XGBoost 1.3.0, the default evaluation metric used with the objective 'binary:logistic' was changed from 'error' to 'logloss'. Explicitly set eval_metric if you'd like to restore the old behavior.\n",
      "[14:51:19] WARNING: ../src/learner.cc:1115: Starting in XGBoost 1.3.0, the default evaluation metric used with the objective 'binary:logistic' was changed from 'error' to 'logloss'. Explicitly set eval_metric if you'd like to restore the old behavior.\n",
      "[14:51:19] WARNING: ../src/learner.cc:1115: Starting in XGBoost 1.3.0, the default evaluation metric used with the objective 'binary:logistic' was changed from 'error' to 'logloss'. Explicitly set eval_metric if you'd like to restore the old behavior.\n",
      "[14:51:25] WARNING: ../src/learner.cc:1115: Starting in XGBoost 1.3.0, the default evaluation metric used with the objective 'binary:logistic' was changed from 'error' to 'logloss'. Explicitly set eval_metric if you'd like to restore the old behavior.\n",
      "[14:51:25] WARNING: ../src/learner.cc:1115: Starting in XGBoost 1.3.0, the default evaluation metric used with the objective 'binary:logistic' was changed from 'error' to 'logloss'. Explicitly set eval_metric if you'd like to restore the old behavior.\n",
      "[14:51:25] WARNING: ../src/learner.cc:1115: Starting in XGBoost 1.3.0, the default evaluation metric used with the objective 'binary:logistic' was changed from 'error' to 'logloss'. Explicitly set eval_metric if you'd like to restore the old behavior.\n",
      "[14:51:25] WARNING: ../src/learner.cc:1115: Starting in XGBoost 1.3.0, the default evaluation metric used with the objective 'binary:logistic' was changed from 'error' to 'logloss'. Explicitly set eval_metric if you'd like to restore the old behavior.\n",
      "[14:51:25] WARNING: ../src/learner.cc:1115: Starting in XGBoost 1.3.0, the default evaluation metric used with the objective 'binary:logistic' was changed from 'error' to 'logloss'. Explicitly set eval_metric if you'd like to restore the old behavior.\n"
     ]
    },
    {
     "data": {
      "image/png": "[encoded data removed]",
      "text/plain": [
       "<Figure size 1728x576 with 3 Axes>"
      ]
     },
     "metadata": {
      "needs_background": "light"
     },
     "output_type": "display_data"
    }
   ],
   "source": [
    "fig = plt.figure( figsize=(24,8) )\n",
    "fit_and_eval_models( num_to_model, models_to_run, fig, dataset='population_average', color='darkred', m='o', shift=-0.15)\n",
    "#fit_and_eval_models( num_to_model, models_to_run, fig, dataset='population_sampled', color='forestgreen', m='x', shift=-0.05)\n",
    "fit_and_eval_models( num_to_model, models_to_run, fig, dataset='age_average', color='midnightblue', m='v', shift=0.05)\n",
    "#fit_and_eval_models( num_to_model, models_to_run, fig, dataset='hospital_average', color='orange', m='s', shift=0.15)\n",
    "plot_scores(scores_age_avg, 'Hybrid NN', color='orange', m='s', dataset='hybrid age_avg', shift=.2)\n",
    "plot_scores(scores_pop_avg, 'Hybrid NN', color='forestgreen', m='x', dataset='hybrid pop_avg', shift=.25)"
   ]
  },
  {
   "cell_type": "code",
   "execution_count": null,
   "id": "ae428259",
   "metadata": {},
   "outputs": [],
   "source": []
  }
 ],
 "metadata": {
  "kernelspec": {
   "display_name": "Python 3 (ipykernel)",
   "language": "python",
   "name": "python3"
  },
  "language_info": {
   "codemirror_mode": {
    "name": "ipython",
    "version": 3
   },
   "file_extension": ".py",
   "mimetype": "text/x-python",
   "name": "python",
   "nbconvert_exporter": "python",
   "pygments_lexer": "ipython3",
   "version": "3.8.10"
  }
 },
 "nbformat": 4,
 "nbformat_minor": 5
}
