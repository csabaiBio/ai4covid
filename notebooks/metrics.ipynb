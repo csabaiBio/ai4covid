{
 "cells": [
  {
   "cell_type": "code",
   "execution_count": 1,
   "id": "2e667e1c",
   "metadata": {},
   "outputs": [
    {
     "data": {
      "text/html": [
       "<style>.container { width:100% !important; }</style>"
      ],
      "text/plain": [
       "<IPython.core.display.HTML object>"
      ]
     },
     "metadata": {},
     "output_type": "display_data"
    }
   ],
   "source": [
    "from IPython.display import display, HTML\n",
    "display(HTML(\"<style>.container { width:100% !important; }</style>\"))"
   ]
  },
  {
   "cell_type": "code",
   "execution_count": 2,
   "id": "fd9d0998",
   "metadata": {
    "scrolled": true
   },
   "outputs": [
    {
     "name": "stderr",
     "output_type": "stream",
     "text": [
      "/home/abiricz/.local/lib/python3.8/site-packages/xgboost/compat.py:36: FutureWarning: pandas.Int64Index is deprecated and will be removed from pandas in a future version. Use pandas.Index with the appropriate dtype instead.\n",
      "  from pandas import MultiIndex, Int64Index\n"
     ]
    }
   ],
   "source": [
    "import numpy as np\n",
    "import pandas as pd\n",
    "import seaborn as sns\n",
    "import matplotlib.pyplot as plt\n",
    "from collections import Counter\n",
    "import plotly.express as px\n",
    "import math\n",
    "\n",
    "from sklearn import metrics, model_selection\n",
    "from sklearn.preprocessing import scale, normalize\n",
    "from sklearn import datasets, cluster\n",
    "from sklearn import neighbors, ensemble, tree, linear_model\n",
    "from xgboost import XGBClassifier\n",
    "from sklearn.model_selection import train_test_split\n",
    "from sklearn.feature_selection import RFE\n",
    "from sklearn import linear_model\n",
    "from sklearn import svm\n",
    "from sklearn.ensemble import GradientBoostingClassifier, RandomForestClassifier\n",
    "\n",
    "import warnings\n",
    "warnings.filterwarnings('ignore')\n",
    "\n",
    "from hydra import initialize, compose"
   ]
  },
  {
   "cell_type": "markdown",
   "id": "f1720ed8",
   "metadata": {},
   "source": [
    "### Locate and choose config files"
   ]
  },
  {
   "cell_type": "code",
   "execution_count": 3,
   "id": "d45d57f3",
   "metadata": {},
   "outputs": [
    {
     "data": {
      "text/plain": [
       "hydra.initialize()"
      ]
     },
     "execution_count": 3,
     "metadata": {},
     "output_type": "execute_result"
    }
   ],
   "source": [
    "initialize('../src/conf/') # Assume the configuration file is in the current folder"
   ]
  },
  {
   "cell_type": "code",
   "execution_count": 4,
   "id": "99d6eed1",
   "metadata": {},
   "outputs": [],
   "source": [
    "cfg = compose(config_name='train.yaml')"
   ]
  },
  {
   "cell_type": "code",
   "execution_count": 5,
   "id": "7247956f",
   "metadata": {},
   "outputs": [
    {
     "data": {
      "text/plain": [
       "dict_keys(['project', 'segmentation_base_path', 'preprocessed_image_base_path', 'fourier_base_path', 'brixia_score_base_path', 'raw_output_base', 'img_size', 'backbone', 'last_dense_size', 'batch_size', 'epochs', 'learning_rate', 'steps_per_epoch', 'death_rate', 'visualize', 'augment', 'cross_val_train', 'n_folds', 'dataset_identifier', 'datasets'])"
      ]
     },
     "execution_count": 5,
     "metadata": {},
     "output_type": "execute_result"
    }
   ],
   "source": [
    "cfg.keys()"
   ]
  },
  {
   "cell_type": "markdown",
   "id": "b838ee87",
   "metadata": {},
   "source": [
    "#### paths for image based models"
   ]
  },
  {
   "cell_type": "code",
   "execution_count": 6,
   "id": "79aa5716",
   "metadata": {
    "scrolled": true
   },
   "outputs": [
    {
     "data": {
      "text/plain": [
       "('/mnt/ncshare/ai4covid_hackathon/preprocessed_data/train/aligned',\n",
       " '/mnt/ncshare/ai4covid_hackathon/preprocessed_data/train/fourier_2d',\n",
       " '/mnt/ncshare/ai4covid_hackathon/preprocessed_data/train/segmented')"
      ]
     },
     "execution_count": 6,
     "metadata": {},
     "output_type": "execute_result"
    }
   ],
   "source": [
    "cfg.preprocessed_image_base_path, cfg.fourier_base_path, cfg.segmentation_base_path"
   ]
  },
  {
   "cell_type": "markdown",
   "id": "92600571",
   "metadata": {},
   "source": [
    "#### paths for dataframe based models"
   ]
  },
  {
   "cell_type": "code",
   "execution_count": 7,
   "id": "93e9fdfa",
   "metadata": {},
   "outputs": [
    {
     "data": {
      "text/plain": [
       "'/mnt/ncshare/ai4covid_hackathon/preprocessed_data/train/score_original'"
      ]
     },
     "execution_count": 7,
     "metadata": {},
     "output_type": "execute_result"
    }
   ],
   "source": [
    "cfg.brixia_score_base_path"
   ]
  },
  {
   "cell_type": "code",
   "execution_count": 8,
   "id": "5a1e1930",
   "metadata": {},
   "outputs": [
    {
     "data": {
      "text/plain": [
       "dict_keys(['population_average', 'population_sampled', 'age_average', 'hospital_average'])"
      ]
     },
     "execution_count": 8,
     "metadata": {},
     "output_type": "execute_result"
    }
   ],
   "source": [
    "cfg.datasets.keys()"
   ]
  },
  {
   "cell_type": "code",
   "execution_count": 9,
   "id": "f968ad18",
   "metadata": {},
   "outputs": [
    {
     "data": {
      "text/plain": [
       "dict_keys(['train_table', 'valid_table', 'test_table', 'cv_train_table', 'cv_valid_table', 'feature_cols'])"
      ]
     },
     "execution_count": 9,
     "metadata": {},
     "output_type": "execute_result"
    }
   ],
   "source": [
    "cfg.datasets.population_average.keys()"
   ]
  },
  {
   "cell_type": "markdown",
   "id": "26dee1ac",
   "metadata": {},
   "source": [
    "##### how folds are encoded"
   ]
  },
  {
   "cell_type": "code",
   "execution_count": 10,
   "id": "1486e052",
   "metadata": {},
   "outputs": [
    {
     "data": {
      "text/plain": [
       "('/mnt/ncshare/ai4covid_hackathon/preprocessed_data/tables/pop_avg/trainClinDataImputedPopAvg_',\n",
       " '+cv1.csv',\n",
       " '+cv2.csv',\n",
       " '...',\n",
       " '+cv5.csv')"
      ]
     },
     "execution_count": 10,
     "metadata": {},
     "output_type": "execute_result"
    }
   ],
   "source": [
    "cfg.datasets.population_average.cv_train_table, '+cv1.csv', '+cv2.csv', '...', '+cv5.csv'"
   ]
  },
  {
   "cell_type": "code",
   "execution_count": 11,
   "id": "f3ffde36",
   "metadata": {},
   "outputs": [
    {
     "data": {
      "text/plain": [
       "'/mnt/ncshare/ai4covid_hackathon/preprocessed_data/tables/pop_avg/validClinDataImputedPopAvg_'"
      ]
     },
     "execution_count": 11,
     "metadata": {},
     "output_type": "execute_result"
    }
   ],
   "source": [
    "cfg.datasets.population_average.cv_valid_table"
   ]
  },
  {
   "cell_type": "markdown",
   "id": "16e8f63e",
   "metadata": {},
   "source": [
    "##### train cv1 and valid cv1 are the corresponding parts"
   ]
  },
  {
   "cell_type": "code",
   "execution_count": 12,
   "id": "50d9c14f",
   "metadata": {
    "scrolled": false
   },
   "outputs": [
    {
     "data": {
      "text/plain": [
       "0"
      ]
     },
     "execution_count": 12,
     "metadata": {},
     "output_type": "execute_result"
    }
   ],
   "source": [
    "np.in1d( pd.read_csv( cfg.datasets.population_average.cv_train_table+'cv1.csv').ImageFile.unique(), pd.read_csv( cfg.datasets.population_average.cv_valid_table+'cv1.csv').ImageFile.unique() ).sum()"
   ]
  },
  {
   "cell_type": "markdown",
   "id": "2def32bb",
   "metadata": {},
   "source": [
    "##### dataframe colums"
   ]
  },
  {
   "cell_type": "code",
   "execution_count": 81,
   "id": "fd568712",
   "metadata": {},
   "outputs": [],
   "source": [
    "best_cols = np.array(['Age', 'BPCO', 'CRP', 'CardiovascularDisease', 'Cough', 'D_dimer', 'DaysFever', 'Diabetes', 'DifficultyInBreathing', 'Fibrinogen', 'Glucose', 'HighBloodPressure', 'Hospital_A', 'Hospital_C', 'Hospital_D', 'Hospital_F', 'INR', 'IschemicHeartDisease', 'LDH', 'Ox_percentage', 'PCT', 'PaCO2', 'PaO2', 'Position', 'RBC', 'SaO2', 'Sex', 'Temp_C', 'WBC', 'pH'])"
   ]
  },
  {
   "cell_type": "code",
   "execution_count": 82,
   "id": "551b16e9",
   "metadata": {},
   "outputs": [
    {
     "data": {
      "text/plain": [
       "(30,)"
      ]
     },
     "execution_count": 82,
     "metadata": {},
     "output_type": "execute_result"
    }
   ],
   "source": [
    "best_cols.shape"
   ]
  },
  {
   "cell_type": "code",
   "execution_count": 83,
   "id": "014de23e",
   "metadata": {},
   "outputs": [
    {
     "data": {
      "text/plain": [
       "array(['Age', 'Sex', 'Temp_C', 'DaysFever', 'Cough',\n",
       "       'DifficultyInBreathing', 'WBC', 'RBC', 'CRP', 'Fibrinogen',\n",
       "       'Glucose', 'PCT', 'LDH', 'INR', 'D_dimer', 'Ox_percentage', 'PaO2',\n",
       "       'SaO2', 'PaCO2', 'pH', 'CardiovascularDisease',\n",
       "       'IschemicHeartDisease', 'HighBloodPressure', 'Diabetes', 'BPCO',\n",
       "       'Position', 'Hospital_A', 'Hospital_C', 'Hospital_D', 'Hospital_F'],\n",
       "      dtype='<U21')"
      ]
     },
     "execution_count": 83,
     "metadata": {},
     "output_type": "execute_result"
    }
   ],
   "source": [
    "np.array(cfg.datasets.population_average.feature_cols)[ np.in1d(cfg.datasets.population_average.feature_cols, best_cols) ]"
   ]
  },
  {
   "cell_type": "markdown",
   "id": "23d5cae2",
   "metadata": {},
   "source": [
    "## Table based models"
   ]
  },
  {
   "cell_type": "markdown",
   "id": "a3aee60f",
   "metadata": {},
   "source": [
    "### Data preprocessing"
   ]
  },
  {
   "cell_type": "code",
   "execution_count": 104,
   "id": "ae8a60fb",
   "metadata": {},
   "outputs": [],
   "source": [
    "def dataframe_preproc( df, columns=[] ):\n",
    "    df.Prognosis.replace('SEVERE', 1, inplace=True)\n",
    "    df.Prognosis.replace('MILD', 0, inplace=True)\n",
    "    X_df = df.drop( columns=['ImageFile', 'Prognosis', 'Death'])    \n",
    "    \n",
    "    y = df[ ['Prognosis', 'Death'] ].values\n",
    "        \n",
    "    if len(columns) > 0:\n",
    "        X_df = X_df[best_cols] # restrict to certain columns only\n",
    "    \n",
    "    X = X_df.values\n",
    "    X_features = X_df.columns\n",
    "        \n",
    "    return X, y, X_features"
   ]
  },
  {
   "cell_type": "code",
   "execution_count": 105,
   "id": "39a55638",
   "metadata": {},
   "outputs": [],
   "source": [
    "def load_cv_data( cv=1, dataset='population_average', columns=[] ):\n",
    "    train_cv_df = pd.read_csv( cfg.datasets[dataset].cv_train_table+'cv'+str(cv)+'.csv')\n",
    "    valid_cv_df = pd.read_csv( cfg.datasets[dataset].cv_valid_table+'cv'+str(cv)+'.csv')\n",
    "\n",
    "    x_train, y_train, features_train = dataframe_preproc( train_cv_df, columns )\n",
    "    x_valid, y_valid, features_valid = dataframe_preproc( valid_cv_df, columns )\n",
    "\n",
    "    # keep prognosis only\n",
    "    y_train = y_train[:,0]\n",
    "    y_valid = y_valid[:,0]\n",
    "    \n",
    "    #print(x_train.shape, y_train.shape, x_valid.shape, y_valid.shape)\n",
    "    return x_train, y_train, x_valid, y_valid"
   ]
  },
  {
   "cell_type": "code",
   "execution_count": 106,
   "id": "b1a3d1c5",
   "metadata": {
    "scrolled": true
   },
   "outputs": [],
   "source": [
    "#x_train, y_train, features_train, x_valid, y_valid = load_cv_data(1, 'population_average', columns=best_cols)"
   ]
  },
  {
   "cell_type": "markdown",
   "id": "9bd08a1b",
   "metadata": {},
   "source": [
    "### Sklearn models"
   ]
  },
  {
   "cell_type": "code",
   "execution_count": 107,
   "id": "3058ee4a",
   "metadata": {},
   "outputs": [],
   "source": [
    "def five_fold_cv_model_eval( model, dataset='population_average', columns=[]):\n",
    "    try:\n",
    "        model_instance = model(n_jobs=8)\n",
    "    except:\n",
    "        model_instance = model()\n",
    "        \n",
    "    b_accs = []\n",
    "    roc_aucs = []\n",
    "    f1s = []\n",
    "    \n",
    "    scores = {}\n",
    "    \n",
    "    for f in range(1,6):\n",
    "        x_train, y_train, x_valid, y_valid = load_cv_data(f, dataset, columns)\n",
    "        model_instance.fit(x_train, y_train)\n",
    "        try:\n",
    "            pred_values_label = model_instance.predict(x_valid)\n",
    "            b_acc = metrics.balanced_accuracy_score( y_pred=pred_values_label, y_true=y_valid )\n",
    "            f1 = metrics.f1_score( y_true=y_valid, y_pred=pred_values_label )\n",
    "            f1s.append(f1)\n",
    "            b_accs.append(b_acc)\n",
    "        except:\n",
    "            print('', end='\\r')\n",
    "        \n",
    "        try:\n",
    "            pred_values_proba = model_instance.predict_proba(x_valid)            \n",
    "            roc_auc = metrics.roc_auc_score( y_true=y_valid, y_score=pred_values_proba[:,1] )\n",
    "            roc_aucs.append(roc_auc)\n",
    "            \n",
    "        except:\n",
    "            try:\n",
    "                # this is added for SVM proba pred\n",
    "                model_instance = model(probability=True)\n",
    "                model_instance.fit(x_train, y_train)\n",
    "                pred_values_proba = model_instance.predict_proba(x_valid)\n",
    "                roc_auc = metrics.roc_auc_score( y_true=y_valid, y_score=pred_values_proba[:,1] )\n",
    "                roc_aucs.append(roc_auc)\n",
    "            except:\n",
    "                print('', end='\\r')\n",
    "    \n",
    "    scores['balanced_accuracy'] = b_accs\n",
    "    scores['roc_auc'] = roc_aucs\n",
    "    scores['f1'] = f1s\n",
    "    \n",
    "    return scores"
   ]
  },
  {
   "cell_type": "markdown",
   "id": "d07f7ff7",
   "metadata": {},
   "source": [
    "#### Define models"
   ]
  },
  {
   "cell_type": "code",
   "execution_count": 108,
   "id": "48da4900",
   "metadata": {},
   "outputs": [
    {
     "data": {
      "text/plain": [
       "{'Logistic': sklearn.linear_model._logistic.LogisticRegression,\n",
       " 'SVM': sklearn.svm._classes.SVC,\n",
       " 'Randomforest': sklearn.ensemble._forest.RandomForestClassifier,\n",
       " 'GradientBoosting': sklearn.ensemble._gb.GradientBoostingClassifier,\n",
       " 'XGB': xgboost.sklearn.XGBClassifier}"
      ]
     },
     "execution_count": 108,
     "metadata": {},
     "output_type": "execute_result"
    }
   ],
   "source": [
    "models_to_run = { 'Logistic': linear_model.LogisticRegression, 'SVM': svm.SVC, \n",
    "                  'Randomforest': ensemble.RandomForestClassifier, 'GradientBoosting': ensemble.GradientBoostingClassifier,\n",
    "                  'XGB': XGBClassifier, }\n",
    "models_to_run"
   ]
  },
  {
   "cell_type": "code",
   "execution_count": 109,
   "id": "c9543402",
   "metadata": {},
   "outputs": [
    {
     "data": {
      "text/plain": [
       "{0: 'Logistic', 1: 'SVM', 2: 'Randomforest', 3: 'GradientBoosting', 4: 'XGB'}"
      ]
     },
     "execution_count": 109,
     "metadata": {},
     "output_type": "execute_result"
    }
   ],
   "source": [
    "num_to_model = dict( zip( np.arange(len(models_to_run)), list(models_to_run.keys()) ) )\n",
    "num_to_model"
   ]
  },
  {
   "cell_type": "code",
   "execution_count": 110,
   "id": "c996d6d5",
   "metadata": {},
   "outputs": [],
   "source": [
    "def legend_without_duplicate_labels(ax):\n",
    "    # https://stackoverflow.com/questions/19385639/duplicate-items-in-legend-in-matplotlib/40870637\n",
    "    handles, labels = ax.get_legend_handles_labels()\n",
    "    unique = [(h, l) for i, (h, l) in enumerate(zip(handles, labels)) if l not in labels[:i]]\n",
    "    ax.legend(*zip(*unique))"
   ]
  },
  {
   "cell_type": "code",
   "execution_count": 111,
   "id": "a9283cc9",
   "metadata": {},
   "outputs": [],
   "source": [
    "def fit_and_eval_models( num_to_model, models_to_run, fig, dataset='population_average', color='blue', m='o', shift=0, columns=[]):\n",
    "    for i in range( len(num_to_model) ):\n",
    "        current_model = num_to_model[i] \n",
    "        #print(current_model)\n",
    "        scores = five_fold_cv_model_eval( models_to_run[current_model], dataset, columns )\n",
    "\n",
    "        ax1 = plt.subplot(131)\n",
    "        sc = plt.scatter( i+np.zeros(5)+shift, scores['balanced_accuracy'], label=current_model, c=color, marker=m)\n",
    "        #plt.xlabel('Models')\n",
    "        plt.xticks(ticks=list(num_to_model.keys()), labels=list(num_to_model.values()), rotation=45 )\n",
    "        plt.ylabel('Balanced accuracy score')\n",
    "        sc.set_label(dataset)\n",
    "        if i == len(num_to_model)-1: # put legend at the last iteration to avoid duplicates\n",
    "            legend_without_duplicate_labels(ax1)        \n",
    "\n",
    "        ax2 = plt.subplot(132)\n",
    "        sc = plt.scatter( i+np.zeros(5)+shift, scores['roc_auc'], label=current_model, c=color, marker=m)\n",
    "        #plt.xlabel('Models')\n",
    "        plt.xticks(ticks=list(num_to_model.keys()), labels=list(num_to_model.values()), rotation=45)\n",
    "        plt.ylabel('Roc auc score')\n",
    "        sc.set_label(dataset)\n",
    "        if i == len(num_to_model)-1: # put legend at the last iteration to avoid duplicates\n",
    "            legend_without_duplicate_labels(ax2)        \n",
    "\n",
    "        ax3 = plt.subplot(133)\n",
    "        sc = plt.scatter( i+np.zeros(5)+shift, scores['f1'], label=current_model, c=color, marker=m)\n",
    "        #plt.xlabel('Models')\n",
    "        plt.xticks(ticks=list(num_to_model.keys()), labels=list(num_to_model.values()), rotation=45 )\n",
    "        plt.ylabel('F1 score')\n",
    "        sc.set_label(dataset)\n",
    "        if i == len(num_to_model)-1: # put legend at the last iteration to avoid duplicates\n",
    "            legend_without_duplicate_labels(ax3)"
   ]
  },
  {
   "cell_type": "code",
   "execution_count": 112,
   "id": "b1d2310b",
   "metadata": {
    "scrolled": false
   },
   "outputs": [
    {
     "name": "stdout",
     "output_type": "stream",
     "text": [
      "[19:53:34] WARNING: ../src/learner.cc:1115: Starting in XGBoost 1.3.0, the default evaluation metric used with the objective 'binary:logistic' was changed from 'error' to 'logloss'. Explicitly set eval_metric if you'd like to restore the old behavior.\n",
      "[19:53:34] WARNING: ../src/learner.cc:1115: Starting in XGBoost 1.3.0, the default evaluation metric used with the objective 'binary:logistic' was changed from 'error' to 'logloss'. Explicitly set eval_metric if you'd like to restore the old behavior.\n",
      "[19:53:34] WARNING: ../src/learner.cc:1115: Starting in XGBoost 1.3.0, the default evaluation metric used with the objective 'binary:logistic' was changed from 'error' to 'logloss'. Explicitly set eval_metric if you'd like to restore the old behavior.\n",
      "[19:53:34] WARNING: ../src/learner.cc:1115: Starting in XGBoost 1.3.0, the default evaluation metric used with the objective 'binary:logistic' was changed from 'error' to 'logloss'. Explicitly set eval_metric if you'd like to restore the old behavior.\n",
      "[19:53:34] WARNING: ../src/learner.cc:1115: Starting in XGBoost 1.3.0, the default evaluation metric used with the objective 'binary:logistic' was changed from 'error' to 'logloss'. Explicitly set eval_metric if you'd like to restore the old behavior.\n",
      "[19:53:40] WARNING: ../src/learner.cc:1115: Starting in XGBoost 1.3.0, the default evaluation metric used with the objective 'binary:logistic' was changed from 'error' to 'logloss'. Explicitly set eval_metric if you'd like to restore the old behavior.\n",
      "[19:53:41] WARNING: ../src/learner.cc:1115: Starting in XGBoost 1.3.0, the default evaluation metric used with the objective 'binary:logistic' was changed from 'error' to 'logloss'. Explicitly set eval_metric if you'd like to restore the old behavior.\n",
      "[19:53:41] WARNING: ../src/learner.cc:1115: Starting in XGBoost 1.3.0, the default evaluation metric used with the objective 'binary:logistic' was changed from 'error' to 'logloss'. Explicitly set eval_metric if you'd like to restore the old behavior.\n",
      "[19:53:41] WARNING: ../src/learner.cc:1115: Starting in XGBoost 1.3.0, the default evaluation metric used with the objective 'binary:logistic' was changed from 'error' to 'logloss'. Explicitly set eval_metric if you'd like to restore the old behavior.\n",
      "[19:53:41] WARNING: ../src/learner.cc:1115: Starting in XGBoost 1.3.0, the default evaluation metric used with the objective 'binary:logistic' was changed from 'error' to 'logloss'. Explicitly set eval_metric if you'd like to restore the old behavior.\n",
      "[19:53:46] WARNING: ../src/learner.cc:1115: Starting in XGBoost 1.3.0, the default evaluation metric used with the objective 'binary:logistic' was changed from 'error' to 'logloss'. Explicitly set eval_metric if you'd like to restore the old behavior.\n",
      "[19:53:47] WARNING: ../src/learner.cc:1115: Starting in XGBoost 1.3.0, the default evaluation metric used with the objective 'binary:logistic' was changed from 'error' to 'logloss'. Explicitly set eval_metric if you'd like to restore the old behavior.\n",
      "[19:53:47] WARNING: ../src/learner.cc:1115: Starting in XGBoost 1.3.0, the default evaluation metric used with the objective 'binary:logistic' was changed from 'error' to 'logloss'. Explicitly set eval_metric if you'd like to restore the old behavior.\n",
      "[19:53:47] WARNING: ../src/learner.cc:1115: Starting in XGBoost 1.3.0, the default evaluation metric used with the objective 'binary:logistic' was changed from 'error' to 'logloss'. Explicitly set eval_metric if you'd like to restore the old behavior.\n",
      "[19:53:47] WARNING: ../src/learner.cc:1115: Starting in XGBoost 1.3.0, the default evaluation metric used with the objective 'binary:logistic' was changed from 'error' to 'logloss'. Explicitly set eval_metric if you'd like to restore the old behavior.\n",
      "[19:53:53] WARNING: ../src/learner.cc:1115: Starting in XGBoost 1.3.0, the default evaluation metric used with the objective 'binary:logistic' was changed from 'error' to 'logloss'. Explicitly set eval_metric if you'd like to restore the old behavior.\n",
      "[19:53:53] WARNING: ../src/learner.cc:1115: Starting in XGBoost 1.3.0, the default evaluation metric used with the objective 'binary:logistic' was changed from 'error' to 'logloss'. Explicitly set eval_metric if you'd like to restore the old behavior.\n",
      "[19:53:53] WARNING: ../src/learner.cc:1115: Starting in XGBoost 1.3.0, the default evaluation metric used with the objective 'binary:logistic' was changed from 'error' to 'logloss'. Explicitly set eval_metric if you'd like to restore the old behavior.\n",
      "[19:53:53] WARNING: ../src/learner.cc:1115: Starting in XGBoost 1.3.0, the default evaluation metric used with the objective 'binary:logistic' was changed from 'error' to 'logloss'. Explicitly set eval_metric if you'd like to restore the old behavior.\n",
      "[19:53:53] WARNING: ../src/learner.cc:1115: Starting in XGBoost 1.3.0, the default evaluation metric used with the objective 'binary:logistic' was changed from 'error' to 'logloss'. Explicitly set eval_metric if you'd like to restore the old behavior.\n"
     ]
    },
    {
     "data": {
      "image/png": "[encoded data removed]",
      "text/plain": [
       "<Figure size 1728x576 with 3 Axes>"
      ]
     },
     "metadata": {
      "needs_background": "light"
     },
     "output_type": "display_data"
    }
   ],
   "source": [
    "fig = plt.figure( figsize=(24,8) )\n",
    "fit_and_eval_models( num_to_model, models_to_run, fig, dataset='population_average', color='darkred', m='o', shift=-0.15)\n",
    "fit_and_eval_models( num_to_model, models_to_run, fig, dataset='population_sampled', color='forestgreen', m='x', shift=-0.05)\n",
    "fit_and_eval_models( num_to_model, models_to_run, fig, dataset='age_average', color='midnightblue', m='v', shift=0.05)\n",
    "fit_and_eval_models( num_to_model, models_to_run, fig, dataset='hospital_average', color='orange', m='s', shift=0.15)"
   ]
  },
  {
   "cell_type": "markdown",
   "id": "0e997157",
   "metadata": {},
   "source": [
    "##### only best features"
   ]
  },
  {
   "cell_type": "code",
   "execution_count": 113,
   "id": "f1f7caf5",
   "metadata": {},
   "outputs": [
    {
     "data": {
      "text/plain": [
       "array(['Age', 'BPCO', 'CRP', 'CardiovascularDisease', 'Cough', 'D_dimer',\n",
       "       'DaysFever', 'Diabetes', 'DifficultyInBreathing', 'Fibrinogen',\n",
       "       'Glucose', 'HighBloodPressure', 'Hospital_A', 'Hospital_C',\n",
       "       'Hospital_D', 'Hospital_F', 'INR', 'IschemicHeartDisease', 'LDH',\n",
       "       'Ox_percentage', 'PCT', 'PaCO2', 'PaO2', 'Position', 'RBC', 'SaO2',\n",
       "       'Sex', 'Temp_C', 'WBC', 'pH'], dtype='<U21')"
      ]
     },
     "execution_count": 113,
     "metadata": {},
     "output_type": "execute_result"
    }
   ],
   "source": [
    "best_cols"
   ]
  },
  {
   "cell_type": "code",
   "execution_count": 114,
   "id": "20b5228a",
   "metadata": {
    "scrolled": false
   },
   "outputs": [
    {
     "name": "stdout",
     "output_type": "stream",
     "text": [
      "[19:54:41] WARNING: ../src/learner.cc:1115: Starting in XGBoost 1.3.0, the default evaluation metric used with the objective 'binary:logistic' was changed from 'error' to 'logloss'. Explicitly set eval_metric if you'd like to restore the old behavior.\n",
      "[19:54:41] WARNING: ../src/learner.cc:1115: Starting in XGBoost 1.3.0, the default evaluation metric used with the objective 'binary:logistic' was changed from 'error' to 'logloss'. Explicitly set eval_metric if you'd like to restore the old behavior.\n",
      "[19:54:41] WARNING: ../src/learner.cc:1115: Starting in XGBoost 1.3.0, the default evaluation metric used with the objective 'binary:logistic' was changed from 'error' to 'logloss'. Explicitly set eval_metric if you'd like to restore the old behavior.\n",
      "[19:54:41] WARNING: ../src/learner.cc:1115: Starting in XGBoost 1.3.0, the default evaluation metric used with the objective 'binary:logistic' was changed from 'error' to 'logloss'. Explicitly set eval_metric if you'd like to restore the old behavior.\n",
      "[19:54:42] WARNING: ../src/learner.cc:1115: Starting in XGBoost 1.3.0, the default evaluation metric used with the objective 'binary:logistic' was changed from 'error' to 'logloss'. Explicitly set eval_metric if you'd like to restore the old behavior.\n",
      "[19:54:47] WARNING: ../src/learner.cc:1115: Starting in XGBoost 1.3.0, the default evaluation metric used with the objective 'binary:logistic' was changed from 'error' to 'logloss'. Explicitly set eval_metric if you'd like to restore the old behavior.\n",
      "[19:54:47] WARNING: ../src/learner.cc:1115: Starting in XGBoost 1.3.0, the default evaluation metric used with the objective 'binary:logistic' was changed from 'error' to 'logloss'. Explicitly set eval_metric if you'd like to restore the old behavior.\n",
      "[19:54:47] WARNING: ../src/learner.cc:1115: Starting in XGBoost 1.3.0, the default evaluation metric used with the objective 'binary:logistic' was changed from 'error' to 'logloss'. Explicitly set eval_metric if you'd like to restore the old behavior.\n",
      "[19:54:47] WARNING: ../src/learner.cc:1115: Starting in XGBoost 1.3.0, the default evaluation metric used with the objective 'binary:logistic' was changed from 'error' to 'logloss'. Explicitly set eval_metric if you'd like to restore the old behavior.\n",
      "[19:54:48] WARNING: ../src/learner.cc:1115: Starting in XGBoost 1.3.0, the default evaluation metric used with the objective 'binary:logistic' was changed from 'error' to 'logloss'. Explicitly set eval_metric if you'd like to restore the old behavior.\n",
      "[19:54:53] WARNING: ../src/learner.cc:1115: Starting in XGBoost 1.3.0, the default evaluation metric used with the objective 'binary:logistic' was changed from 'error' to 'logloss'. Explicitly set eval_metric if you'd like to restore the old behavior.\n",
      "[19:54:53] WARNING: ../src/learner.cc:1115: Starting in XGBoost 1.3.0, the default evaluation metric used with the objective 'binary:logistic' was changed from 'error' to 'logloss'. Explicitly set eval_metric if you'd like to restore the old behavior.\n",
      "[19:54:53] WARNING: ../src/learner.cc:1115: Starting in XGBoost 1.3.0, the default evaluation metric used with the objective 'binary:logistic' was changed from 'error' to 'logloss'. Explicitly set eval_metric if you'd like to restore the old behavior.\n",
      "[19:54:53] WARNING: ../src/learner.cc:1115: Starting in XGBoost 1.3.0, the default evaluation metric used with the objective 'binary:logistic' was changed from 'error' to 'logloss'. Explicitly set eval_metric if you'd like to restore the old behavior.\n",
      "[19:54:53] WARNING: ../src/learner.cc:1115: Starting in XGBoost 1.3.0, the default evaluation metric used with the objective 'binary:logistic' was changed from 'error' to 'logloss'. Explicitly set eval_metric if you'd like to restore the old behavior.\n",
      "[19:54:59] WARNING: ../src/learner.cc:1115: Starting in XGBoost 1.3.0, the default evaluation metric used with the objective 'binary:logistic' was changed from 'error' to 'logloss'. Explicitly set eval_metric if you'd like to restore the old behavior.\n",
      "[19:54:59] WARNING: ../src/learner.cc:1115: Starting in XGBoost 1.3.0, the default evaluation metric used with the objective 'binary:logistic' was changed from 'error' to 'logloss'. Explicitly set eval_metric if you'd like to restore the old behavior.\n",
      "[19:54:59] WARNING: ../src/learner.cc:1115: Starting in XGBoost 1.3.0, the default evaluation metric used with the objective 'binary:logistic' was changed from 'error' to 'logloss'. Explicitly set eval_metric if you'd like to restore the old behavior.\n",
      "[19:54:59] WARNING: ../src/learner.cc:1115: Starting in XGBoost 1.3.0, the default evaluation metric used with the objective 'binary:logistic' was changed from 'error' to 'logloss'. Explicitly set eval_metric if you'd like to restore the old behavior.\n",
      "[19:54:59] WARNING: ../src/learner.cc:1115: Starting in XGBoost 1.3.0, the default evaluation metric used with the objective 'binary:logistic' was changed from 'error' to 'logloss'. Explicitly set eval_metric if you'd like to restore the old behavior.\n"
     ]
    },
    {
     "data": {
      "image/png": "[encoded data removed]",
      "text/plain": [
       "<Figure size 1728x576 with 3 Axes>"
      ]
     },
     "metadata": {
      "needs_background": "light"
     },
     "output_type": "display_data"
    }
   ],
   "source": [
    "fig = plt.figure( figsize=(24,8) )\n",
    "fit_and_eval_models( num_to_model, models_to_run, fig, dataset='population_average', color='darkred', m='o', shift=-0.15, columns=best_cols)\n",
    "fit_and_eval_models( num_to_model, models_to_run, fig, dataset='population_sampled', color='forestgreen', m='x', shift=-0.05, columns=best_cols)\n",
    "fit_and_eval_models( num_to_model, models_to_run, fig, dataset='age_average', color='midnightblue', m='v', shift=0.05, columns=best_cols)\n",
    "fit_and_eval_models( num_to_model, models_to_run, fig, dataset='hospital_average', color='orange', m='s', shift=0.15, columns=best_cols)"
   ]
  },
  {
   "cell_type": "code",
   "execution_count": null,
   "id": "346712be",
   "metadata": {},
   "outputs": [],
   "source": []
  },
  {
   "cell_type": "code",
   "execution_count": null,
   "id": "ade909ad",
   "metadata": {},
   "outputs": [],
   "source": []
  },
  {
   "cell_type": "markdown",
   "id": "d22fae75",
   "metadata": {},
   "source": [
    "## From before"
   ]
  },
  {
   "cell_type": "markdown",
   "id": "372c2161",
   "metadata": {},
   "source": [
    "### Read folds"
   ]
  },
  {
   "cell_type": "code",
   "execution_count": null,
   "id": "c9259b7d",
   "metadata": {},
   "outputs": [],
   "source": []
  },
  {
   "cell_type": "code",
   "execution_count": 5,
   "id": "2e314b8f",
   "metadata": {},
   "outputs": [],
   "source": [
    "imputed_data_age_average = pd.read_csv('../data/preprocessed_data/tables/age_avg/trainClinDataImputedAgeAvg.csv')\n",
    "imputed_data_age_average['Prognosis'] = imputed_data_age_average['Prognosis'].apply(lambda x: 0 if x =='MILD' else 1)\n",
    "cols_top_drop = ['Prognosis', 'Death', 'ImageFile']"
   ]
  },
  {
   "cell_type": "code",
   "execution_count": 68,
   "id": "27b5b916",
   "metadata": {},
   "outputs": [],
   "source": [
    "trainClinDataImputedAgeAvg_cv1 = pd.read_csv('../data/preprocessed_data/tables/age_avg/trainClinDataImputedAgeAvg_cv1.csv')\n",
    "trainClinDataImputedAgeAvg_cv2 = pd.read_csv('../data/preprocessed_data/tables/age_avg/trainClinDataImputedAgeAvg_cv2.csv')\n",
    "trainClinDataImputedAgeAvg_cv3 = pd.read_csv('../data/preprocessed_data/tables/age_avg/trainClinDataImputedAgeAvg_cv3.csv')\n",
    "trainClinDataImputedAgeAvg_cv4 = pd.read_csv('../data/preprocessed_data/tables/age_avg/trainClinDataImputedAgeAvg_cv4.csv')\n",
    "trainClinDataImputedAgeAvg_cv5 = pd.read_csv('../data/preprocessed_data/tables/age_avg/trainClinDataImputedAgeAvg_cv5.csv')\n",
    "\n",
    "validClinDataImputedAgeAvg_cv1 = pd.read_csv('../data/preprocessed_data/tables/age_avg/validClinDataImputedAgeAvg_cv1.csv')\n",
    "validClinDataImputedAgeAvg_cv2 = pd.read_csv('../data/preprocessed_data/tables/age_avg/validClinDataImputedAgeAvg_cv2.csv')\n",
    "validClinDataImputedAgeAvg_cv3 = pd.read_csv('../data/preprocessed_data/tables/age_avg/validClinDataImputedAgeAvg_cv3.csv')\n",
    "validClinDataImputedAgeAvg_cv4 = pd.read_csv('../data/preprocessed_data/tables/age_avg/validClinDataImputedAgeAvg_cv4.csv')\n",
    "validClinDataImputedAgeAvg_cv5 = pd.read_csv('../data/preprocessed_data/tables/age_avg/validClinDataImputedAgeAvg_cv5.csv')"
   ]
  },
  {
   "cell_type": "code",
   "execution_count": null,
   "id": "825f74ed",
   "metadata": {},
   "outputs": [],
   "source": []
  },
  {
   "cell_type": "code",
   "execution_count": null,
   "id": "dcf3dc96",
   "metadata": {},
   "outputs": [],
   "source": []
  },
  {
   "cell_type": "code",
   "execution_count": 47,
   "id": "ea544a62",
   "metadata": {},
   "outputs": [],
   "source": [
    "def get_explanining_variables( selector, original_feature_columns, X_test, y_test ):\n",
    "    return sorted( original_feature_columns[selector.support_].values.tolist() ),\\\n",
    "           selector.score(X_test, y_test),\\\n",
    "           selector.predict(X_test)"
   ]
  },
  {
   "cell_type": "code",
   "execution_count": 48,
   "id": "b65aae6a",
   "metadata": {},
   "outputs": [],
   "source": [
    "def do_rfe_with_cv( regressor, X, y, n_features_to_select=20 ):\n",
    "    rfe = RFE( estimator=regressor, n_features_to_select=n_features_to_select, step=1 )\n",
    "    rfe = rfe.fit(X, y)\n",
    "    return rfe"
   ]
  },
  {
   "cell_type": "code",
   "execution_count": 49,
   "id": "79120313",
   "metadata": {},
   "outputs": [],
   "source": [
    "X_train, X_test, y_train, y_test = train_test_split( imputed_data_age_average.drop(cols_top_drop, axis=1), imputed_data_age_average['Prognosis'], test_size=.1, random_state=42 )"
   ]
  },
  {
   "cell_type": "code",
   "execution_count": 56,
   "id": "7871ef1b",
   "metadata": {},
   "outputs": [
    {
     "data": {
      "text/plain": [
       "['Age',\n",
       " 'BPCO',\n",
       " 'CRP',\n",
       " 'CardiovascularDisease',\n",
       " 'Cough',\n",
       " 'D_dimer',\n",
       " 'DaysFever',\n",
       " 'Diabetes',\n",
       " 'DifficultyInBreathing',\n",
       " 'Fibrinogen',\n",
       " 'Glucose',\n",
       " 'HighBloodPressure',\n",
       " 'Hospital_A',\n",
       " 'Hospital_C',\n",
       " 'Hospital_D',\n",
       " 'Hospital_F',\n",
       " 'INR',\n",
       " 'IschemicHeartDisease',\n",
       " 'LDH',\n",
       " 'Ox_percentage',\n",
       " 'PCT',\n",
       " 'PaCO2',\n",
       " 'PaO2',\n",
       " 'Position',\n",
       " 'RBC',\n",
       " 'SaO2',\n",
       " 'Sex',\n",
       " 'Temp_C',\n",
       " 'WBC',\n",
       " 'pH']"
      ]
     },
     "execution_count": 56,
     "metadata": {},
     "output_type": "execute_result"
    }
   ],
   "source": [
    "exp_logi, logi_test_score, logi_preds = get_explanining_variables(\n",
    "    do_rfe_with_cv(ensemble.RandomForestClassifier(), X_train, y_train, n_features_to_select=30),\n",
    "                    imputed_data_age_average.drop(cols_top_drop, axis=1).columns, X_test, y_test)\n",
    "exp_logi"
   ]
  },
  {
   "cell_type": "markdown",
   "id": "81f78e31",
   "metadata": {},
   "source": [
    "### Calculating metrics"
   ]
  },
  {
   "cell_type": "code",
   "execution_count": 58,
   "id": "4590b9b9",
   "metadata": {},
   "outputs": [
    {
     "name": "stdout",
     "output_type": "stream",
     "text": [
      "[17:20:35] WARNING: ../src/learner.cc:1115: Starting in XGBoost 1.3.0, the default evaluation metric used with the objective 'binary:logistic' was changed from 'error' to 'logloss'. Explicitly set eval_metric if you'd like to restore the old behavior.\n",
      "[17:20:35] WARNING: ../src/learner.cc:1115: Starting in XGBoost 1.3.0, the default evaluation metric used with the objective 'binary:logistic' was changed from 'error' to 'logloss'. Explicitly set eval_metric if you'd like to restore the old behavior.\n",
      "[17:20:36] WARNING: ../src/learner.cc:1115: Starting in XGBoost 1.3.0, the default evaluation metric used with the objective 'binary:logistic' was changed from 'error' to 'logloss'. Explicitly set eval_metric if you'd like to restore the old behavior.\n",
      "[17:20:36] WARNING: ../src/learner.cc:1115: Starting in XGBoost 1.3.0, the default evaluation metric used with the objective 'binary:logistic' was changed from 'error' to 'logloss'. Explicitly set eval_metric if you'd like to restore the old behavior.\n",
      "[17:20:36] WARNING: ../src/learner.cc:1115: Starting in XGBoost 1.3.0, the default evaluation metric used with the objective 'binary:logistic' was changed from 'error' to 'logloss'. Explicitly set eval_metric if you'd like to restore the old behavior.\n"
     ]
    },
    {
     "data": {
      "text/html": [
       "<div>\n",
       "<style scoped>\n",
       "    .dataframe tbody tr th:only-of-type {\n",
       "        vertical-align: middle;\n",
       "    }\n",
       "\n",
       "    .dataframe tbody tr th {\n",
       "        vertical-align: top;\n",
       "    }\n",
       "\n",
       "    .dataframe thead th {\n",
       "        text-align: right;\n",
       "    }\n",
       "</style>\n",
       "<table border=\"1\" class=\"dataframe\">\n",
       "  <thead>\n",
       "    <tr style=\"text-align: right;\">\n",
       "      <th></th>\n",
       "      <th>random forest</th>\n",
       "      <th>decision tree</th>\n",
       "      <th>logistic_regression</th>\n",
       "      <th>knn</th>\n",
       "      <th>xgb</th>\n",
       "    </tr>\n",
       "  </thead>\n",
       "  <tbody>\n",
       "    <tr>\n",
       "      <th>0</th>\n",
       "      <td>0.736</td>\n",
       "      <td>0.628</td>\n",
       "      <td>0.728</td>\n",
       "      <td>0.67</td>\n",
       "      <td>0.719</td>\n",
       "    </tr>\n",
       "  </tbody>\n",
       "</table>\n",
       "</div>"
      ],
      "text/plain": [
       "   random forest  decision tree  logistic_regression   knn    xgb\n",
       "0          0.736          0.628                0.728  0.67  0.719"
      ]
     },
     "execution_count": 58,
     "metadata": {},
     "output_type": "execute_result"
    }
   ],
   "source": [
    "\n",
    "#init models\n",
    "kmeans = cluster.KMeans(n_clusters=2, random_state=42)\n",
    "rf     = ensemble.RandomForestClassifier(random_state=42)\n",
    "dt     = tree.DecisionTreeClassifier()\n",
    "lr     = linear_model.LogisticRegression()\n",
    "knn    = neighbors.KNeighborsClassifier(5)\n",
    "xgb    = XGBClassifier(n_estimators=50, max_depth=10, objective='binary:logistic', use_label_encoder=False)\n",
    "\n",
    "\n",
    "#CV\n",
    "#cols_to_keep = ['Age', 'CRP', 'ChronicKidneyDisease', 'Diabetes', 'DifficultyInBreathing', 'Hospital_A', 'Hospital_B', 'Hospital_C', 'Hospital_D', 'Hospital_E', 'Hospital_F', 'Ictus', 'LDH', 'Obesity', 'Ox_percentage', 'PCT', 'Position', 'PositivityAtAdmission', 'SaO2', 'Sex']\n",
    "cols_to_keep = ['Age',\n",
    " 'BPCO',\n",
    " 'CRP',\n",
    " 'CardiovascularDisease',\n",
    " 'Cough',\n",
    " 'D_dimer',\n",
    " 'DaysFever',\n",
    " 'Diabetes',\n",
    " 'DifficultyInBreathing',\n",
    " 'Fibrinogen',\n",
    " 'Glucose',\n",
    " 'HighBloodPressure',\n",
    " 'Hospital_A',\n",
    " 'Hospital_C',\n",
    " 'Hospital_D',\n",
    " 'Hospital_F',\n",
    " 'INR',\n",
    " 'IschemicHeartDisease',\n",
    " 'LDH',\n",
    " 'Ox_percentage',\n",
    " 'PCT',\n",
    " 'PaCO2',\n",
    " 'PaO2',\n",
    " 'Position',\n",
    " 'RBC',\n",
    " 'SaO2',\n",
    " 'Sex',\n",
    " 'Temp_C',\n",
    " 'WBC',\n",
    " 'pH']\n",
    "rf_preds   = model_selection.cross_val_predict(rf, imputed_data_age_average[cols_to_keep], imputed_data_age_average['Prognosis'], method='predict', cv=5)\n",
    "tree_preds = model_selection.cross_val_predict(dt, imputed_data_age_average[cols_to_keep], imputed_data_age_average['Prognosis'], method='predict', cv=5)\n",
    "lr_preds   = model_selection.cross_val_predict(lr, imputed_data_age_average[cols_to_keep], imputed_data_age_average['Prognosis'], method='predict', cv=5)\n",
    "knn_preds  = model_selection.cross_val_predict(knn, imputed_data_age_average[cols_to_keep], imputed_data_age_average['Prognosis'], method='predict', cv=5)\n",
    "xgb_preds  = model_selection.cross_val_predict(xgb, imputed_data_age_average[cols_to_keep], imputed_data_age_average['Prognosis'], method='predict', cv=5)\n",
    "\n",
    "balanced_accuracy_all_list = []\n",
    "for idx, preds in enumerate([rf_preds, tree_preds, lr_preds, knn_preds, xgb_preds]):\n",
    "    balanced_accuracy = np.round(metrics.balanced_accuracy_score(y_pred=preds, y_true=imputed_data_age_average['Prognosis']), 3)\n",
    "    balanced_accuracy_all_list.append(balanced_accuracy)\n",
    "    \n",
    "balanced_accuracy_all = pd.DataFrame(np.array(balanced_accuracy_all_list).reshape(1,-1), columns=['random forest', 'decision tree', 'logistic_regression', 'knn', 'xgb'])\n",
    "balanced_accuracy_all"
   ]
  },
  {
   "cell_type": "code",
   "execution_count": 70,
   "id": "dd71d4fc",
   "metadata": {},
   "outputs": [
    {
     "ename": "SyntaxError",
     "evalue": "invalid syntax (2383861795.py, line 1)",
     "output_type": "error",
     "traceback": [
      "\u001b[0;36m  Input \u001b[0;32mIn [70]\u001b[0;36m\u001b[0m\n\u001b[0;31m    random forest\tdecision tree\tlogistic_regression\tknn\txgb\u001b[0m\n\u001b[0m           ^\u001b[0m\n\u001b[0;31mSyntaxError\u001b[0m\u001b[0;31m:\u001b[0m invalid syntax\n"
     ]
    }
   ],
   "source": [
    "\n",
    "random forest\tdecision tree\tlogistic_regression\tknn\txgb\n",
    "0\t0.747\t0.671\t0.73\t0.698\t0.744"
   ]
  },
  {
   "cell_type": "code",
   "execution_count": null,
   "id": "d064949c",
   "metadata": {},
   "outputs": [],
   "source": []
  },
  {
   "cell_type": "code",
   "execution_count": 90,
   "id": "2d00d3fc",
   "metadata": {},
   "outputs": [],
   "source": [
    "# check on folds from janos server"
   ]
  },
  {
   "cell_type": "code",
   "execution_count": null,
   "id": "44d41243",
   "metadata": {},
   "outputs": [],
   "source": []
  },
  {
   "cell_type": "code",
   "execution_count": 93,
   "id": "69372438",
   "metadata": {},
   "outputs": [],
   "source": [
    "rf_preds   = ensemble.RandomForestClassifier(random_state=42).fit(trainClinDataImputedAgeAvg_cv3.drop(cols_top_drop, axis=1), trainClinDataImputedAgeAvg_cv3['Prognosis'].apply(lambda x: 0 if x =='MILD' else 1)).predict(validClinDataImputedAgeAvg_cv3.drop(cols_top_drop, axis=1))"
   ]
  },
  {
   "cell_type": "code",
   "execution_count": 94,
   "id": "df6beff7",
   "metadata": {},
   "outputs": [
    {
     "data": {
      "text/plain": [
       "0.746"
      ]
     },
     "execution_count": 94,
     "metadata": {},
     "output_type": "execute_result"
    }
   ],
   "source": [
    "balanced_accuracy = np.round(metrics.balanced_accuracy_score(y_pred=rf_preds, y_true=validClinDataImputedAgeAvg_cv3['Prognosis'].apply(lambda x: 0 if x =='MILD' else 1)), 3)\n",
    "balanced_accuracy"
   ]
  },
  {
   "cell_type": "code",
   "execution_count": null,
   "id": "6f978264",
   "metadata": {},
   "outputs": [],
   "source": []
  }
 ],
 "metadata": {
  "kernelspec": {
   "display_name": "Python 3 (ipykernel)",
   "language": "python",
   "name": "python3"
  },
  "language_info": {
   "codemirror_mode": {
    "name": "ipython",
    "version": 3
   },
   "file_extension": ".py",
   "mimetype": "text/x-python",
   "name": "python",
   "nbconvert_exporter": "python",
   "pygments_lexer": "ipython3",
   "version": "3.8.10"
  }
 },
 "nbformat": 4,
 "nbformat_minor": 5
}
