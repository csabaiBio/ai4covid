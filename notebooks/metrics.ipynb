{
 "cells": [
  {
   "cell_type": "code",
   "execution_count": 1,
   "id": "2e667e1c",
   "metadata": {
    "scrolled": true
   },
   "outputs": [
    {
     "data": {
      "text/html": [
       "<style>.container { width:100% !important; }</style>"
      ],
      "text/plain": [
       "<IPython.core.display.HTML object>"
      ]
     },
     "metadata": {},
     "output_type": "display_data"
    }
   ],
   "source": [
    "from IPython.display import display, HTML\n",
    "display(HTML(\"<style>.container { width:100% !important; }</style>\"))"
   ]
  },
  {
   "cell_type": "code",
   "execution_count": 2,
   "id": "fd9d0998",
   "metadata": {
    "scrolled": true
   },
   "outputs": [],
   "source": [
    "import numpy as np\n",
    "import pandas as pd\n",
    "import seaborn as sns\n",
    "import matplotlib.pyplot as plt\n",
    "from collections import Counter\n",
    "import plotly.express as px\n",
    "import math\n",
    "import os\n",
    "\n",
    "from sklearn import metrics, model_selection\n",
    "from sklearn.preprocessing import scale, normalize\n",
    "from sklearn import datasets, cluster\n",
    "from sklearn import neighbors, ensemble, tree, linear_model\n",
    "from xgboost import XGBClassifier\n",
    "from sklearn.model_selection import train_test_split\n",
    "from sklearn.feature_selection import RFE\n",
    "from sklearn import linear_model\n",
    "from sklearn import svm\n",
    "from sklearn.ensemble import GradientBoostingClassifier, RandomForestClassifier\n",
    "\n",
    "import warnings\n",
    "warnings.filterwarnings('ignore')\n",
    "\n",
    "from hydra import initialize, compose\n",
    "\n",
    "import tensorflow as tf\n",
    "from tensorflow import keras\n",
    "from tensorflow.keras import layers\n",
    "from tensorflow.keras.layers import (\n",
    "    BatchNormalization,\n",
    "    Concatenate,\n",
    "    Conv2D,\n",
    "    Dense,\n",
    "    Dropout,\n",
    "    Flatten,\n",
    "    GlobalAveragePooling2D,\n",
    "    Input,\n",
    "    Lambda,\n",
    "    Softmax,\n",
    ")"
   ]
  },
  {
   "cell_type": "raw",
   "id": "9f1a83d8",
   "metadata": {},
   "source": [
    "physical_devices = tf.config.list_physical_devices(\"GPU\")\n",
    "tf.config.experimental.set_memory_growth(physical_devices[0:1], True)"
   ]
  },
  {
   "cell_type": "code",
   "execution_count": 3,
   "id": "a8c7dbe6",
   "metadata": {},
   "outputs": [],
   "source": [
    "physical_devices = tf.config.experimental.list_physical_devices('GPU')\n",
    "if len(physical_devices) > 0:\n",
    "    tf.config.set_visible_devices(physical_devices[0:1], 'GPU')"
   ]
  },
  {
   "cell_type": "code",
   "execution_count": 4,
   "id": "cec191a4",
   "metadata": {},
   "outputs": [],
   "source": [
    "tf.config.experimental.set_virtual_device_configuration( \n",
    "    physical_devices[0], \n",
    "    [tf.config.experimental.VirtualDeviceConfiguration(memory_limit=2048)] )"
   ]
  },
  {
   "cell_type": "markdown",
   "id": "f1720ed8",
   "metadata": {},
   "source": [
    "### Locate and choose config files"
   ]
  },
  {
   "cell_type": "code",
   "execution_count": 5,
   "id": "d45d57f3",
   "metadata": {},
   "outputs": [
    {
     "data": {
      "text/plain": [
       "hydra.initialize()"
      ]
     },
     "execution_count": 5,
     "metadata": {},
     "output_type": "execute_result"
    }
   ],
   "source": [
    "initialize('../src/conf/') # Assume the configuration file is in the current folder"
   ]
  },
  {
   "cell_type": "code",
   "execution_count": 6,
   "id": "99d6eed1",
   "metadata": {},
   "outputs": [],
   "source": [
    "cfg = compose(config_name='train.yaml')"
   ]
  },
  {
   "cell_type": "code",
   "execution_count": 7,
   "id": "7247956f",
   "metadata": {},
   "outputs": [
    {
     "data": {
      "text/plain": [
       "dict_keys(['project', 'segmentation_base_path', 'preprocessed_image_base_path', 'fourier_base_path', 'brixia_score_base_path', 'raw_output_base', 'img_size', 'backbone', 'last_dense_size', 'batch_size', 'epochs', 'learning_rate', 'steps_per_epoch', 'death_rate', 'visualize', 'augment', 'cross_val_train', 'fold', 'n_folds', 'dataset_identifier', 'datasets'])"
      ]
     },
     "execution_count": 7,
     "metadata": {},
     "output_type": "execute_result"
    }
   ],
   "source": [
    "cfg.keys()"
   ]
  },
  {
   "cell_type": "markdown",
   "id": "b838ee87",
   "metadata": {},
   "source": [
    "#### paths for image based models"
   ]
  },
  {
   "cell_type": "code",
   "execution_count": 8,
   "id": "79aa5716",
   "metadata": {
    "scrolled": true
   },
   "outputs": [
    {
     "data": {
      "text/plain": [
       "('/mnt/ncshare/ai4covid_hackathon/preprocessed_data/train/aligned',\n",
       " '/mnt/ncshare/ai4covid_hackathon/preprocessed_data/train/fourier_2d',\n",
       " '/mnt/ncshare/ai4covid_hackathon/preprocessed_data/train/segmented')"
      ]
     },
     "execution_count": 8,
     "metadata": {},
     "output_type": "execute_result"
    }
   ],
   "source": [
    "cfg.preprocessed_image_base_path, cfg.fourier_base_path, cfg.segmentation_base_path"
   ]
  },
  {
   "cell_type": "markdown",
   "id": "92600571",
   "metadata": {},
   "source": [
    "#### paths for dataframe based models"
   ]
  },
  {
   "cell_type": "code",
   "execution_count": 9,
   "id": "93e9fdfa",
   "metadata": {},
   "outputs": [
    {
     "data": {
      "text/plain": [
       "'/mnt/ncshare/ai4covid_hackathon/preprocessed_data/train/score_original'"
      ]
     },
     "execution_count": 9,
     "metadata": {},
     "output_type": "execute_result"
    }
   ],
   "source": [
    "cfg.brixia_score_base_path"
   ]
  },
  {
   "cell_type": "code",
   "execution_count": 10,
   "id": "5a1e1930",
   "metadata": {},
   "outputs": [
    {
     "data": {
      "text/plain": [
       "dict_keys(['population_average', 'population_sampled', 'age_average', 'hospital_average'])"
      ]
     },
     "execution_count": 10,
     "metadata": {},
     "output_type": "execute_result"
    }
   ],
   "source": [
    "cfg.datasets.keys()"
   ]
  },
  {
   "cell_type": "code",
   "execution_count": 11,
   "id": "f968ad18",
   "metadata": {},
   "outputs": [
    {
     "data": {
      "text/plain": [
       "dict_keys(['train_table', 'valid_table', 'test_table', 'cv_train_table', 'cv_valid_table', 'feature_cols'])"
      ]
     },
     "execution_count": 11,
     "metadata": {},
     "output_type": "execute_result"
    }
   ],
   "source": [
    "cfg.datasets.population_average.keys()"
   ]
  },
  {
   "cell_type": "markdown",
   "id": "81bb5b96",
   "metadata": {},
   "source": [
    "##### read raw dataframe for future use if needed"
   ]
  },
  {
   "cell_type": "code",
   "execution_count": 12,
   "id": "63349855",
   "metadata": {},
   "outputs": [
    {
     "data": {
      "text/html": [
       "<div>\n",
       "<style scoped>\n",
       "    .dataframe tbody tr th:only-of-type {\n",
       "        vertical-align: middle;\n",
       "    }\n",
       "\n",
       "    .dataframe tbody tr th {\n",
       "        vertical-align: top;\n",
       "    }\n",
       "\n",
       "    .dataframe thead th {\n",
       "        text-align: right;\n",
       "    }\n",
       "</style>\n",
       "<table border=\"1\" class=\"dataframe\">\n",
       "  <thead>\n",
       "    <tr style=\"text-align: right;\">\n",
       "      <th></th>\n",
       "      <th>ImageFile</th>\n",
       "      <th>Prognosis</th>\n",
       "    </tr>\n",
       "  </thead>\n",
       "  <tbody>\n",
       "    <tr>\n",
       "      <th>0</th>\n",
       "      <td>P_102.png</td>\n",
       "      <td>1</td>\n",
       "    </tr>\n",
       "    <tr>\n",
       "      <th>1</th>\n",
       "      <td>P_131.png</td>\n",
       "      <td>0</td>\n",
       "    </tr>\n",
       "    <tr>\n",
       "      <th>2</th>\n",
       "      <td>P_132.png</td>\n",
       "      <td>0</td>\n",
       "    </tr>\n",
       "    <tr>\n",
       "      <th>3</th>\n",
       "      <td>P_117.png</td>\n",
       "      <td>0</td>\n",
       "    </tr>\n",
       "    <tr>\n",
       "      <th>4</th>\n",
       "      <td>P_16.png</td>\n",
       "      <td>1</td>\n",
       "    </tr>\n",
       "  </tbody>\n",
       "</table>\n",
       "</div>"
      ],
      "text/plain": [
       "   ImageFile  Prognosis\n",
       "0  P_102.png          1\n",
       "1  P_131.png          0\n",
       "2  P_132.png          0\n",
       "3  P_117.png          0\n",
       "4   P_16.png          1"
      ]
     },
     "execution_count": 12,
     "metadata": {},
     "output_type": "execute_result"
    }
   ],
   "source": [
    "whole_df = pd.read_excel('/mnt/ncshare/ai4covid_hackathon/raw_data/trainClinData.xls' )\n",
    "raw_df = whole_df[ ['ImageFile', 'Prognosis'] ]\n",
    "raw_df.Prognosis.replace('SEVERE', 1, inplace=True)\n",
    "raw_df.Prognosis.replace('MILD', 0, inplace=True)\n",
    "raw_df.head()"
   ]
  },
  {
   "cell_type": "code",
   "execution_count": 13,
   "id": "8cf29317",
   "metadata": {},
   "outputs": [
    {
     "data": {
      "text/html": [
       "<div>\n",
       "<style scoped>\n",
       "    .dataframe tbody tr th:only-of-type {\n",
       "        vertical-align: middle;\n",
       "    }\n",
       "\n",
       "    .dataframe tbody tr th {\n",
       "        vertical-align: top;\n",
       "    }\n",
       "\n",
       "    .dataframe thead th {\n",
       "        text-align: right;\n",
       "    }\n",
       "</style>\n",
       "<table border=\"1\" class=\"dataframe\">\n",
       "  <thead>\n",
       "    <tr style=\"text-align: right;\">\n",
       "      <th></th>\n",
       "      <th>Row_number</th>\n",
       "      <th>ImageFile</th>\n",
       "      <th>Hospital</th>\n",
       "      <th>Age</th>\n",
       "      <th>Sex</th>\n",
       "      <th>PositivityAtAdmission</th>\n",
       "      <th>Temp_C</th>\n",
       "      <th>DaysFever</th>\n",
       "      <th>Cough</th>\n",
       "      <th>DifficultyInBreathing</th>\n",
       "      <th>...</th>\n",
       "      <th>Diabetes</th>\n",
       "      <th>Dementia</th>\n",
       "      <th>BPCO</th>\n",
       "      <th>Cancer</th>\n",
       "      <th>ChronicKidneyDisease</th>\n",
       "      <th>RespiratoryFailure</th>\n",
       "      <th>Obesity</th>\n",
       "      <th>Position</th>\n",
       "      <th>Prognosis</th>\n",
       "      <th>Death</th>\n",
       "    </tr>\n",
       "  </thead>\n",
       "  <tbody>\n",
       "    <tr>\n",
       "      <th>0</th>\n",
       "      <td>82</td>\n",
       "      <td>P_102.png</td>\n",
       "      <td>A</td>\n",
       "      <td>72.000000</td>\n",
       "      <td>1</td>\n",
       "      <td>1.0</td>\n",
       "      <td>37.3</td>\n",
       "      <td>3.0</td>\n",
       "      <td>1.0</td>\n",
       "      <td>0.0</td>\n",
       "      <td>...</td>\n",
       "      <td>0.0</td>\n",
       "      <td>0.0</td>\n",
       "      <td>0.0</td>\n",
       "      <td>1.0</td>\n",
       "      <td>0.0</td>\n",
       "      <td>0.0</td>\n",
       "      <td>0.0</td>\n",
       "      <td>0.0</td>\n",
       "      <td>SEVERE</td>\n",
       "      <td>0</td>\n",
       "    </tr>\n",
       "    <tr>\n",
       "      <th>1</th>\n",
       "      <td>228</td>\n",
       "      <td>P_131.png</td>\n",
       "      <td>D</td>\n",
       "      <td>35.913889</td>\n",
       "      <td>0</td>\n",
       "      <td>1.0</td>\n",
       "      <td>39.3</td>\n",
       "      <td>3.0</td>\n",
       "      <td>1.0</td>\n",
       "      <td>0.0</td>\n",
       "      <td>...</td>\n",
       "      <td>0.0</td>\n",
       "      <td>0.0</td>\n",
       "      <td>0.0</td>\n",
       "      <td>0.0</td>\n",
       "      <td>0.0</td>\n",
       "      <td>NaN</td>\n",
       "      <td>1.0</td>\n",
       "      <td>0.0</td>\n",
       "      <td>MILD</td>\n",
       "      <td>0</td>\n",
       "    </tr>\n",
       "    <tr>\n",
       "      <th>2</th>\n",
       "      <td>229</td>\n",
       "      <td>P_132.png</td>\n",
       "      <td>D</td>\n",
       "      <td>57.266667</td>\n",
       "      <td>0</td>\n",
       "      <td>1.0</td>\n",
       "      <td>37.0</td>\n",
       "      <td>3.0</td>\n",
       "      <td>0.0</td>\n",
       "      <td>0.0</td>\n",
       "      <td>...</td>\n",
       "      <td>0.0</td>\n",
       "      <td>0.0</td>\n",
       "      <td>0.0</td>\n",
       "      <td>0.0</td>\n",
       "      <td>0.0</td>\n",
       "      <td>NaN</td>\n",
       "      <td>NaN</td>\n",
       "      <td>0.0</td>\n",
       "      <td>MILD</td>\n",
       "      <td>0</td>\n",
       "    </tr>\n",
       "    <tr>\n",
       "      <th>3</th>\n",
       "      <td>96</td>\n",
       "      <td>P_117.png</td>\n",
       "      <td>A</td>\n",
       "      <td>39.000000</td>\n",
       "      <td>1</td>\n",
       "      <td>1.0</td>\n",
       "      <td>37.2</td>\n",
       "      <td>2.0</td>\n",
       "      <td>1.0</td>\n",
       "      <td>0.0</td>\n",
       "      <td>...</td>\n",
       "      <td>0.0</td>\n",
       "      <td>0.0</td>\n",
       "      <td>0.0</td>\n",
       "      <td>0.0</td>\n",
       "      <td>0.0</td>\n",
       "      <td>0.0</td>\n",
       "      <td>0.0</td>\n",
       "      <td>1.0</td>\n",
       "      <td>MILD</td>\n",
       "      <td>0</td>\n",
       "    </tr>\n",
       "    <tr>\n",
       "      <th>4</th>\n",
       "      <td>112</td>\n",
       "      <td>P_16.png</td>\n",
       "      <td>A</td>\n",
       "      <td>44.000000</td>\n",
       "      <td>0</td>\n",
       "      <td>1.0</td>\n",
       "      <td>38.0</td>\n",
       "      <td>3.0</td>\n",
       "      <td>1.0</td>\n",
       "      <td>0.0</td>\n",
       "      <td>...</td>\n",
       "      <td>0.0</td>\n",
       "      <td>0.0</td>\n",
       "      <td>0.0</td>\n",
       "      <td>0.0</td>\n",
       "      <td>0.0</td>\n",
       "      <td>0.0</td>\n",
       "      <td>0.0</td>\n",
       "      <td>0.0</td>\n",
       "      <td>SEVERE</td>\n",
       "      <td>0</td>\n",
       "    </tr>\n",
       "  </tbody>\n",
       "</table>\n",
       "<p>5 rows × 40 columns</p>\n",
       "</div>"
      ],
      "text/plain": [
       "   Row_number  ImageFile Hospital        Age  Sex  PositivityAtAdmission  \\\n",
       "0          82  P_102.png        A  72.000000    1                    1.0   \n",
       "1         228  P_131.png        D  35.913889    0                    1.0   \n",
       "2         229  P_132.png        D  57.266667    0                    1.0   \n",
       "3          96  P_117.png        A  39.000000    1                    1.0   \n",
       "4         112   P_16.png        A  44.000000    0                    1.0   \n",
       "\n",
       "   Temp_C  DaysFever  Cough  DifficultyInBreathing  ...  Diabetes  Dementia  \\\n",
       "0    37.3        3.0    1.0                    0.0  ...       0.0       0.0   \n",
       "1    39.3        3.0    1.0                    0.0  ...       0.0       0.0   \n",
       "2    37.0        3.0    0.0                    0.0  ...       0.0       0.0   \n",
       "3    37.2        2.0    1.0                    0.0  ...       0.0       0.0   \n",
       "4    38.0        3.0    1.0                    0.0  ...       0.0       0.0   \n",
       "\n",
       "   BPCO  Cancer  ChronicKidneyDisease  RespiratoryFailure  Obesity  Position  \\\n",
       "0   0.0     1.0                   0.0                 0.0      0.0       0.0   \n",
       "1   0.0     0.0                   0.0                 NaN      1.0       0.0   \n",
       "2   0.0     0.0                   0.0                 NaN      NaN       0.0   \n",
       "3   0.0     0.0                   0.0                 0.0      0.0       1.0   \n",
       "4   0.0     0.0                   0.0                 0.0      0.0       0.0   \n",
       "\n",
       "   Prognosis  Death  \n",
       "0     SEVERE      0  \n",
       "1       MILD      0  \n",
       "2       MILD      0  \n",
       "3       MILD      0  \n",
       "4     SEVERE      0  \n",
       "\n",
       "[5 rows x 40 columns]"
      ]
     },
     "execution_count": 13,
     "metadata": {},
     "output_type": "execute_result"
    }
   ],
   "source": [
    "whole_df.head()"
   ]
  },
  {
   "cell_type": "markdown",
   "id": "26dee1ac",
   "metadata": {},
   "source": [
    "##### how folds are encoded"
   ]
  },
  {
   "cell_type": "code",
   "execution_count": 14,
   "id": "1486e052",
   "metadata": {},
   "outputs": [
    {
     "data": {
      "text/plain": [
       "('/mnt/ncshare/ai4covid_hackathon/preprocessed_data/tables/pop_avg/trainClinDataImputedPopAvg_',\n",
       " '+cv1.csv',\n",
       " '+cv2.csv',\n",
       " '...',\n",
       " '+cv5.csv')"
      ]
     },
     "execution_count": 14,
     "metadata": {},
     "output_type": "execute_result"
    }
   ],
   "source": [
    "cfg.datasets.population_average.cv_train_table, '+cv1.csv', '+cv2.csv', '...', '+cv5.csv'"
   ]
  },
  {
   "cell_type": "code",
   "execution_count": 15,
   "id": "f3ffde36",
   "metadata": {},
   "outputs": [
    {
     "data": {
      "text/plain": [
       "'/mnt/ncshare/ai4covid_hackathon/preprocessed_data/tables/pop_avg/validClinDataImputedPopAvg_'"
      ]
     },
     "execution_count": 15,
     "metadata": {},
     "output_type": "execute_result"
    }
   ],
   "source": [
    "cfg.datasets.population_average.cv_valid_table"
   ]
  },
  {
   "cell_type": "markdown",
   "id": "16e8f63e",
   "metadata": {},
   "source": [
    "##### train cv1 and valid cv1 are the corresponding parts"
   ]
  },
  {
   "cell_type": "code",
   "execution_count": 16,
   "id": "50d9c14f",
   "metadata": {
    "scrolled": false
   },
   "outputs": [
    {
     "data": {
      "text/plain": [
       "0"
      ]
     },
     "execution_count": 16,
     "metadata": {},
     "output_type": "execute_result"
    }
   ],
   "source": [
    "np.in1d( pd.read_csv( cfg.datasets.population_average.cv_train_table+'cv1.csv').ImageFile.unique(), pd.read_csv( cfg.datasets.population_average.cv_valid_table+'cv1.csv').ImageFile.unique() ).sum()"
   ]
  },
  {
   "cell_type": "code",
   "execution_count": 17,
   "id": "f0130aca",
   "metadata": {},
   "outputs": [
    {
     "data": {
      "text/html": [
       "<div>\n",
       "<style scoped>\n",
       "    .dataframe tbody tr th:only-of-type {\n",
       "        vertical-align: middle;\n",
       "    }\n",
       "\n",
       "    .dataframe tbody tr th {\n",
       "        vertical-align: top;\n",
       "    }\n",
       "\n",
       "    .dataframe thead th {\n",
       "        text-align: right;\n",
       "    }\n",
       "</style>\n",
       "<table border=\"1\" class=\"dataframe\">\n",
       "  <thead>\n",
       "    <tr style=\"text-align: right;\">\n",
       "      <th></th>\n",
       "      <th>ImageFile</th>\n",
       "      <th>Prognosis</th>\n",
       "    </tr>\n",
       "  </thead>\n",
       "  <tbody>\n",
       "    <tr>\n",
       "      <th>0</th>\n",
       "      <td>P_3_29.png</td>\n",
       "      <td>0</td>\n",
       "    </tr>\n",
       "    <tr>\n",
       "      <th>1</th>\n",
       "      <td>P_3_415.png</td>\n",
       "      <td>0</td>\n",
       "    </tr>\n",
       "    <tr>\n",
       "      <th>2</th>\n",
       "      <td>P_3_163.png</td>\n",
       "      <td>0</td>\n",
       "    </tr>\n",
       "    <tr>\n",
       "      <th>3</th>\n",
       "      <td>P_3_348.png</td>\n",
       "      <td>1</td>\n",
       "    </tr>\n",
       "    <tr>\n",
       "      <th>4</th>\n",
       "      <td>P_3_263.png</td>\n",
       "      <td>1</td>\n",
       "    </tr>\n",
       "  </tbody>\n",
       "</table>\n",
       "</div>"
      ],
      "text/plain": [
       "     ImageFile  Prognosis\n",
       "0   P_3_29.png          0\n",
       "1  P_3_415.png          0\n",
       "2  P_3_163.png          0\n",
       "3  P_3_348.png          1\n",
       "4  P_3_263.png          1"
      ]
     },
     "execution_count": 17,
     "metadata": {},
     "output_type": "execute_result"
    }
   ],
   "source": [
    "whole_test_df = pd.read_excel('/mnt/ncshare/ai4covid_hackathon/raw_data/completeTestClinData.xls' )\n",
    "test_raw_df = whole_test_df[ ['ImageFile', 'Prognosis'] ]\n",
    "test_raw_df.Prognosis.replace('SEVERE', 1, inplace=True)\n",
    "test_raw_df.Prognosis.replace('MILD', 0, inplace=True)\n",
    "test_raw_df.head()"
   ]
  },
  {
   "cell_type": "code",
   "execution_count": 18,
   "id": "c9128c18",
   "metadata": {},
   "outputs": [
    {
     "data": {
      "text/html": [
       "<div>\n",
       "<style scoped>\n",
       "    .dataframe tbody tr th:only-of-type {\n",
       "        vertical-align: middle;\n",
       "    }\n",
       "\n",
       "    .dataframe tbody tr th {\n",
       "        vertical-align: top;\n",
       "    }\n",
       "\n",
       "    .dataframe thead th {\n",
       "        text-align: right;\n",
       "    }\n",
       "</style>\n",
       "<table border=\"1\" class=\"dataframe\">\n",
       "  <thead>\n",
       "    <tr style=\"text-align: right;\">\n",
       "      <th></th>\n",
       "      <th>Row_number</th>\n",
       "      <th>ImageFile</th>\n",
       "      <th>Hospital</th>\n",
       "      <th>Age</th>\n",
       "      <th>Sex</th>\n",
       "      <th>PositivityAtAdmission</th>\n",
       "      <th>Temp_C</th>\n",
       "      <th>DaysFever</th>\n",
       "      <th>Cough</th>\n",
       "      <th>DifficultyInBreathing</th>\n",
       "      <th>...</th>\n",
       "      <th>Diabetes</th>\n",
       "      <th>Dementia</th>\n",
       "      <th>BPCO</th>\n",
       "      <th>Cancer</th>\n",
       "      <th>ChronicKidneyDisease</th>\n",
       "      <th>RespiratoryFailure</th>\n",
       "      <th>Obesity</th>\n",
       "      <th>Position</th>\n",
       "      <th>Prognosis</th>\n",
       "      <th>Death</th>\n",
       "    </tr>\n",
       "  </thead>\n",
       "  <tbody>\n",
       "    <tr>\n",
       "      <th>0</th>\n",
       "      <td>1247.0</td>\n",
       "      <td>P_3_29.png</td>\n",
       "      <td>F</td>\n",
       "      <td>76</td>\n",
       "      <td>1</td>\n",
       "      <td>1</td>\n",
       "      <td>36.0</td>\n",
       "      <td>4.0</td>\n",
       "      <td>0.0</td>\n",
       "      <td>1.0</td>\n",
       "      <td>...</td>\n",
       "      <td>0.0</td>\n",
       "      <td>0.0</td>\n",
       "      <td>0.0</td>\n",
       "      <td>0.0</td>\n",
       "      <td>0.0</td>\n",
       "      <td>0.0</td>\n",
       "      <td>0.0</td>\n",
       "      <td>NaN</td>\n",
       "      <td>MILD</td>\n",
       "      <td>0</td>\n",
       "    </tr>\n",
       "    <tr>\n",
       "      <th>1</th>\n",
       "      <td>1199.0</td>\n",
       "      <td>P_3_415.png</td>\n",
       "      <td>F</td>\n",
       "      <td>64</td>\n",
       "      <td>0</td>\n",
       "      <td>1</td>\n",
       "      <td>36.0</td>\n",
       "      <td>1.0</td>\n",
       "      <td>0.0</td>\n",
       "      <td>0.0</td>\n",
       "      <td>...</td>\n",
       "      <td>0.0</td>\n",
       "      <td>0.0</td>\n",
       "      <td>0.0</td>\n",
       "      <td>0.0</td>\n",
       "      <td>0.0</td>\n",
       "      <td>0.0</td>\n",
       "      <td>0.0</td>\n",
       "      <td>NaN</td>\n",
       "      <td>MILD</td>\n",
       "      <td>0</td>\n",
       "    </tr>\n",
       "    <tr>\n",
       "      <th>2</th>\n",
       "      <td>1504.0</td>\n",
       "      <td>P_3_163.png</td>\n",
       "      <td>F</td>\n",
       "      <td>87</td>\n",
       "      <td>1</td>\n",
       "      <td>1</td>\n",
       "      <td>37.6</td>\n",
       "      <td>2.0</td>\n",
       "      <td>0.0</td>\n",
       "      <td>0.0</td>\n",
       "      <td>...</td>\n",
       "      <td>0.0</td>\n",
       "      <td>0.0</td>\n",
       "      <td>0.0</td>\n",
       "      <td>0.0</td>\n",
       "      <td>0.0</td>\n",
       "      <td>0.0</td>\n",
       "      <td>0.0</td>\n",
       "      <td>NaN</td>\n",
       "      <td>MILD</td>\n",
       "      <td>0</td>\n",
       "    </tr>\n",
       "    <tr>\n",
       "      <th>3</th>\n",
       "      <td>1271.0</td>\n",
       "      <td>P_3_348.png</td>\n",
       "      <td>F</td>\n",
       "      <td>76</td>\n",
       "      <td>1</td>\n",
       "      <td>1</td>\n",
       "      <td>36.0</td>\n",
       "      <td>NaN</td>\n",
       "      <td>0.0</td>\n",
       "      <td>1.0</td>\n",
       "      <td>...</td>\n",
       "      <td>0.0</td>\n",
       "      <td>0.0</td>\n",
       "      <td>0.0</td>\n",
       "      <td>0.0</td>\n",
       "      <td>0.0</td>\n",
       "      <td>0.0</td>\n",
       "      <td>0.0</td>\n",
       "      <td>NaN</td>\n",
       "      <td>SEVERE</td>\n",
       "      <td>0</td>\n",
       "    </tr>\n",
       "    <tr>\n",
       "      <th>4</th>\n",
       "      <td>1572.0</td>\n",
       "      <td>P_3_263.png</td>\n",
       "      <td>F</td>\n",
       "      <td>77</td>\n",
       "      <td>1</td>\n",
       "      <td>1</td>\n",
       "      <td>36.1</td>\n",
       "      <td>1.0</td>\n",
       "      <td>0.0</td>\n",
       "      <td>1.0</td>\n",
       "      <td>...</td>\n",
       "      <td>0.0</td>\n",
       "      <td>0.0</td>\n",
       "      <td>0.0</td>\n",
       "      <td>0.0</td>\n",
       "      <td>0.0</td>\n",
       "      <td>0.0</td>\n",
       "      <td>0.0</td>\n",
       "      <td>NaN</td>\n",
       "      <td>SEVERE</td>\n",
       "      <td>0</td>\n",
       "    </tr>\n",
       "  </tbody>\n",
       "</table>\n",
       "<p>5 rows × 40 columns</p>\n",
       "</div>"
      ],
      "text/plain": [
       "   Row_number    ImageFile Hospital  Age  Sex  PositivityAtAdmission  Temp_C  \\\n",
       "0      1247.0   P_3_29.png        F   76    1                      1    36.0   \n",
       "1      1199.0  P_3_415.png        F   64    0                      1    36.0   \n",
       "2      1504.0  P_3_163.png        F   87    1                      1    37.6   \n",
       "3      1271.0  P_3_348.png        F   76    1                      1    36.0   \n",
       "4      1572.0  P_3_263.png        F   77    1                      1    36.1   \n",
       "\n",
       "   DaysFever  Cough  DifficultyInBreathing  ...  Diabetes  Dementia  BPCO  \\\n",
       "0        4.0    0.0                    1.0  ...       0.0       0.0   0.0   \n",
       "1        1.0    0.0                    0.0  ...       0.0       0.0   0.0   \n",
       "2        2.0    0.0                    0.0  ...       0.0       0.0   0.0   \n",
       "3        NaN    0.0                    1.0  ...       0.0       0.0   0.0   \n",
       "4        1.0    0.0                    1.0  ...       0.0       0.0   0.0   \n",
       "\n",
       "   Cancer  ChronicKidneyDisease  RespiratoryFailure  Obesity  Position  \\\n",
       "0     0.0                   0.0                 0.0      0.0       NaN   \n",
       "1     0.0                   0.0                 0.0      0.0       NaN   \n",
       "2     0.0                   0.0                 0.0      0.0       NaN   \n",
       "3     0.0                   0.0                 0.0      0.0       NaN   \n",
       "4     0.0                   0.0                 0.0      0.0       NaN   \n",
       "\n",
       "   Prognosis  Death  \n",
       "0       MILD      0  \n",
       "1       MILD      0  \n",
       "2       MILD      0  \n",
       "3     SEVERE      0  \n",
       "4     SEVERE      0  \n",
       "\n",
       "[5 rows x 40 columns]"
      ]
     },
     "execution_count": 18,
     "metadata": {},
     "output_type": "execute_result"
    }
   ],
   "source": [
    "whole_test_df.head()"
   ]
  },
  {
   "cell_type": "markdown",
   "id": "2def32bb",
   "metadata": {},
   "source": [
    "##### dataframe colums"
   ]
  },
  {
   "cell_type": "code",
   "execution_count": 19,
   "id": "fd568712",
   "metadata": {},
   "outputs": [],
   "source": [
    "best_cols = np.array(['Age', 'BPCO', 'CRP', 'CardiovascularDisease', 'Cough', 'D_dimer', 'DaysFever', 'Diabetes', 'DifficultyInBreathing', 'Fibrinogen', 'Glucose', 'HighBloodPressure', 'Hospital_A', 'Hospital_C', 'Hospital_D', 'Hospital_F', 'INR', 'IschemicHeartDisease', 'LDH', 'Ox_percentage', 'PCT', 'PaCO2', 'PaO2', 'Position', 'RBC', 'SaO2', 'Sex', 'Temp_C', 'WBC', 'pH'])"
   ]
  },
  {
   "cell_type": "code",
   "execution_count": 20,
   "id": "551b16e9",
   "metadata": {},
   "outputs": [
    {
     "data": {
      "text/plain": [
       "(30,)"
      ]
     },
     "execution_count": 20,
     "metadata": {},
     "output_type": "execute_result"
    }
   ],
   "source": [
    "best_cols.shape"
   ]
  },
  {
   "cell_type": "code",
   "execution_count": 21,
   "id": "014de23e",
   "metadata": {},
   "outputs": [
    {
     "data": {
      "text/plain": [
       "array(['Age', 'Sex', 'Temp_C', 'DaysFever', 'Cough',\n",
       "       'DifficultyInBreathing', 'WBC', 'RBC', 'CRP', 'Fibrinogen',\n",
       "       'Glucose', 'PCT', 'LDH', 'INR', 'D_dimer', 'Ox_percentage', 'PaO2',\n",
       "       'SaO2', 'PaCO2', 'pH', 'CardiovascularDisease',\n",
       "       'IschemicHeartDisease', 'HighBloodPressure', 'Diabetes', 'BPCO',\n",
       "       'Position', 'Hospital_A', 'Hospital_C', 'Hospital_D', 'Hospital_F'],\n",
       "      dtype='<U21')"
      ]
     },
     "execution_count": 21,
     "metadata": {},
     "output_type": "execute_result"
    }
   ],
   "source": [
    "np.array(cfg.datasets.population_average.feature_cols)[ np.in1d(cfg.datasets.population_average.feature_cols, best_cols) ]"
   ]
  },
  {
   "cell_type": "markdown",
   "id": "23d5cae2",
   "metadata": {},
   "source": [
    "## Table based models"
   ]
  },
  {
   "cell_type": "markdown",
   "id": "a3aee60f",
   "metadata": {},
   "source": [
    "### Data preprocessing"
   ]
  },
  {
   "cell_type": "code",
   "execution_count": 22,
   "id": "ae8a60fb",
   "metadata": {},
   "outputs": [],
   "source": [
    "def dataframe_preproc( df, columns=[] ):\n",
    "    df.Prognosis.replace('SEVERE', 1, inplace=True)\n",
    "    df.Prognosis.replace('MILD', 0, inplace=True)\n",
    "    X_df = df.drop( columns=['ImageFile', 'Prognosis', 'Death'])    \n",
    "    \n",
    "    y = df[ ['Prognosis', 'Death'] ].values\n",
    "        \n",
    "    if len(columns) > 0:\n",
    "        X_df = X_df[best_cols] # restrict to certain columns only\n",
    "    \n",
    "    X = X_df.values\n",
    "    X_features = X_df.columns\n",
    "        \n",
    "    return X, y, X_features"
   ]
  },
  {
   "cell_type": "code",
   "execution_count": 23,
   "id": "39a55638",
   "metadata": {},
   "outputs": [],
   "source": [
    "def load_cv_data( cv=1, dataset='population_average', columns=[], include_death_column=False ):\n",
    "    train_cv_df = pd.read_csv( cfg.datasets[dataset].cv_train_table+'cv'+str(cv)+'.csv')\n",
    "    valid_cv_df = pd.read_csv( cfg.datasets[dataset].cv_valid_table+'cv'+str(cv)+'.csv')\n",
    "    test_df = pd.read_csv(cfg.datasets[dataset].test_table)\n",
    "    \n",
    "    whole_test_df = pd.read_excel('/mnt/ncshare/ai4covid_hackathon/raw_data/completeTestClinData.xls')\n",
    "    test_raw_df = whole_test_df[ ['ImageFile', 'Prognosis'] ]\n",
    "    test_raw_df.Prognosis.replace('SEVERE', 1, inplace=True)\n",
    "    test_raw_df.Prognosis.replace('MILD', 0, inplace=True)\n",
    "    \n",
    "    test_df.Prognosis = test_raw_df.Prognosis\n",
    "\n",
    "    x_train, y_train, features_train = dataframe_preproc( train_cv_df, columns )\n",
    "    x_valid, y_valid, features_valid = dataframe_preproc( valid_cv_df, columns )\n",
    "    x_test, y_test, features_test = dataframe_preproc(test_df, columns)\n",
    "\n",
    "    if include_death_column:\n",
    "         return x_train, y_train, x_valid, y_valid, x_test, y_test\n",
    "        \n",
    "    else:\n",
    "        # keep prognosis only\n",
    "        y_train = y_train[:,0]\n",
    "        y_valid = y_valid[:,0]\n",
    "        y_test = y_test[:, 0]\n",
    "\n",
    "        #print(x_train.shape, y_train.shape, x_valid.shape, y_valid.shape)\n",
    "        return x_train, y_train, x_valid, y_valid, x_test, y_test"
   ]
  },
  {
   "cell_type": "code",
   "execution_count": 24,
   "id": "b1a3d1c5",
   "metadata": {
    "scrolled": true
   },
   "outputs": [
    {
     "name": "stdout",
     "output_type": "stream",
     "text": [
      "(882, 30) (882,) (221, 30) (221,) (486, 30) (486,)\n"
     ]
    }
   ],
   "source": [
    "x_train, y_train, x_valid, y_valid, x_test, y_test = load_cv_data(1, 'population_average', columns=best_cols)\n",
    "print(x_train.shape, y_train.shape, x_valid.shape, y_valid.shape, x_test.shape, y_test.shape)"
   ]
  },
  {
   "cell_type": "markdown",
   "id": "9bd08a1b",
   "metadata": {},
   "source": [
    "### Sklearn models"
   ]
  },
  {
   "cell_type": "code",
   "execution_count": 25,
   "id": "3058ee4a",
   "metadata": {},
   "outputs": [],
   "source": [
    "def five_fold_cv_model_eval( model, dataset='population_average', columns=[]):\n",
    "    try:\n",
    "        model_instance = model(n_jobs=8)\n",
    "    except:\n",
    "        model_instance = model()\n",
    "        \n",
    "    b_accs = []\n",
    "    roc_aucs = []\n",
    "    f1s = []\n",
    "    \n",
    "    test_b_accs = []\n",
    "    test_roc_aucs = []\n",
    "    test_f1s = []\n",
    "    \n",
    "    scores = {}\n",
    "    \n",
    "    for f in range(1,6):\n",
    "        x_train, y_train, x_valid, y_valid, x_test, y_test = load_cv_data(f, dataset, columns)\n",
    "        \n",
    "        model_instance.fit(x_train, y_train)\n",
    "        try:\n",
    "            pred_values_label = model_instance.predict(x_valid)\n",
    "            b_acc = metrics.balanced_accuracy_score( y_pred=pred_values_label, y_true=y_valid )\n",
    "            f1 = metrics.f1_score( y_true=y_valid, y_pred=pred_values_label )\n",
    "            f1s.append(f1)\n",
    "            b_accs.append(b_acc)\n",
    "            \n",
    "            ## TEST\n",
    "            pred_test_labels = model_instance.predict(x_test)\n",
    "            test_b_accs.append(metrics.balanced_accuracy_score(y_true=y_test, y_pred=pred_test_labels))\n",
    "            test_f1s.append(metrics.f1_score(y_true=y_test, y_pred=pred_test_labels))\n",
    "        except:\n",
    "            print('', end='\\r')\n",
    "        \n",
    "        try:\n",
    "            pred_values_proba = model_instance.predict_proba(x_valid)            \n",
    "            roc_auc = metrics.roc_auc_score( y_true=y_valid, y_score=pred_values_proba[:,1] )\n",
    "            roc_aucs.append(roc_auc)\n",
    "            \n",
    "            ## TEST\n",
    "            pred_test_labels = model_instance.predict_proba(x_test)\n",
    "            test_roc_aucs.append(metrics.roc_auc_score(y_true=y_test, y_pred=pred_test_labels[:, 1]))\n",
    "        except:\n",
    "            try:\n",
    "                # this is added for SVM proba pred\n",
    "                model_instance = model(probability=True)\n",
    "                model_instance.fit(x_train, y_train)\n",
    "                pred_values_proba = model_instance.predict_proba(x_valid)\n",
    "                roc_auc = metrics.roc_auc_score( y_true=y_valid, y_score=pred_values_proba[:,1] )\n",
    "                roc_aucs.append(roc_auc)\n",
    "                \n",
    "                ## TEST\n",
    "                pred_test_labels = model_instance.predict_proba(x_test)\n",
    "                test_roc_aucs.append(metrics.roc_auc_score(y_true=y_test, y_pred=pred_test_labels[:, 1]))\n",
    "            except:\n",
    "                print('', end='\\r')\n",
    "    \n",
    "    scores['balanced_accuracy'] = b_accs\n",
    "    scores['roc_auc'] = roc_aucs\n",
    "    scores['f1'] = f1s\n",
    "    \n",
    "    scores['test_balanced_accuracy'] = test_b_accs\n",
    "    scores['test_roc_auc'] = test_roc_aucs\n",
    "    scores['test_f1'] = test_f1s\n",
    "    \n",
    "    return scores"
   ]
  },
  {
   "cell_type": "markdown",
   "id": "d07f7ff7",
   "metadata": {},
   "source": [
    "#### Define models"
   ]
  },
  {
   "cell_type": "code",
   "execution_count": 26,
   "id": "48da4900",
   "metadata": {},
   "outputs": [
    {
     "data": {
      "text/plain": [
       "{'Logistic': sklearn.linear_model._logistic.LogisticRegression,\n",
       " 'SVM': sklearn.svm._classes.SVC,\n",
       " 'Randomforest': sklearn.ensemble._forest.RandomForestClassifier,\n",
       " 'GradientBoosting': sklearn.ensemble._gb.GradientBoostingClassifier,\n",
       " 'XGB': xgboost.sklearn.XGBClassifier}"
      ]
     },
     "execution_count": 26,
     "metadata": {},
     "output_type": "execute_result"
    }
   ],
   "source": [
    "models_to_run = { 'Logistic': linear_model.LogisticRegression, 'SVM': svm.SVC, \n",
    "                  'Randomforest': ensemble.RandomForestClassifier, 'GradientBoosting': ensemble.GradientBoostingClassifier,\n",
    "                  'XGB': XGBClassifier}\n",
    "models_to_run"
   ]
  },
  {
   "cell_type": "code",
   "execution_count": 27,
   "id": "c9543402",
   "metadata": {},
   "outputs": [
    {
     "data": {
      "text/plain": [
       "{0: 'Logistic', 1: 'SVM', 2: 'Randomforest', 3: 'GradientBoosting', 4: 'XGB'}"
      ]
     },
     "execution_count": 27,
     "metadata": {},
     "output_type": "execute_result"
    }
   ],
   "source": [
    "num_to_model = dict( zip( np.arange(len(models_to_run)), list(models_to_run.keys()) ) )\n",
    "num_to_model"
   ]
  },
  {
   "cell_type": "code",
   "execution_count": 28,
   "id": "c996d6d5",
   "metadata": {},
   "outputs": [],
   "source": [
    "def legend_without_duplicate_labels(ax):\n",
    "    # https://stackoverflow.com/questions/19385639/duplicate-items-in-legend-in-matplotlib/40870637\n",
    "    handles, labels = ax.get_legend_handles_labels()\n",
    "    unique = [(h, l) for i, (h, l) in enumerate(zip(handles, labels)) if l not in labels[:i]]\n",
    "    ax.legend(*zip(*unique), prop={'size': 22}, loc='lower right')"
   ]
  },
  {
   "cell_type": "code",
   "execution_count": 42,
   "id": "a9283cc9",
   "metadata": {},
   "outputs": [],
   "source": [
    "def fit_and_eval_models( num_to_model, models_to_run, fig, dataset='population_average', color='blue', m='o', shift=0, columns=[]):\n",
    "    all_scores = { model : None for num, model in num_to_model.items() }\n",
    "    for i in range( len(num_to_model) ):\n",
    "        current_model = num_to_model[i] \n",
    "        #print(current_model)\n",
    "        scores = five_fold_cv_model_eval( models_to_run[current_model], dataset, columns )\n",
    "\n",
    "        ax1 = plt.subplot(131)\n",
    "        value = np.mean( scores['balanced_accuracy'] )\n",
    "        std_err = np.std( scores['balanced_accuracy'] ) / np.sqrt(5)\n",
    "        #sc = plt.scatter( i+np.zeros(5)+shift, scores['balanced_accuracy'], label=current_model, c=color, marker=m)\n",
    "        sc = plt.errorbar( i+shift, value, yerr=std_err, label=current_model, c=color, marker=m, elinewidth=3, capsize=5, capthick=2)\n",
    "        #plt.xlabel('Models')\n",
    "        plt.xticks(ticks=list(num_to_model.keys()), labels=list(num_to_model.values()), rotation=45, size=25)\n",
    "        plt.yticks(size=25)\n",
    "        plt.ylabel('Balanced accuracy score', size=30)\n",
    "        plt.grid(True)\n",
    "        sc.set_label(dataset)\n",
    "        if i == len(num_to_model)-1: # put legend at the last iteration to avoid duplicates\n",
    "            legend_without_duplicate_labels(ax1)        \n",
    "\n",
    "        ax2 = plt.subplot(132)\n",
    "        value = np.mean( scores['roc_auc'] )\n",
    "        std_err = np.std( scores['roc_auc'] ) / np.sqrt(5)\n",
    "        #sc = plt.scatter( i+np.zeros(5)+shift, scores['roc_auc'], label=current_model, c=color, marker=m)\n",
    "        sc = plt.errorbar( i+shift, value, yerr=std_err, label=current_model, c=color, marker=m, elinewidth=3, capsize=5, capthick=2)\n",
    "        #plt.xlabel('Models')\n",
    "        plt.xticks(ticks=list(num_to_model.keys()), labels=list(num_to_model.values()), rotation=45, size=25)\n",
    "        plt.yticks(size=25)\n",
    "        plt.ylabel('ROC AUC score', size=30)\n",
    "        plt.grid(True)\n",
    "        sc.set_label(dataset)\n",
    "        if i == len(num_to_model)-1: # put legend at the last iteration to avoid duplicates\n",
    "            legend_without_duplicate_labels(ax2)        \n",
    "\n",
    "        ax3 = plt.subplot(133)\n",
    "        value = np.mean( scores['f1'] )\n",
    "        std_err = np.std( scores['f1'] ) / np.sqrt(5)\n",
    "        \n",
    "        #sc = plt.scatter( i+np.zeros(5)+shift, scores['f1'], label=current_model, c=color, marker=m)\n",
    "        sc = plt.errorbar( i+shift, value, yerr=std_err, label=current_model, c=color, marker=m, elinewidth=3, capsize=5, capthick=2)\n",
    "        #plt.xlabel('Models')\n",
    "        plt.xticks(ticks=list(num_to_model.keys()), labels=list(num_to_model.values()), rotation=45, size=25)\n",
    "        plt.yticks(size=25)\n",
    "        plt.ylabel('F1 score', size=30)\n",
    "        plt.grid(True)\n",
    "        sc.set_label(dataset)\n",
    "        if i == len(num_to_model)-1: # put legend at the last iteration to avoid duplicates\n",
    "            legend_without_duplicate_labels(ax3)\n",
    "\n",
    "        all_scores[current_model] = scores\n",
    "    return all_scores"
   ]
  },
  {
   "cell_type": "code",
   "execution_count": 43,
   "id": "b1d2310b",
   "metadata": {
    "scrolled": true
   },
   "outputs": [
    {
     "name": "stdout",
     "output_type": "stream",
     "text": [
      "[14:57:37] WARNING: ../src/learner.cc:1115: Starting in XGBoost 1.3.0, the default evaluation metric used with the objective 'binary:logistic' was changed from 'error' to 'logloss'. Explicitly set eval_metric if you'd like to restore the old behavior.\n",
      "[14:57:37] WARNING: ../src/learner.cc:576: \n",
      "Parameters: { \"probability\" } might not be used.\n",
      "\n",
      "  This could be a false alarm, with some parameters getting used by language bindings but\n",
      "  then being mistakenly passed down to XGBoost core, or some parameter actually being used\n",
      "  but getting flagged wrongly here. Please open an issue if you find any such cases.\n",
      "\n",
      "\n",
      "[14:57:37] WARNING: ../src/learner.cc:1115: Starting in XGBoost 1.3.0, the default evaluation metric used with the objective 'binary:logistic' was changed from 'error' to 'logloss'. Explicitly set eval_metric if you'd like to restore the old behavior.\n",
      "[14:57:37] WARNING: ../src/learner.cc:576: \n",
      "Parameters: { \"probability\" } might not be used.\n",
      "\n",
      "  This could be a false alarm, with some parameters getting used by language bindings but\n",
      "  then being mistakenly passed down to XGBoost core, or some parameter actually being used\n",
      "  but getting flagged wrongly here. Please open an issue if you find any such cases.\n",
      "\n",
      "\n",
      "[14:57:37] WARNING: ../src/learner.cc:1115: Starting in XGBoost 1.3.0, the default evaluation metric used with the objective 'binary:logistic' was changed from 'error' to 'logloss'. Explicitly set eval_metric if you'd like to restore the old behavior.\n",
      "[14:57:37] WARNING: ../src/learner.cc:576: \n",
      "Parameters: { \"probability\" } might not be used.\n",
      "\n",
      "  This could be a false alarm, with some parameters getting used by language bindings but\n",
      "  then being mistakenly passed down to XGBoost core, or some parameter actually being used\n",
      "  but getting flagged wrongly here. Please open an issue if you find any such cases.\n",
      "\n",
      "\n",
      "[14:57:37] WARNING: ../src/learner.cc:1115: Starting in XGBoost 1.3.0, the default evaluation metric used with the objective 'binary:logistic' was changed from 'error' to 'logloss'. Explicitly set eval_metric if you'd like to restore the old behavior.\n",
      "[14:57:38] WARNING: ../src/learner.cc:576: \n",
      "Parameters: { \"probability\" } might not be used.\n",
      "\n",
      "  This could be a false alarm, with some parameters getting used by language bindings but\n",
      "  then being mistakenly passed down to XGBoost core, or some parameter actually being used\n",
      "  but getting flagged wrongly here. Please open an issue if you find any such cases.\n",
      "\n",
      "\n",
      "[14:57:38] WARNING: ../src/learner.cc:1115: Starting in XGBoost 1.3.0, the default evaluation metric used with the objective 'binary:logistic' was changed from 'error' to 'logloss'. Explicitly set eval_metric if you'd like to restore the old behavior.\n",
      "[14:57:38] WARNING: ../src/learner.cc:576: \n",
      "Parameters: { \"probability\" } might not be used.\n",
      "\n",
      "  This could be a false alarm, with some parameters getting used by language bindings but\n",
      "  then being mistakenly passed down to XGBoost core, or some parameter actually being used\n",
      "  but getting flagged wrongly here. Please open an issue if you find any such cases.\n",
      "\n",
      "\n",
      "[14:57:38] WARNING: ../src/learner.cc:1115: Starting in XGBoost 1.3.0, the default evaluation metric used with the objective 'binary:logistic' was changed from 'error' to 'logloss'. Explicitly set eval_metric if you'd like to restore the old behavior.\n",
      "[14:57:39] WARNING: ../src/learner.cc:576: \n",
      "Parameters: { \"probability\" } might not be used.\n",
      "\n",
      "  This could be a false alarm, with some parameters getting used by language bindings but\n",
      "  then being mistakenly passed down to XGBoost core, or some parameter actually being used\n",
      "  but getting flagged wrongly here. Please open an issue if you find any such cases.\n",
      "\n",
      "\n",
      "[14:57:39] WARNING: ../src/learner.cc:1115: Starting in XGBoost 1.3.0, the default evaluation metric used with the objective 'binary:logistic' was changed from 'error' to 'logloss'. Explicitly set eval_metric if you'd like to restore the old behavior.\n",
      "[14:57:39] WARNING: ../src/learner.cc:576: \n",
      "Parameters: { \"probability\" } might not be used.\n",
      "\n",
      "  This could be a false alarm, with some parameters getting used by language bindings but\n",
      "  then being mistakenly passed down to XGBoost core, or some parameter actually being used\n",
      "  but getting flagged wrongly here. Please open an issue if you find any such cases.\n",
      "\n",
      "\n",
      "[14:57:39] WARNING: ../src/learner.cc:1115: Starting in XGBoost 1.3.0, the default evaluation metric used with the objective 'binary:logistic' was changed from 'error' to 'logloss'. Explicitly set eval_metric if you'd like to restore the old behavior.\n",
      "[14:57:40] WARNING: ../src/learner.cc:576: \n",
      "Parameters: { \"probability\" } might not be used.\n",
      "\n",
      "  This could be a false alarm, with some parameters getting used by language bindings but\n",
      "  then being mistakenly passed down to XGBoost core, or some parameter actually being used\n",
      "  but getting flagged wrongly here. Please open an issue if you find any such cases.\n",
      "\n",
      "\n",
      "[14:57:40] WARNING: ../src/learner.cc:1115: Starting in XGBoost 1.3.0, the default evaluation metric used with the objective 'binary:logistic' was changed from 'error' to 'logloss'. Explicitly set eval_metric if you'd like to restore the old behavior.\n",
      "[14:57:40] WARNING: ../src/learner.cc:576: \n",
      "Parameters: { \"probability\" } might not be used.\n",
      "\n",
      "  This could be a false alarm, with some parameters getting used by language bindings but\n",
      "  then being mistakenly passed down to XGBoost core, or some parameter actually being used\n",
      "  but getting flagged wrongly here. Please open an issue if you find any such cases.\n",
      "\n",
      "\n",
      "[14:57:40] WARNING: ../src/learner.cc:1115: Starting in XGBoost 1.3.0, the default evaluation metric used with the objective 'binary:logistic' was changed from 'error' to 'logloss'. Explicitly set eval_metric if you'd like to restore the old behavior.\n",
      "[14:57:51] WARNING: ../src/learner.cc:1115: Starting in XGBoost 1.3.0, the default evaluation metric used with the objective 'binary:logistic' was changed from 'error' to 'logloss'. Explicitly set eval_metric if you'd like to restore the old behavior.\n",
      "[14:57:51] WARNING: ../src/learner.cc:576: \n",
      "Parameters: { \"probability\" } might not be used.\n",
      "\n",
      "  This could be a false alarm, with some parameters getting used by language bindings but\n",
      "  then being mistakenly passed down to XGBoost core, or some parameter actually being used\n",
      "  but getting flagged wrongly here. Please open an issue if you find any such cases.\n",
      "\n",
      "\n",
      "[14:57:51] WARNING: ../src/learner.cc:1115: Starting in XGBoost 1.3.0, the default evaluation metric used with the objective 'binary:logistic' was changed from 'error' to 'logloss'. Explicitly set eval_metric if you'd like to restore the old behavior.\n",
      "[14:57:51] WARNING: ../src/learner.cc:576: \n",
      "Parameters: { \"probability\" } might not be used.\n",
      "\n",
      "  This could be a false alarm, with some parameters getting used by language bindings but\n",
      "  then being mistakenly passed down to XGBoost core, or some parameter actually being used\n",
      "  but getting flagged wrongly here. Please open an issue if you find any such cases.\n",
      "\n",
      "\n",
      "[14:57:51] WARNING: ../src/learner.cc:1115: Starting in XGBoost 1.3.0, the default evaluation metric used with the objective 'binary:logistic' was changed from 'error' to 'logloss'. Explicitly set eval_metric if you'd like to restore the old behavior.\n",
      "[14:57:52] WARNING: ../src/learner.cc:576: \n",
      "Parameters: { \"probability\" } might not be used.\n",
      "\n",
      "  This could be a false alarm, with some parameters getting used by language bindings but\n",
      "  then being mistakenly passed down to XGBoost core, or some parameter actually being used\n",
      "  but getting flagged wrongly here. Please open an issue if you find any such cases.\n",
      "\n",
      "\n",
      "[14:57:52] WARNING: ../src/learner.cc:1115: Starting in XGBoost 1.3.0, the default evaluation metric used with the objective 'binary:logistic' was changed from 'error' to 'logloss'. Explicitly set eval_metric if you'd like to restore the old behavior.\n",
      "[14:57:52] WARNING: ../src/learner.cc:576: \n",
      "Parameters: { \"probability\" } might not be used.\n",
      "\n",
      "  This could be a false alarm, with some parameters getting used by language bindings but\n",
      "  then being mistakenly passed down to XGBoost core, or some parameter actually being used\n",
      "  but getting flagged wrongly here. Please open an issue if you find any such cases.\n",
      "\n",
      "\n",
      "[14:57:52] WARNING: ../src/learner.cc:1115: Starting in XGBoost 1.3.0, the default evaluation metric used with the objective 'binary:logistic' was changed from 'error' to 'logloss'. Explicitly set eval_metric if you'd like to restore the old behavior.\n"
     ]
    },
    {
     "name": "stdout",
     "output_type": "stream",
     "text": [
      "[14:57:52] WARNING: ../src/learner.cc:576: \n",
      "Parameters: { \"probability\" } might not be used.\n",
      "\n",
      "  This could be a false alarm, with some parameters getting used by language bindings but\n",
      "  then being mistakenly passed down to XGBoost core, or some parameter actually being used\n",
      "  but getting flagged wrongly here. Please open an issue if you find any such cases.\n",
      "\n",
      "\n",
      "[14:57:52] WARNING: ../src/learner.cc:1115: Starting in XGBoost 1.3.0, the default evaluation metric used with the objective 'binary:logistic' was changed from 'error' to 'logloss'. Explicitly set eval_metric if you'd like to restore the old behavior.\n",
      "[14:57:53] WARNING: ../src/learner.cc:576: \n",
      "Parameters: { \"probability\" } might not be used.\n",
      "\n",
      "  This could be a false alarm, with some parameters getting used by language bindings but\n",
      "  then being mistakenly passed down to XGBoost core, or some parameter actually being used\n",
      "  but getting flagged wrongly here. Please open an issue if you find any such cases.\n",
      "\n",
      "\n",
      "[14:57:53] WARNING: ../src/learner.cc:1115: Starting in XGBoost 1.3.0, the default evaluation metric used with the objective 'binary:logistic' was changed from 'error' to 'logloss'. Explicitly set eval_metric if you'd like to restore the old behavior.\n",
      "[14:57:53] WARNING: ../src/learner.cc:576: \n",
      "Parameters: { \"probability\" } might not be used.\n",
      "\n",
      "  This could be a false alarm, with some parameters getting used by language bindings but\n",
      "  then being mistakenly passed down to XGBoost core, or some parameter actually being used\n",
      "  but getting flagged wrongly here. Please open an issue if you find any such cases.\n",
      "\n",
      "\n",
      "[14:57:53] WARNING: ../src/learner.cc:1115: Starting in XGBoost 1.3.0, the default evaluation metric used with the objective 'binary:logistic' was changed from 'error' to 'logloss'. Explicitly set eval_metric if you'd like to restore the old behavior.\n",
      "[14:57:53] WARNING: ../src/learner.cc:576: \n",
      "Parameters: { \"probability\" } might not be used.\n",
      "\n",
      "  This could be a false alarm, with some parameters getting used by language bindings but\n",
      "  then being mistakenly passed down to XGBoost core, or some parameter actually being used\n",
      "  but getting flagged wrongly here. Please open an issue if you find any such cases.\n",
      "\n",
      "\n",
      "[14:57:53] WARNING: ../src/learner.cc:1115: Starting in XGBoost 1.3.0, the default evaluation metric used with the objective 'binary:logistic' was changed from 'error' to 'logloss'. Explicitly set eval_metric if you'd like to restore the old behavior.\n",
      "[14:57:54] WARNING: ../src/learner.cc:576: \n",
      "Parameters: { \"probability\" } might not be used.\n",
      "\n",
      "  This could be a false alarm, with some parameters getting used by language bindings but\n",
      "  then being mistakenly passed down to XGBoost core, or some parameter actually being used\n",
      "  but getting flagged wrongly here. Please open an issue if you find any such cases.\n",
      "\n",
      "\n",
      "[14:57:54] WARNING: ../src/learner.cc:1115: Starting in XGBoost 1.3.0, the default evaluation metric used with the objective 'binary:logistic' was changed from 'error' to 'logloss'. Explicitly set eval_metric if you'd like to restore the old behavior.\n",
      "[14:58:04] WARNING: ../src/learner.cc:1115: Starting in XGBoost 1.3.0, the default evaluation metric used with the objective 'binary:logistic' was changed from 'error' to 'logloss'. Explicitly set eval_metric if you'd like to restore the old behavior.\n",
      "[14:58:04] WARNING: ../src/learner.cc:576: \n",
      "Parameters: { \"probability\" } might not be used.\n",
      "\n",
      "  This could be a false alarm, with some parameters getting used by language bindings but\n",
      "  then being mistakenly passed down to XGBoost core, or some parameter actually being used\n",
      "  but getting flagged wrongly here. Please open an issue if you find any such cases.\n",
      "\n",
      "\n",
      "[14:58:04] WARNING: ../src/learner.cc:1115: Starting in XGBoost 1.3.0, the default evaluation metric used with the objective 'binary:logistic' was changed from 'error' to 'logloss'. Explicitly set eval_metric if you'd like to restore the old behavior.\n",
      "[14:58:05] WARNING: ../src/learner.cc:576: \n",
      "Parameters: { \"probability\" } might not be used.\n",
      "\n",
      "  This could be a false alarm, with some parameters getting used by language bindings but\n",
      "  then being mistakenly passed down to XGBoost core, or some parameter actually being used\n",
      "  but getting flagged wrongly here. Please open an issue if you find any such cases.\n",
      "\n",
      "\n",
      "[14:58:05] WARNING: ../src/learner.cc:1115: Starting in XGBoost 1.3.0, the default evaluation metric used with the objective 'binary:logistic' was changed from 'error' to 'logloss'. Explicitly set eval_metric if you'd like to restore the old behavior.\n",
      "[14:58:05] WARNING: ../src/learner.cc:576: \n",
      "Parameters: { \"probability\" } might not be used.\n",
      "\n",
      "  This could be a false alarm, with some parameters getting used by language bindings but\n",
      "  then being mistakenly passed down to XGBoost core, or some parameter actually being used\n",
      "  but getting flagged wrongly here. Please open an issue if you find any such cases.\n",
      "\n",
      "\n",
      "[14:58:05] WARNING: ../src/learner.cc:1115: Starting in XGBoost 1.3.0, the default evaluation metric used with the objective 'binary:logistic' was changed from 'error' to 'logloss'. Explicitly set eval_metric if you'd like to restore the old behavior.\n",
      "[14:58:05] WARNING: ../src/learner.cc:576: \n",
      "Parameters: { \"probability\" } might not be used.\n",
      "\n",
      "  This could be a false alarm, with some parameters getting used by language bindings but\n",
      "  then being mistakenly passed down to XGBoost core, or some parameter actually being used\n",
      "  but getting flagged wrongly here. Please open an issue if you find any such cases.\n",
      "\n",
      "\n",
      "[14:58:05] WARNING: ../src/learner.cc:1115: Starting in XGBoost 1.3.0, the default evaluation metric used with the objective 'binary:logistic' was changed from 'error' to 'logloss'. Explicitly set eval_metric if you'd like to restore the old behavior.\n",
      "[14:58:06] WARNING: ../src/learner.cc:576: \n",
      "Parameters: { \"probability\" } might not be used.\n",
      "\n",
      "  This could be a false alarm, with some parameters getting used by language bindings but\n",
      "  then being mistakenly passed down to XGBoost core, or some parameter actually being used\n",
      "  but getting flagged wrongly here. Please open an issue if you find any such cases.\n",
      "\n",
      "\n",
      "[14:58:06] WARNING: ../src/learner.cc:1115: Starting in XGBoost 1.3.0, the default evaluation metric used with the objective 'binary:logistic' was changed from 'error' to 'logloss'. Explicitly set eval_metric if you'd like to restore the old behavior.\n",
      "[14:58:06] WARNING: ../src/learner.cc:576: \n",
      "Parameters: { \"probability\" } might not be used.\n",
      "\n",
      "  This could be a false alarm, with some parameters getting used by language bindings but\n",
      "  then being mistakenly passed down to XGBoost core, or some parameter actually being used\n",
      "  but getting flagged wrongly here. Please open an issue if you find any such cases.\n",
      "\n",
      "\n",
      "[14:58:06] WARNING: ../src/learner.cc:1115: Starting in XGBoost 1.3.0, the default evaluation metric used with the objective 'binary:logistic' was changed from 'error' to 'logloss'. Explicitly set eval_metric if you'd like to restore the old behavior.\n",
      "[14:58:07] WARNING: ../src/learner.cc:576: \n",
      "Parameters: { \"probability\" } might not be used.\n",
      "\n",
      "  This could be a false alarm, with some parameters getting used by language bindings but\n",
      "  then being mistakenly passed down to XGBoost core, or some parameter actually being used\n",
      "  but getting flagged wrongly here. Please open an issue if you find any such cases.\n",
      "\n",
      "\n",
      "[14:58:07] WARNING: ../src/learner.cc:1115: Starting in XGBoost 1.3.0, the default evaluation metric used with the objective 'binary:logistic' was changed from 'error' to 'logloss'. Explicitly set eval_metric if you'd like to restore the old behavior.\n",
      "[14:58:08] WARNING: ../src/learner.cc:576: \n",
      "Parameters: { \"probability\" } might not be used.\n",
      "\n",
      "  This could be a false alarm, with some parameters getting used by language bindings but\n",
      "  then being mistakenly passed down to XGBoost core, or some parameter actually being used\n",
      "  but getting flagged wrongly here. Please open an issue if you find any such cases.\n",
      "\n",
      "\n",
      "[14:58:08] WARNING: ../src/learner.cc:1115: Starting in XGBoost 1.3.0, the default evaluation metric used with the objective 'binary:logistic' was changed from 'error' to 'logloss'. Explicitly set eval_metric if you'd like to restore the old behavior.\n"
     ]
    },
    {
     "name": "stdout",
     "output_type": "stream",
     "text": [
      "[14:58:08] WARNING: ../src/learner.cc:576: \n",
      "Parameters: { \"probability\" } might not be used.\n",
      "\n",
      "  This could be a false alarm, with some parameters getting used by language bindings but\n",
      "  then being mistakenly passed down to XGBoost core, or some parameter actually being used\n",
      "  but getting flagged wrongly here. Please open an issue if you find any such cases.\n",
      "\n",
      "\n",
      "[14:58:08] WARNING: ../src/learner.cc:1115: Starting in XGBoost 1.3.0, the default evaluation metric used with the objective 'binary:logistic' was changed from 'error' to 'logloss'. Explicitly set eval_metric if you'd like to restore the old behavior.\n",
      "[14:58:18] WARNING: ../src/learner.cc:1115: Starting in XGBoost 1.3.0, the default evaluation metric used with the objective 'binary:logistic' was changed from 'error' to 'logloss'. Explicitly set eval_metric if you'd like to restore the old behavior.\n",
      "[14:58:18] WARNING: ../src/learner.cc:576: \n",
      "Parameters: { \"probability\" } might not be used.\n",
      "\n",
      "  This could be a false alarm, with some parameters getting used by language bindings but\n",
      "  then being mistakenly passed down to XGBoost core, or some parameter actually being used\n",
      "  but getting flagged wrongly here. Please open an issue if you find any such cases.\n",
      "\n",
      "\n",
      "[14:58:19] WARNING: ../src/learner.cc:1115: Starting in XGBoost 1.3.0, the default evaluation metric used with the objective 'binary:logistic' was changed from 'error' to 'logloss'. Explicitly set eval_metric if you'd like to restore the old behavior.\n",
      "[14:58:19] WARNING: ../src/learner.cc:576: \n",
      "Parameters: { \"probability\" } might not be used.\n",
      "\n",
      "  This could be a false alarm, with some parameters getting used by language bindings but\n",
      "  then being mistakenly passed down to XGBoost core, or some parameter actually being used\n",
      "  but getting flagged wrongly here. Please open an issue if you find any such cases.\n",
      "\n",
      "\n",
      "[14:58:19] WARNING: ../src/learner.cc:1115: Starting in XGBoost 1.3.0, the default evaluation metric used with the objective 'binary:logistic' was changed from 'error' to 'logloss'. Explicitly set eval_metric if you'd like to restore the old behavior.\n",
      "[14:58:19] WARNING: ../src/learner.cc:576: \n",
      "Parameters: { \"probability\" } might not be used.\n",
      "\n",
      "  This could be a false alarm, with some parameters getting used by language bindings but\n",
      "  then being mistakenly passed down to XGBoost core, or some parameter actually being used\n",
      "  but getting flagged wrongly here. Please open an issue if you find any such cases.\n",
      "\n",
      "\n",
      "[14:58:19] WARNING: ../src/learner.cc:1115: Starting in XGBoost 1.3.0, the default evaluation metric used with the objective 'binary:logistic' was changed from 'error' to 'logloss'. Explicitly set eval_metric if you'd like to restore the old behavior.\n",
      "[14:58:20] WARNING: ../src/learner.cc:576: \n",
      "Parameters: { \"probability\" } might not be used.\n",
      "\n",
      "  This could be a false alarm, with some parameters getting used by language bindings but\n",
      "  then being mistakenly passed down to XGBoost core, or some parameter actually being used\n",
      "  but getting flagged wrongly here. Please open an issue if you find any such cases.\n",
      "\n",
      "\n",
      "[14:58:20] WARNING: ../src/learner.cc:1115: Starting in XGBoost 1.3.0, the default evaluation metric used with the objective 'binary:logistic' was changed from 'error' to 'logloss'. Explicitly set eval_metric if you'd like to restore the old behavior.\n",
      "[14:58:20] WARNING: ../src/learner.cc:576: \n",
      "Parameters: { \"probability\" } might not be used.\n",
      "\n",
      "  This could be a false alarm, with some parameters getting used by language bindings but\n",
      "  then being mistakenly passed down to XGBoost core, or some parameter actually being used\n",
      "  but getting flagged wrongly here. Please open an issue if you find any such cases.\n",
      "\n",
      "\n",
      "[14:58:20] WARNING: ../src/learner.cc:1115: Starting in XGBoost 1.3.0, the default evaluation metric used with the objective 'binary:logistic' was changed from 'error' to 'logloss'. Explicitly set eval_metric if you'd like to restore the old behavior.\n",
      "[14:58:20] WARNING: ../src/learner.cc:576: \n",
      "Parameters: { \"probability\" } might not be used.\n",
      "\n",
      "  This could be a false alarm, with some parameters getting used by language bindings but\n",
      "  then being mistakenly passed down to XGBoost core, or some parameter actually being used\n",
      "  but getting flagged wrongly here. Please open an issue if you find any such cases.\n",
      "\n",
      "\n",
      "[14:58:20] WARNING: ../src/learner.cc:1115: Starting in XGBoost 1.3.0, the default evaluation metric used with the objective 'binary:logistic' was changed from 'error' to 'logloss'. Explicitly set eval_metric if you'd like to restore the old behavior.\n",
      "[14:58:21] WARNING: ../src/learner.cc:576: \n",
      "Parameters: { \"probability\" } might not be used.\n",
      "\n",
      "  This could be a false alarm, with some parameters getting used by language bindings but\n",
      "  then being mistakenly passed down to XGBoost core, or some parameter actually being used\n",
      "  but getting flagged wrongly here. Please open an issue if you find any such cases.\n",
      "\n",
      "\n",
      "[14:58:21] WARNING: ../src/learner.cc:1115: Starting in XGBoost 1.3.0, the default evaluation metric used with the objective 'binary:logistic' was changed from 'error' to 'logloss'. Explicitly set eval_metric if you'd like to restore the old behavior.\n",
      "[14:58:21] WARNING: ../src/learner.cc:576: \n",
      "Parameters: { \"probability\" } might not be used.\n",
      "\n",
      "  This could be a false alarm, with some parameters getting used by language bindings but\n",
      "  then being mistakenly passed down to XGBoost core, or some parameter actually being used\n",
      "  but getting flagged wrongly here. Please open an issue if you find any such cases.\n",
      "\n",
      "\n",
      "[14:58:21] WARNING: ../src/learner.cc:1115: Starting in XGBoost 1.3.0, the default evaluation metric used with the objective 'binary:logistic' was changed from 'error' to 'logloss'. Explicitly set eval_metric if you'd like to restore the old behavior.\n",
      "[14:58:22] WARNING: ../src/learner.cc:576: \n",
      "Parameters: { \"probability\" } might not be used.\n",
      "\n",
      "  This could be a false alarm, with some parameters getting used by language bindings but\n",
      "  then being mistakenly passed down to XGBoost core, or some parameter actually being used\n",
      "  but getting flagged wrongly here. Please open an issue if you find any such cases.\n",
      "\n",
      "\n",
      "[14:58:22] WARNING: ../src/learner.cc:1115: Starting in XGBoost 1.3.0, the default evaluation metric used with the objective 'binary:logistic' was changed from 'error' to 'logloss'. Explicitly set eval_metric if you'd like to restore the old behavior.\n",
      "\r"
     ]
    },
    {
     "data": {
      "image/png": "[encoded data removed]",
      "text/plain": [
       "<Figure size 2304x720 with 3 Axes>"
      ]
     },
     "metadata": {
      "needs_background": "light"
     },
     "output_type": "display_data"
    }
   ],
   "source": [
    "fig = plt.figure( figsize=(32, 10) )\n",
    "pop_avg_scores = fit_and_eval_models( num_to_model, models_to_run, fig, dataset='population_average', color='darkred', m='o', shift=-0.15)\n",
    "pop_smp_scores = fit_and_eval_models( num_to_model, models_to_run, fig, dataset='population_sampled', color='forestgreen', m='x', shift=-0.05)\n",
    "age_avg_scores = fit_and_eval_models( num_to_model, models_to_run, fig, dataset='age_average', color='midnightblue', m='v', shift=0.05)\n",
    "hsp_avg_scores = fit_and_eval_models( num_to_model, models_to_run, fig, dataset='hospital_average', color='orange', m='s', shift=0.15)"
   ]
  },
  {
   "cell_type": "code",
   "execution_count": 119,
   "id": "fe638285",
   "metadata": {},
   "outputs": [
    {
     "name": "stdout",
     "output_type": "stream",
     "text": [
      "Population average\n",
      "Logistic BA : 0.7453236652045537 0.019473255713757794\n",
      "Logistic F1 : 0.7558565005230309 0.0226297794191152\n",
      "Logistic AUC : 0.8338248366622251 0.011957251138338074\n",
      "SVM BA : 0.77314672326306 0.013610996485339555\n",
      "SVM F1 : 0.7873114399671408 0.02179372219611529\n",
      "SVM AUC : 0.8467184094902865 0.020108050023967493\n",
      "Randomforest BA : 0.7579702177891364 0.022184977030908774\n",
      "Randomforest F1 : 0.7732872542610754 0.02542581013285336\n",
      "Randomforest AUC : 0.8403302503345735 0.011281971893904933\n",
      "GradientBoosting BA : 0.757170002792226 0.013411566866055916\n",
      "GradientBoosting F1 : 0.7674413473075791 0.016847918815621865\n",
      "GradientBoosting AUC : 0.8414807059716786 0.010691543423661819\n",
      "XGB BA : 0.7625471633020695 0.02152421361224836\n",
      "XGB F1 : 0.7741565584613056 0.026886209672727635\n",
      "XGB AUC : 0.8299548589571764 0.016586226676050832\n"
     ]
    }
   ],
   "source": [
    "print('Population average')\n",
    "for model, scores in pop_avg_scores.items():\n",
    "    print(f'{model} BA :', np.mean(scores['balanced_accuracy']),\n",
    "          np.std(scores['balanced_accuracy']))\n",
    "    print(f'{model} F1 :', np.mean(scores['f1']), np.std(scores['f1']))\n",
    "    print(f'{model} AUC :', np.mean(scores['roc_auc']), np.std(scores['roc_auc']))"
   ]
  },
  {
   "cell_type": "code",
   "execution_count": 120,
   "id": "d1aeb3f3",
   "metadata": {},
   "outputs": [
    {
     "name": "stdout",
     "output_type": "stream",
     "text": [
      "Population sampling\n",
      "Logistic BA : 0.7218666367877036 0.01997506848709735\n",
      "Logistic F1 : 0.7115613172468913 0.023726215674685254\n",
      "Logistic AUC : 0.7934498888503903 0.014680842748712114\n",
      "SVM BA : 0.6966311104387884 0.02570322936689327\n",
      "SVM F1 : 0.6996515476023673 0.02280148583415954\n",
      "SVM AUC : 0.7910908128054718 0.016795778923572906\n",
      "Randomforest BA : 0.7135126485007668 0.021230088618731918\n",
      "Randomforest F1 : 0.7126795526922217 0.012218719192352654\n",
      "Randomforest AUC : 0.7988774636091238 0.01399613948856045\n",
      "GradientBoosting BA : 0.726420200029527 0.02299431480896664\n",
      "GradientBoosting F1 : 0.7225591384046339 0.026914648709974797\n",
      "GradientBoosting AUC : 0.8044912821180571 0.015532055469990107\n",
      "XGB BA : 0.7319987553953752 0.03194513493570612\n",
      "XGB F1 : 0.7363607937049326 0.01885016091777922\n",
      "XGB AUC : 0.8031838896801157 0.024138391965713227\n"
     ]
    }
   ],
   "source": [
    "print('Population sampling')\n",
    "for model, scores in pop_smp_scores.items():\n",
    "    print(f'{model} BA :', np.mean(scores['balanced_accuracy']), np.std(scores['balanced_accuracy']))\n",
    "    print(f'{model} F1 :', np.mean(scores['f1']), np.std(scores['f1']))\n",
    "    print(f'{model} AUC :', np.mean(scores['roc_auc']), np.std(scores['roc_auc']))"
   ]
  },
  {
   "cell_type": "code",
   "execution_count": 121,
   "id": "80204a5f",
   "metadata": {},
   "outputs": [
    {
     "name": "stdout",
     "output_type": "stream",
     "text": [
      "Age average\n",
      "Logistic BA : 0.7319454257919674 0.01858471526781337\n",
      "Logistic F1 : 0.7326310413926231 0.024484863825223368\n",
      "Logistic AUC : 0.8100539761250332 0.016505246714010647\n",
      "SVM BA : 0.7421233885637268 0.014522313618599526\n",
      "SVM F1 : 0.7441562403193893 0.015874681679657547\n",
      "SVM AUC : 0.8220061014938315 0.014534332982923592\n",
      "Randomforest BA : 0.7362267796131758 0.018046111413999318\n",
      "Randomforest F1 : 0.7386825085699937 0.01950304155945613\n",
      "Randomforest AUC : 0.8178500063269926 0.012862925442203077\n",
      "GradientBoosting BA : 0.7479948598141262 0.019553859636988424\n",
      "GradientBoosting F1 : 0.7479756104207462 0.023868184779859268\n",
      "GradientBoosting AUC : 0.8314812737160011 0.01750511500551448\n",
      "XGB BA : 0.7339119112214672 0.018915240577101148\n",
      "XGB F1 : 0.7346525574857885 0.022132115398437333\n",
      "XGB AUC : 0.8274671397147586 0.016115598066399266\n"
     ]
    }
   ],
   "source": [
    "print('Age average')\n",
    "for model, scores in age_avg_scores.items():\n",
    "    print(f'{model} BA :', np.mean(scores['balanced_accuracy']), np.std(scores['balanced_accuracy']))\n",
    "    print(f'{model} F1 :', np.mean(scores['f1']), np.std(scores['f1']))\n",
    "    print(f'{model} AUC :', np.mean(scores['roc_auc']), np.std(scores['roc_auc']))"
   ]
  },
  {
   "cell_type": "code",
   "execution_count": 122,
   "id": "dc688ab0",
   "metadata": {},
   "outputs": [
    {
     "name": "stdout",
     "output_type": "stream",
     "text": [
      "Hospital average\n",
      "Logistic BA : 0.7240047515252186 0.017294852290970036\n",
      "Logistic F1 : 0.7253668903154937 0.024179287552631826\n",
      "Logistic AUC : 0.8070205343150771 0.021922325187596518\n",
      "SVM BA : 0.7290240445612678 0.02917500238817727\n",
      "SVM F1 : 0.7366357487922706 0.03488677499392187\n",
      "SVM AUC : 0.8033082085777027 0.020805075819492085\n",
      "Randomforest BA : 0.7384946587335631 0.03455345881752244\n",
      "Randomforest F1 : 0.7429831244701041 0.04300732040245369\n",
      "Randomforest AUC : 0.8152304003506726 0.026920624100744278\n",
      "GradientBoosting BA : 0.7342028457941093 0.028098432321579346\n",
      "GradientBoosting F1 : 0.7385235905570352 0.03476675472308327\n",
      "GradientBoosting AUC : 0.8160291435552537 0.022231541468269663\n",
      "XGB BA : 0.7327137481639674 0.029639127444158208\n",
      "XGB F1 : 0.7411866113645056 0.04124239803244033\n",
      "XGB AUC : 0.8068563309040366 0.020307306912058672\n"
     ]
    }
   ],
   "source": [
    "print('Hospital average')\n",
    "for model, scores in hsp_avg_scores.items():\n",
    "    print(f'{model} BA :', np.mean(scores['balanced_accuracy']), np.std(scores['balanced_accuracy']))\n",
    "    print(f'{model} F1 :', np.mean(scores['f1']), np.std(scores['f1']))\n",
    "    print(f'{model} AUC :', np.mean(scores['roc_auc']), np.std(scores['roc_auc']))"
   ]
  },
  {
   "cell_type": "markdown",
   "id": "85bfc107",
   "metadata": {},
   "source": [
    "### Test scores"
   ]
  },
  {
   "cell_type": "code",
   "execution_count": 125,
   "id": "1545bc03",
   "metadata": {},
   "outputs": [
    {
     "name": "stdout",
     "output_type": "stream",
     "text": [
      "Population average\n",
      "Logistic BA : 0.7627777777777778 0.005420700841012857\n",
      "SVM BA : 0.7367320261437909 0.0053413130743074945\n",
      "Randomforest BA : 0.7292156862745098 0.010371068338497283\n",
      "GradientBoosting BA : 0.7386601307189543 0.014667924870011787\n",
      "XGB BA : 0.7084967320261437 0.014170727493917361\n",
      "\n",
      "\n",
      "\n",
      "Population sampling\n",
      "Logistic BA : 0.720294117647059 0.004875089749335708\n",
      "SVM BA : 0.7164379084967321 0.00877534653573084\n",
      "Randomforest BA : 0.7170588235294117 0.008406128292263424\n",
      "GradientBoosting BA : 0.7216339869281045 0.013319789994671753\n",
      "XGB BA : 0.6977124183006536 0.01579246464061284\n",
      "\n",
      "\n",
      "\n",
      "Age average\n",
      "Logistic BA : 0.756830065359477 0.004951169132923899\n",
      "SVM BA : 0.729248366013072 0.005595779030850738\n",
      "Randomforest BA : 0.7280392156862746 0.012266704556160137\n",
      "GradientBoosting BA : 0.7243137254901961 0.0052556498020848745\n",
      "XGB BA : 0.7011764705882353 0.00949142486508212\n",
      "\n",
      "\n",
      "\n",
      "Hospital average\n",
      "Logistic BA : 0.7593790849673202 0.007241051372683681\n",
      "SVM BA : 0.7336601307189543 0.007280324062753842\n",
      "Randomforest BA : 0.7225163398692811 0.00790512000508812\n",
      "GradientBoosting BA : 0.7221895424836602 0.0049951918442576555\n",
      "XGB BA : 0.6995424836601308 0.013004072417530836\n"
     ]
    }
   ],
   "source": [
    "print('Population average')\n",
    "for model, scores in pop_avg_scores.items():\n",
    "    print(f'{model} BA :', np.mean(scores['test_balanced_accuracy']), np.std(scores['test_balanced_accuracy']))\n",
    "\n",
    "print('\\n\\n\\nPopulation sampling')\n",
    "for model, scores in pop_smp_scores.items():\n",
    "    print(f'{model} BA :', np.mean(scores['test_balanced_accuracy']), np.std(scores['test_balanced_accuracy']))\n",
    "\n",
    "print('\\n\\n\\nAge average')\n",
    "for model, scores in age_avg_scores.items():\n",
    "    print(f'{model} BA :', np.mean(scores['test_balanced_accuracy']), np.std(scores['test_balanced_accuracy']))\n",
    "\n",
    "print('\\n\\n\\nHospital average')\n",
    "for model, scores in hsp_avg_scores.items():\n",
    "    print(f'{model} BA :', np.mean(scores['test_balanced_accuracy']), np.std(scores['test_balanced_accuracy']))"
   ]
  },
  {
   "cell_type": "markdown",
   "id": "0e997157",
   "metadata": {},
   "source": [
    "##### only best features"
   ]
  },
  {
   "cell_type": "code",
   "execution_count": 32,
   "id": "f1f7caf5",
   "metadata": {
    "scrolled": false
   },
   "outputs": [
    {
     "data": {
      "text/plain": [
       "(array(['Age', 'BPCO', 'CRP', 'CardiovascularDisease', 'Cough', 'D_dimer',\n",
       "        'DaysFever', 'Diabetes', 'DifficultyInBreathing', 'Fibrinogen',\n",
       "        'Glucose', 'HighBloodPressure', 'Hospital_A', 'Hospital_C',\n",
       "        'Hospital_D', 'Hospital_F', 'INR', 'IschemicHeartDisease', 'LDH',\n",
       "        'Ox_percentage', 'PCT', 'PaCO2', 'PaO2', 'Position', 'RBC', 'SaO2',\n",
       "        'Sex', 'Temp_C', 'WBC', 'pH'], dtype='<U21'),\n",
       " (30,))"
      ]
     },
     "execution_count": 32,
     "metadata": {},
     "output_type": "execute_result"
    }
   ],
   "source": [
    "best_cols, best_cols.shape"
   ]
  },
  {
   "cell_type": "code",
   "execution_count": 33,
   "id": "20b5228a",
   "metadata": {
    "scrolled": false
   },
   "outputs": [
    {
     "name": "stdout",
     "output_type": "stream",
     "text": [
      "[16:26:11] WARNING: ../src/learner.cc:1115: Starting in XGBoost 1.3.0, the default evaluation metric used with the objective 'binary:logistic' was changed from 'error' to 'logloss'. Explicitly set eval_metric if you'd like to restore the old behavior.\n",
      "[16:26:11] WARNING: ../src/learner.cc:1115: Starting in XGBoost 1.3.0, the default evaluation metric used with the objective 'binary:logistic' was changed from 'error' to 'logloss'. Explicitly set eval_metric if you'd like to restore the old behavior.\n",
      "[16:26:12] WARNING: ../src/learner.cc:1115: Starting in XGBoost 1.3.0, the default evaluation metric used with the objective 'binary:logistic' was changed from 'error' to 'logloss'. Explicitly set eval_metric if you'd like to restore the old behavior.\n",
      "[16:26:12] WARNING: ../src/learner.cc:1115: Starting in XGBoost 1.3.0, the default evaluation metric used with the objective 'binary:logistic' was changed from 'error' to 'logloss'. Explicitly set eval_metric if you'd like to restore the old behavior.\n",
      "[16:26:12] WARNING: ../src/learner.cc:1115: Starting in XGBoost 1.3.0, the default evaluation metric used with the objective 'binary:logistic' was changed from 'error' to 'logloss'. Explicitly set eval_metric if you'd like to restore the old behavior.\n",
      "[16:26:19] WARNING: ../src/learner.cc:1115: Starting in XGBoost 1.3.0, the default evaluation metric used with the objective 'binary:logistic' was changed from 'error' to 'logloss'. Explicitly set eval_metric if you'd like to restore the old behavior.\n",
      "[16:26:19] WARNING: ../src/learner.cc:1115: Starting in XGBoost 1.3.0, the default evaluation metric used with the objective 'binary:logistic' was changed from 'error' to 'logloss'. Explicitly set eval_metric if you'd like to restore the old behavior.\n",
      "[16:26:19] WARNING: ../src/learner.cc:1115: Starting in XGBoost 1.3.0, the default evaluation metric used with the objective 'binary:logistic' was changed from 'error' to 'logloss'. Explicitly set eval_metric if you'd like to restore the old behavior.\n",
      "[16:26:19] WARNING: ../src/learner.cc:1115: Starting in XGBoost 1.3.0, the default evaluation metric used with the objective 'binary:logistic' was changed from 'error' to 'logloss'. Explicitly set eval_metric if you'd like to restore the old behavior.\n",
      "[16:26:20] WARNING: ../src/learner.cc:1115: Starting in XGBoost 1.3.0, the default evaluation metric used with the objective 'binary:logistic' was changed from 'error' to 'logloss'. Explicitly set eval_metric if you'd like to restore the old behavior.\n",
      "[16:26:26] WARNING: ../src/learner.cc:1115: Starting in XGBoost 1.3.0, the default evaluation metric used with the objective 'binary:logistic' was changed from 'error' to 'logloss'. Explicitly set eval_metric if you'd like to restore the old behavior.\n",
      "[16:26:26] WARNING: ../src/learner.cc:1115: Starting in XGBoost 1.3.0, the default evaluation metric used with the objective 'binary:logistic' was changed from 'error' to 'logloss'. Explicitly set eval_metric if you'd like to restore the old behavior.\n",
      "[16:26:27] WARNING: ../src/learner.cc:1115: Starting in XGBoost 1.3.0, the default evaluation metric used with the objective 'binary:logistic' was changed from 'error' to 'logloss'. Explicitly set eval_metric if you'd like to restore the old behavior.\n",
      "[16:26:27] WARNING: ../src/learner.cc:1115: Starting in XGBoost 1.3.0, the default evaluation metric used with the objective 'binary:logistic' was changed from 'error' to 'logloss'. Explicitly set eval_metric if you'd like to restore the old behavior.\n",
      "[16:26:27] WARNING: ../src/learner.cc:1115: Starting in XGBoost 1.3.0, the default evaluation metric used with the objective 'binary:logistic' was changed from 'error' to 'logloss'. Explicitly set eval_metric if you'd like to restore the old behavior.\n",
      "[16:26:34] WARNING: ../src/learner.cc:1115: Starting in XGBoost 1.3.0, the default evaluation metric used with the objective 'binary:logistic' was changed from 'error' to 'logloss'. Explicitly set eval_metric if you'd like to restore the old behavior.\n",
      "[16:26:34] WARNING: ../src/learner.cc:1115: Starting in XGBoost 1.3.0, the default evaluation metric used with the objective 'binary:logistic' was changed from 'error' to 'logloss'. Explicitly set eval_metric if you'd like to restore the old behavior.\n",
      "[16:26:34] WARNING: ../src/learner.cc:1115: Starting in XGBoost 1.3.0, the default evaluation metric used with the objective 'binary:logistic' was changed from 'error' to 'logloss'. Explicitly set eval_metric if you'd like to restore the old behavior.\n",
      "[16:26:34] WARNING: ../src/learner.cc:1115: Starting in XGBoost 1.3.0, the default evaluation metric used with the objective 'binary:logistic' was changed from 'error' to 'logloss'. Explicitly set eval_metric if you'd like to restore the old behavior.\n",
      "[16:26:35] WARNING: ../src/learner.cc:1115: Starting in XGBoost 1.3.0, the default evaluation metric used with the objective 'binary:logistic' was changed from 'error' to 'logloss'. Explicitly set eval_metric if you'd like to restore the old behavior.\n"
     ]
    },
    {
     "data": {
      "image/png": "[encoded data removed]",
      "text/plain": [
       "<Figure size 1728x576 with 3 Axes>"
      ]
     },
     "metadata": {
      "needs_background": "light"
     },
     "output_type": "display_data"
    }
   ],
   "source": [
    "fig = plt.figure( figsize=(24,8) )\n",
    "best_pop_avg_scores = fit_and_eval_models( num_to_model, models_to_run, fig, dataset='population_average', color='darkred', m='o', shift=-0.15, columns=best_cols)\n",
    "best_pop_smp_scores = fit_and_eval_models( num_to_model, models_to_run, fig, dataset='population_sampled', color='forestgreen', m='x', shift=-0.05, columns=best_cols)\n",
    "best_age_avg_scores = fit_and_eval_models( num_to_model, models_to_run, fig, dataset='age_average', color='midnightblue', m='v', shift=0.05, columns=best_cols)\n",
    "best_hsp_avg_scores = fit_and_eval_models( num_to_model, models_to_run, fig, dataset='hospital_average', color='orange', m='s', shift=0.15, columns=best_cols)"
   ]
  },
  {
   "cell_type": "markdown",
   "id": "951e0f0e",
   "metadata": {},
   "source": [
    "## Simple neural networks"
   ]
  },
  {
   "cell_type": "code",
   "execution_count": 34,
   "id": "ade909ad",
   "metadata": {
    "scrolled": false
   },
   "outputs": [
    {
     "data": {
      "text/plain": [
       "('/mnt/ncshare/ai4covid_hackathon/preprocessed_data/train/aligned',\n",
       " '/mnt/ncshare/ai4covid_hackathon/preprocessed_data/train/fourier_2d',\n",
       " '/mnt/ncshare/ai4covid_hackathon/preprocessed_data/train/segmented')"
      ]
     },
     "execution_count": 34,
     "metadata": {},
     "output_type": "execute_result"
    }
   ],
   "source": [
    "cfg.preprocessed_image_base_path, cfg.fourier_base_path, cfg.segmentation_base_path"
   ]
  },
  {
   "cell_type": "code",
   "execution_count": 35,
   "id": "bc45a72d",
   "metadata": {},
   "outputs": [
    {
     "data": {
      "text/plain": [
       "((882, 30), (882, 2), (221, 30), (221, 2))"
      ]
     },
     "execution_count": 35,
     "metadata": {},
     "output_type": "execute_result"
    }
   ],
   "source": [
    "x_train, y_train, x_valid, y_valid = load_cv_data(1, 'population_average', columns=best_cols, include_death_column=True)\n",
    "x_train.shape, y_train.shape, x_valid.shape, y_valid.shape"
   ]
  },
  {
   "cell_type": "code",
   "execution_count": 36,
   "id": "a2899e2a",
   "metadata": {},
   "outputs": [
    {
     "data": {
      "text/plain": [
       "(7, 36)"
      ]
     },
     "execution_count": 36,
     "metadata": {},
     "output_type": "execute_result"
    }
   ],
   "source": [
    "cfg.batch_size, cfg.epochs"
   ]
  },
  {
   "cell_type": "code",
   "execution_count": 37,
   "id": "07e17732",
   "metadata": {},
   "outputs": [],
   "source": [
    "def five_fold_cv_model_eval_NN( model, dataset='population_average', batch_size=8, columns=[]  ):\n",
    "        \n",
    "    b_accs = []\n",
    "    roc_aucs = []\n",
    "    f1s = []\n",
    "    \n",
    "    scores = {}\n",
    "    \n",
    "    for f in range(1,6):\n",
    "        #print(columns)\n",
    "        x_train, y_train, x_valid, y_valid = load_cv_data(f, dataset, columns, include_death_column=True)\n",
    "        #print(x_train.shape, y_train.shape, x_valid.shape, y_valid.shape)\n",
    "        model_instance, early_stopping = model(x_train.shape[1]) # init with feature\n",
    "        \n",
    "        \n",
    "        try:\n",
    "            history = model_instance.fit( x=x_train, y=[ tf.keras.utils.to_categorical(y_train[:,0]), tf.keras.utils.to_categorical(y_train[:,1]) ],\n",
    "                            validation_data=( x_valid, [ tf.keras.utils.to_categorical(y_valid[:,0]), tf.keras.utils.to_categorical(y_valid[:,1]) ] ),\n",
    "                            epochs=cfg.epochs,\n",
    "                            callbacks=[early_stopping],\n",
    "                            verbose=0,\n",
    "                            batch_size=batch_size\n",
    "                            )\n",
    "            prognosis_pred, death_pred = model_instance.predict( x_valid )\n",
    "        \n",
    "            prognosis_pred_labels = np.argmax( prognosis_pred, axis=-1)\n",
    "            prognosis_pred_proba = prognosis_pred[:,1]\n",
    "            #print(prognosis_pred_labels.shape, prognosis_pred_labels[:5], y_valid[:5])\n",
    "            \n",
    "        except:\n",
    "            history = model_instance.fit( x=x_train, y=[ tf.keras.utils.to_categorical(y_train[:,0]) ],\n",
    "                            validation_data=( x_valid, [ tf.keras.utils.to_categorical(y_valid[:,0]) ] ),\n",
    "                            epochs=cfg.epochs,\n",
    "                            callbacks=[early_stopping],\n",
    "                            verbose=0,\n",
    "                            )\n",
    "            prognosis_pred = model_instance.predict( x_valid )\n",
    "        \n",
    "            prognosis_pred_labels = np.argmax( prognosis_pred, axis=-1)\n",
    "            prognosis_pred_proba = prognosis_pred[:,1]\n",
    "            #print(prognosis_pred_labels.shape, prognosis_pred_labels[:5], y_valid[:5])\n",
    "        \n",
    "        try:\n",
    "            b_acc = metrics.balanced_accuracy_score( y_pred=prognosis_pred_labels, y_true=y_valid[:,0] )\n",
    "            f1 = metrics.f1_score( y_true=y_valid[:,0], y_pred=prognosis_pred_labels )\n",
    "            f1s.append(f1)\n",
    "            b_accs.append(b_acc)\n",
    "        except:\n",
    "            print('', end='\\r')\n",
    "        \n",
    "        try:\n",
    "            roc_auc = metrics.roc_auc_score( y_true=y_valid[:,0], y_score=prognosis_pred_proba )\n",
    "            roc_aucs.append(roc_auc)\n",
    "            \n",
    "        except:\n",
    "            print('', end='\\r')\n",
    "    \n",
    "    scores['balanced_accuracy'] = b_accs\n",
    "    scores['roc_auc'] = roc_aucs\n",
    "    scores['f1'] = f1s\n",
    "    \n",
    "    return scores"
   ]
  },
  {
   "cell_type": "code",
   "execution_count": 38,
   "id": "a601c128",
   "metadata": {
    "scrolled": false
   },
   "outputs": [],
   "source": [
    "def meta_model( n_feature_cols ):\n",
    "    input_meta = Input(shape=(n_feature_cols), name=\"meta\", dtype=\"float32\")\n",
    "    death = Input(name=\"death\", shape=(2), dtype=\"int32\")\n",
    "    prognosis = Input(name=\"prognosis\", shape=(2), dtype=\"int32\")\n",
    "\n",
    "    ## META HEAD\n",
    "    meta = Dense(64, activation=\"relu\")(input_meta)\n",
    "    meta = BatchNormalization(name=\"meta_bn1\")(meta)\n",
    "    meta = Dense(128, activation=\"relu\")(meta)\n",
    "    meta = BatchNormalization(name=\"meta_bn2\")(meta)\n",
    "    meta = Dense(128, activation=\"relu\")(meta)\n",
    "    meta_out = BatchNormalization(name=\"meta_bn3\")(meta)\n",
    "\n",
    "    out = Dense(256, activation=\"relu\")(meta_out)\n",
    "    out = BatchNormalization(name=\"head_bn1\")(out)\n",
    "    out = Dropout(0.2)(meta)\n",
    "    out = Dense(cfg.last_dense_size, activation=\"relu\")(out)\n",
    "    out = BatchNormalization(name=\"head_bn2\")(out)\n",
    "    out = Dense(4, activation=\"linear\", name=\"unnormalized_output\")(out)\n",
    "\n",
    "    p, d = Lambda(lambda x: tf.split(x, num_or_size_splits=2, axis=1), name=\"outputs\")(\n",
    "        out\n",
    "    )\n",
    "    prognosis_out = Softmax(name=\"prognosis_out\")(p)\n",
    "    death_out = Softmax(name=\"death_out\")(d)\n",
    "\n",
    "    model = keras.models.Model(\n",
    "        inputs=[ input_meta ],\n",
    "        outputs=[prognosis_out, death_out],\n",
    "        name=\"model_v1\",\n",
    "    )\n",
    "\n",
    "    lr_schedule = tf.keras.optimizers.schedules.ExponentialDecay(\n",
    "        cfg.learning_rate,\n",
    "        decay_steps=3 * cfg.steps_per_epoch,\n",
    "        decay_rate=0.15,\n",
    "        staircase=False,\n",
    "    )\n",
    "\n",
    "    early_stopping = tf.keras.callbacks.EarlyStopping(\n",
    "        monitor=\"val_loss\",\n",
    "        min_delta=0,\n",
    "        patience=5,\n",
    "        verbose=0,\n",
    "        mode=\"min\",\n",
    "        baseline=None,\n",
    "        restore_best_weights=True,\n",
    "    )\n",
    "\n",
    "    opt = keras.optimizers.Adam(lr_schedule)\n",
    "    model.compile(optimizer=opt, loss=tf.keras.losses.binary_crossentropy)\n",
    "\n",
    "    #model.summary()\n",
    "\n",
    "    #prognosis_out = BinaryEndpointLayer(name=\"prognosis_binary_loss\", config=config)(\n",
    "    #    prognosis, p\n",
    "    #)\n",
    "    #death_out = BinaryEndpointLayer(name=\"death_binary_loss\", config=config)(death, d)\n",
    "    return model, early_stopping"
   ]
  },
  {
   "cell_type": "code",
   "execution_count": 39,
   "id": "b2900ee6",
   "metadata": {},
   "outputs": [],
   "source": [
    "def meta_model_mod( n_feature_cols ):\n",
    "    input_meta = Input(shape=(n_feature_cols), name=\"meta\", dtype=\"float32\")\n",
    "    death = Input(name=\"death\", shape=(2), dtype=\"int32\")\n",
    "    prognosis = Input(name=\"prognosis\", shape=(2), dtype=\"int32\")\n",
    "\n",
    "    ## META HEAD\n",
    "    meta = Dense(64, activation=\"relu\")(input_meta)\n",
    "    #meta = BatchNormalization(name=\"meta_bn1\")(meta)\n",
    "    meta = Dense(64, activation=\"relu\")(meta)\n",
    "    #meta = BatchNormalization(name=\"meta_bn2\")(meta)\n",
    "    #meta = Dense(128, activation=\"relu\")(meta)\n",
    "    #meta_out = BatchNormalization(name=\"meta_bn3\")(meta)\n",
    "\n",
    "    out = Dense(128, activation=\"relu\")(meta)\n",
    "    #out = BatchNormalization(name=\"head_bn1\")(out)\n",
    "    out = Dropout(0.2)(out)\n",
    "    out = Dense(cfg.last_dense_size, activation=\"relu\")(out)\n",
    "    #out = BatchNormalization(name=\"head_bn2\")(out)\n",
    "    out = Dense(4, activation=\"linear\", name=\"unnormalized_output\")(out)\n",
    "\n",
    "    p, d = Lambda(lambda x: tf.split(x, num_or_size_splits=2, axis=1), name=\"outputs\")(\n",
    "        out\n",
    "    )\n",
    "    prognosis_out = Softmax(name=\"prognosis_out\")(p)\n",
    "    death_out = Softmax(name=\"death_out\")(d)\n",
    "\n",
    "    model = keras.models.Model(\n",
    "        inputs=[ input_meta ],\n",
    "        outputs=[prognosis_out, death_out],\n",
    "        name=\"model_v1\",\n",
    "    )\n",
    "\n",
    "    lr_schedule = tf.keras.optimizers.schedules.ExponentialDecay(\n",
    "        cfg.learning_rate,\n",
    "        decay_steps=3 * cfg.steps_per_epoch,\n",
    "        decay_rate=1e-2,\n",
    "        staircase=False,\n",
    "    )\n",
    "\n",
    "    early_stopping = tf.keras.callbacks.EarlyStopping(\n",
    "        monitor=\"val_loss\",\n",
    "        min_delta=0,\n",
    "        patience=15,\n",
    "        verbose=0,\n",
    "        mode=\"min\",\n",
    "        baseline=None,\n",
    "        restore_best_weights=True,\n",
    "    )\n",
    "\n",
    "    opt = keras.optimizers.Adam(lr_schedule)\n",
    "    model.compile(optimizer=opt, loss=tf.keras.losses.binary_crossentropy)\n",
    "\n",
    "    #model.summary()\n",
    "\n",
    "    #prognosis_out = BinaryEndpointLayer(name=\"prognosis_binary_loss\", config=config)(\n",
    "    #    prognosis, p\n",
    "    #)\n",
    "    #death_out = BinaryEndpointLayer(name=\"death_binary_loss\", config=config)(death, d)\n",
    "    return model, early_stopping"
   ]
  },
  {
   "cell_type": "code",
   "execution_count": 40,
   "id": "d523a525",
   "metadata": {},
   "outputs": [],
   "source": [
    "def meta_model_mod2( n_feature_cols ):\n",
    "    input_meta = Input(shape=(n_feature_cols), name=\"meta\", dtype=\"float32\")\n",
    "    death = Input(name=\"death\", shape=(2), dtype=\"int32\")\n",
    "    prognosis = Input(name=\"prognosis\", shape=(2), dtype=\"int32\")\n",
    "\n",
    "    ## META HEAD\n",
    "    meta = Dense(64, activation=\"tanh\")(input_meta)\n",
    "    #meta = BatchNormalization(name=\"meta_bn1\")(meta)\n",
    "    meta = Dense(64, activation=\"tanh\")(meta)\n",
    "    #meta = BatchNormalization(name=\"meta_bn2\")(meta)\n",
    "    #meta = Dense(128, activation=\"relu\")(meta)\n",
    "    #meta_out = BatchNormalization(name=\"meta_bn3\")(meta)\n",
    "\n",
    "    out = Dense(128, activation=\"tanh\")(meta)\n",
    "    #out = BatchNormalization(name=\"head_bn1\")(out)\n",
    "    out = Dropout(0.2)(out)\n",
    "    out = Dense(cfg.last_dense_size, activation=\"tanh\")(out)\n",
    "    #out = BatchNormalization(name=\"head_bn2\")(out)\n",
    "    out = Dense(4, activation=\"linear\", name=\"unnormalized_output\")(out)\n",
    "\n",
    "    p, d = Lambda(lambda x: tf.split(x, num_or_size_splits=2, axis=1), name=\"outputs\")(\n",
    "        out\n",
    "    )\n",
    "    prognosis_out = Softmax(name=\"prognosis_out\")(p)\n",
    "    death_out = Softmax(name=\"death_out\")(d)\n",
    "\n",
    "    model = keras.models.Model(\n",
    "        inputs=[ input_meta ],\n",
    "        outputs=[prognosis_out, death_out],\n",
    "        name=\"model_v1\",\n",
    "    )\n",
    "\n",
    "    lr_schedule = tf.keras.optimizers.schedules.ExponentialDecay(\n",
    "        cfg.learning_rate,\n",
    "        decay_steps=3 * cfg.steps_per_epoch,\n",
    "        decay_rate=1e-2,\n",
    "        staircase=False,\n",
    "    )\n",
    "\n",
    "    early_stopping = tf.keras.callbacks.EarlyStopping(\n",
    "        monitor=\"val_loss\",\n",
    "        min_delta=0,\n",
    "        patience=15,\n",
    "        verbose=0,\n",
    "        mode=\"min\",\n",
    "        baseline=None,\n",
    "        restore_best_weights=True,\n",
    "    )\n",
    "\n",
    "    opt = keras.optimizers.Adam(lr_schedule)\n",
    "    model.compile(optimizer=opt, loss=tf.keras.losses.binary_crossentropy)\n",
    "\n",
    "    #model.summary()\n",
    "\n",
    "    #prognosis_out = BinaryEndpointLayer(name=\"prognosis_binary_loss\", config=config)(\n",
    "    #    prognosis, p\n",
    "    #)\n",
    "    #death_out = BinaryEndpointLayer(name=\"death_binary_loss\", config=config)(death, d)\n",
    "    return model, early_stopping"
   ]
  },
  {
   "cell_type": "code",
   "execution_count": 41,
   "id": "afd8e0e8",
   "metadata": {},
   "outputs": [],
   "source": [
    "def meta_model_mod3( n_feature_cols ):\n",
    "    input_meta = Input(shape=(n_feature_cols), name=\"meta\", dtype=\"float32\")\n",
    "    death = Input(name=\"death\", shape=(2), dtype=\"int32\")\n",
    "    prognosis = Input(name=\"prognosis\", shape=(2), dtype=\"int32\")\n",
    "\n",
    "    ## META HEAD\n",
    "    meta = Dense(64, activation=\"tanh\")(input_meta)\n",
    "    meta = BatchNormalization(name=\"meta_bn1\")(meta)\n",
    "    meta = Dense(64, activation=\"tanh\")(meta)\n",
    "    #meta = BatchNormalization(name=\"meta_bn2\")(meta)\n",
    "    #meta = Dense(128, activation=\"relu\")(meta)\n",
    "    #meta_out = BatchNormalization(name=\"meta_bn3\")(meta)\n",
    "\n",
    "    out = Dense(128, activation=\"tanh\")(meta)\n",
    "    #out = BatchNormalization(name=\"head_bn1\")(out)\n",
    "    out = Dropout(0.2)(out)\n",
    "    out = Dense(cfg.last_dense_size, activation=\"tanh\")(out)\n",
    "    #out = BatchNormalization(name=\"head_bn2\")(out)\n",
    "    out = Dense(2, activation=\"linear\", name=\"unnormalized_output\")(out)\n",
    "\n",
    "    #p, d = Lambda(lambda x: tf.split(x, num_or_size_splits=2, axis=1), name=\"outputs\")(\n",
    "    #    out\n",
    "    #)\n",
    "    prognosis_out = Softmax(name=\"prognosis_out\")(out)\n",
    "    #death_out = Softmax(name=\"death_out\")(d)\n",
    "\n",
    "    model = keras.models.Model(\n",
    "        inputs=[ input_meta ],\n",
    "        outputs=[ prognosis_out ],\n",
    "        name=\"model_v1\",\n",
    "    )\n",
    "\n",
    "    lr_schedule = tf.keras.optimizers.schedules.ExponentialDecay(\n",
    "        initial_learning_rate=1e-2,\n",
    "        decay_steps=3 * cfg.steps_per_epoch,\n",
    "        decay_rate=1e-2,\n",
    "        staircase=False,\n",
    "    )\n",
    "\n",
    "    early_stopping = tf.keras.callbacks.EarlyStopping(\n",
    "        monitor=\"val_loss\",\n",
    "        min_delta=0,\n",
    "        patience=15,\n",
    "        verbose=0,\n",
    "        mode=\"min\",\n",
    "        baseline=None,\n",
    "        restore_best_weights=True,\n",
    "    )\n",
    "\n",
    "    opt = keras.optimizers.Adam(lr_schedule)\n",
    "    model.compile(optimizer=opt, loss=tf.keras.losses.binary_crossentropy)\n",
    "\n",
    "    #model.summary()\n",
    "\n",
    "    #prognosis_out = BinaryEndpointLayer(name=\"prognosis_binary_loss\", config=config)(\n",
    "    #    prognosis, p\n",
    "    #)\n",
    "    #death_out = BinaryEndpointLayer(name=\"death_binary_loss\", config=config)(death, d)\n",
    "    return model, early_stopping"
   ]
  },
  {
   "cell_type": "code",
   "execution_count": 42,
   "id": "ac46ed99",
   "metadata": {},
   "outputs": [],
   "source": [
    "def meta_model_mod4( n_feature_cols ):\n",
    "    input_meta = Input(shape=(n_feature_cols), name=\"meta\", dtype=\"float32\")\n",
    "    death = Input(name=\"death\", shape=(2), dtype=\"int32\")\n",
    "    prognosis = Input(name=\"prognosis\", shape=(2), dtype=\"int32\")\n",
    "\n",
    "    ## META HEAD\n",
    "    meta = Dense(128, activation=\"tanh\")(input_meta)\n",
    "    meta = BatchNormalization(name=\"meta_bn1\")(meta)\n",
    "    meta = Dense(128, activation=\"tanh\")(meta)\n",
    "    #meta = BatchNormalization(name=\"meta_bn2\")(meta)\n",
    "    #meta = Dense(128, activation=\"relu\")(meta)\n",
    "    #meta_out = BatchNormalization(name=\"meta_bn3\")(meta)\n",
    "\n",
    "    out = Dense(128, activation=\"tanh\")(meta)\n",
    "    #out = BatchNormalization(name=\"head_bn1\")(out)\n",
    "    out = Dropout(0.2)(out)\n",
    "    out = Dense(cfg.last_dense_size, activation=\"tanh\")(out)\n",
    "    #out = BatchNormalization(name=\"head_bn2\")(out)\n",
    "    out = Dense(2, activation=\"linear\", name=\"unnormalized_output\")(out)\n",
    "\n",
    "    #p, d = Lambda(lambda x: tf.split(x, num_or_size_splits=2, axis=1), name=\"outputs\")(\n",
    "    #    out\n",
    "    #)\n",
    "    prognosis_out = Softmax(name=\"prognosis_out\")(out)\n",
    "    #death_out = Softmax(name=\"death_out\")(d)\n",
    "\n",
    "    model = keras.models.Model(\n",
    "        inputs=[ input_meta ],\n",
    "        outputs=[ prognosis_out ],\n",
    "        name=\"model_v1\",\n",
    "    )\n",
    "\n",
    "    lr_schedule = tf.keras.optimizers.schedules.ExponentialDecay(\n",
    "        cfg.learning_rate,\n",
    "        decay_steps=3 * cfg.steps_per_epoch,\n",
    "        decay_rate=1e-2,\n",
    "        staircase=False,\n",
    "    )\n",
    "\n",
    "    early_stopping = tf.keras.callbacks.EarlyStopping(\n",
    "        monitor=\"val_loss\",\n",
    "        min_delta=0,\n",
    "        patience=15,\n",
    "        verbose=0,\n",
    "        mode=\"min\",\n",
    "        baseline=None,\n",
    "        restore_best_weights=True,\n",
    "    )\n",
    "\n",
    "    opt = keras.optimizers.Adam(lr_schedule)\n",
    "    model.compile(optimizer=opt, loss=tf.keras.losses.binary_crossentropy,  )\n",
    "\n",
    "    #model.summary()\n",
    "\n",
    "    #prognosis_out = BinaryEndpointLayer(name=\"prognosis_binary_loss\", config=config)(\n",
    "    #    prognosis, p\n",
    "    #)\n",
    "    #death_out = BinaryEndpointLayer(name=\"death_binary_loss\", config=config)(death, d)\n",
    "    return model, early_stopping"
   ]
  },
  {
   "cell_type": "code",
   "execution_count": 43,
   "id": "2fe2ec24",
   "metadata": {},
   "outputs": [],
   "source": [
    "def meta_model_mod5( n_feature_cols ):\n",
    "    input_meta = Input(shape=(n_feature_cols), name=\"meta\", dtype=\"float32\")\n",
    "    death = Input(name=\"death\", shape=(2), dtype=\"int32\")\n",
    "    prognosis = Input(name=\"prognosis\", shape=(2), dtype=\"int32\")\n",
    "\n",
    "    ## META HEAD\n",
    "    meta = Dense(128, activation=\"tanh\")(input_meta)\n",
    "    meta = BatchNormalization(name=\"meta_bn1\")(meta)\n",
    "    meta = Dense(128, activation=\"tanh\")(meta)\n",
    "    meta = BatchNormalization(name=\"meta_bn2\")(meta)\n",
    "    #meta = Dense(128, activation=\"relu\")(meta)\n",
    "    #meta_out = BatchNormalization(name=\"meta_bn3\")(meta)\n",
    "\n",
    "    out = Dense(128, activation=\"tanh\")(meta)\n",
    "    #out = BatchNormalization(name=\"head_bn1\")(out)\n",
    "    out = Dropout(0.2)(out)\n",
    "    out = Dense(cfg.last_dense_size, activation=\"tanh\")(out)\n",
    "    #out = BatchNormalization(name=\"head_bn2\")(out)\n",
    "    out = Dense(2, activation=\"linear\", name=\"unnormalized_output\")(out)\n",
    "\n",
    "    #p, d = Lambda(lambda x: tf.split(x, num_or_size_splits=2, axis=1), name=\"outputs\")(\n",
    "    #    out\n",
    "    #)\n",
    "    prognosis_out = Softmax(name=\"prognosis_out\")(out)\n",
    "    #death_out = Softmax(name=\"death_out\")(d)\n",
    "\n",
    "    model = keras.models.Model(\n",
    "        inputs=[ input_meta ],\n",
    "        outputs=[ prognosis_out ],\n",
    "        name=\"model_v1\",\n",
    "    )\n",
    "\n",
    "    lr_schedule = tf.keras.optimizers.schedules.ExponentialDecay(\n",
    "        cfg.learning_rate,\n",
    "        decay_steps=3 * cfg.steps_per_epoch,\n",
    "        decay_rate=1e-2,\n",
    "        staircase=False,\n",
    "    )\n",
    "\n",
    "    early_stopping = tf.keras.callbacks.EarlyStopping(\n",
    "        monitor=\"val_loss\",\n",
    "        min_delta=0,\n",
    "        patience=15,\n",
    "        verbose=0,\n",
    "        mode=\"min\",\n",
    "        baseline=None,\n",
    "        restore_best_weights=True,\n",
    "    )\n",
    "\n",
    "    opt = keras.optimizers.Adam(lr_schedule)\n",
    "    model.compile(optimizer=opt, loss=tf.keras.losses.binary_crossentropy)\n",
    "\n",
    "    #model.summary()\n",
    "\n",
    "    #prognosis_out = BinaryEndpointLayer(name=\"prognosis_binary_loss\", config=config)(\n",
    "    #    prognosis, p\n",
    "    #)\n",
    "    #death_out = BinaryEndpointLayer(name=\"death_binary_loss\", config=config)(death, d)\n",
    "    return model, early_stopping"
   ]
  },
  {
   "cell_type": "code",
   "execution_count": 44,
   "id": "b9b3b794",
   "metadata": {},
   "outputs": [],
   "source": [
    "models_to_run_NN = { \n",
    "    'meta_base': meta_model, \n",
    "    'meta_base_mod': meta_model_mod,\n",
    "    'meta_base_mod2': meta_model_mod2,\n",
    "    'meta_base_mod3': meta_model_mod3,\n",
    "    'meta_base_mod4': meta_model_mod4,\n",
    "    'meta_base_mod5': meta_model_mod5\n",
    "    }\n",
    "num_to_model_NN = dict( zip( np.arange(len(models_to_run_NN)), list(models_to_run_NN.keys()) ) )"
   ]
  },
  {
   "cell_type": "code",
   "execution_count": 45,
   "id": "b2e58ee6",
   "metadata": {},
   "outputs": [],
   "source": [
    "def fit_and_eval_models_NN( num_to_model, models_to_run, \n",
    "                            dataset='population_average', color='blue', m='o', start_idx=0, shift=0, columns=[], batch_size=cfg.batch_size):\n",
    "    all_scores = { model : None for num, model in num_to_model.items() }\n",
    "    for i in range(len(num_to_model) ):\n",
    "        current_model = num_to_model[i] \n",
    "        print(current_model)\n",
    "        scores = five_fold_cv_model_eval_NN( models_to_run[current_model], dataset, batch_size, columns )\n",
    "\n",
    "        ax1 = plt.subplot(131)\n",
    "        value = np.mean( scores['balanced_accuracy'] )\n",
    "        std_err = np.std( scores['balanced_accuracy'] ) / np.sqrt(5)\n",
    "        #sc = plt.scatter( i+np.zeros(5)+shift, scores['balanced_accuracy'], label=current_model, c=color, marker=m)\n",
    "        sc = plt.errorbar( start_idx+i+shift, value, yerr=std_err, label=current_model, c=color, marker=m )\n",
    "        #plt.xlabel('Models')\n",
    "        plt.xticks(ticks=list(num_to_model.keys()), labels=list(num_to_model.values()), rotation=45, size=25)\n",
    "        plt.ylabel('Balanced accuracy score', size=30)\n",
    "        plt.grid(True)\n",
    "        sc.set_label(dataset)\n",
    "        if i == len(num_to_model)-1: # put legend at the last iteration to avoid duplicates\n",
    "            legend_without_duplicate_labels(ax1)        \n",
    "\n",
    "        ax2 = plt.subplot(132)\n",
    "        value = np.mean( scores['roc_auc'] )\n",
    "        std_err = np.std( scores['roc_auc'] ) / np.sqrt(5)\n",
    "        #sc = plt.scatter( i+np.zeros(5)+shift, scores['roc_auc'], label=current_model, c=color, marker=m)\n",
    "        sc = plt.errorbar( start_idx+i+shift, value, yerr=std_err, label=current_model, c=color, marker=m )\n",
    "        #plt.xlabel('Models')\n",
    "        plt.xticks(ticks=list(num_to_model.keys()), labels=list(num_to_model.values()), rotation=45, size=25)\n",
    "        plt.ylabel('Roc auc score', size=30)\n",
    "        plt.grid(True)\n",
    "        sc.set_label(dataset)\n",
    "        if i == len(num_to_model)-1: # put legend at the last iteration to avoid duplicates\n",
    "            legend_without_duplicate_labels(ax2)        \n",
    "\n",
    "        ax3 = plt.subplot(133)\n",
    "        value = np.mean( scores['f1'] )\n",
    "        std_err = np.std( scores['f1'] ) / np.sqrt(5)\n",
    "        #sc = plt.scatter( i+np.zeros(5)+shift, scores['f1'], label=current_model, c=color, marker=m)\n",
    "        sc = plt.errorbar( start_idx+i+shift, value, yerr=std_err, label=current_model, c=color, marker=m )\n",
    "        #plt.xlabel('Models')\n",
    "        plt.xticks(ticks=list(num_to_model.keys()), labels=list(num_to_model.values()), rotation=45, size=25)\n",
    "        plt.ylabel('F1 score', size=30)\n",
    "        plt.grid(True)\n",
    "        sc.set_label(dataset)\n",
    "        if i == len(num_to_model)-1: # put legend at the last iteration to avoid duplicates\n",
    "            legend_without_duplicate_labels(ax3)\n",
    "            \n",
    "        all_scores[current_model] = scores\n",
    "        \n",
    "    return all_scores"
   ]
  },
  {
   "cell_type": "code",
   "execution_count": 46,
   "id": "3ef033c9",
   "metadata": {
    "scrolled": false
   },
   "outputs": [
    {
     "name": "stdout",
     "output_type": "stream",
     "text": [
      "meta_base\n",
      "meta_base_mod\n",
      "meta_base_mod2\n",
      "meta_base_mod3\n",
      "meta_base_mod4\n",
      "meta_base_mod5\n",
      "meta_base\n",
      "meta_base_mod\n",
      "meta_base_mod2\n",
      "meta_base_mod3\n",
      "meta_base_mod4\n",
      "meta_base_mod5\n",
      "meta_base\n",
      "meta_base_mod\n",
      "meta_base_mod2\n",
      "meta_base_mod3\n",
      "meta_base_mod4\n",
      "meta_base_mod5\n",
      "meta_base\n",
      "meta_base_mod\n",
      "meta_base_mod2\n",
      "meta_base_mod3\n",
      "meta_base_mod4\n",
      "meta_base_mod5\n"
     ]
    },
    {
     "data": {
      "image/png": "[encoded data removed]",
      "text/plain": [
       "<Figure size 1728x576 with 3 Axes>"
      ]
     },
     "metadata": {
      "needs_background": "light"
     },
     "output_type": "display_data"
    }
   ],
   "source": [
    "fig = plt.figure( figsize=(24,8) )\n",
    "#fit_and_eval_models( num_to_model, models_to_run, fig, dataset='population_average', color='midnightblue', m='o', shift=0.0,)\n",
    "nn_pop_avg_scores = fit_and_eval_models_NN( num_to_model_NN, models_to_run_NN, dataset='population_average', color='darkred', m='o', start_idx=0, shift=0.0)\n",
    "nn_pop_smp_scores = fit_and_eval_models_NN( num_to_model_NN, models_to_run_NN, dataset='population_sampled', color='forestgreen', m='x', shift=-0.05)\n",
    "nn_age_avg_scores = fit_and_eval_models_NN( num_to_model_NN, models_to_run_NN, dataset='age_average', color='midnightblue', m='v', shift=0.05)\n",
    "nn_hsp_avg_scores = fit_and_eval_models_NN( num_to_model_NN, models_to_run_NN, dataset='hospital_average', color='orange', m='s', shift=0.15)"
   ]
  },
  {
   "cell_type": "code",
   "execution_count": 47,
   "id": "1da08a99",
   "metadata": {},
   "outputs": [
    {
     "name": "stdout",
     "output_type": "stream",
     "text": [
      "Population average\n",
      "meta_base BA : 0.7445200799485624 0.03778060364397854\n",
      "meta_base F1 : 0.7515607912936086 0.047589069981174514\n",
      "meta_base AUC : 0.8240542190999485 0.024668060219948534\n",
      "meta_base_mod BA : 0.7518786398781868 0.028914270650702015\n",
      "meta_base_mod F1 : 0.7671591952166066 0.03435682414712247\n",
      "meta_base_mod AUC : 0.8387665628070542 0.014082961160094621\n",
      "meta_base_mod2 BA : 0.7640702191203232 0.01824596646029165\n",
      "meta_base_mod2 F1 : 0.7743893514253886 0.023808846800797857\n",
      "meta_base_mod2 AUC : 0.8476215196141832 0.011467580242059235\n",
      "meta_base_mod3 BA : 0.7469788020798724 0.02160811789464627\n",
      "meta_base_mod3 F1 : 0.7636715367082336 0.01425055027981037\n",
      "meta_base_mod3 AUC : 0.8278927347224301 0.02741988883847045\n",
      "meta_base_mod4 BA : 0.7558094132316648 0.02164389422078468\n",
      "meta_base_mod4 F1 : 0.7630755765585262 0.025010729436669116\n",
      "meta_base_mod4 AUC : 0.8371299830114971 0.02324619265316653\n",
      "meta_base_mod5 BA : 0.7680480111293724 0.033519125642366664\n",
      "meta_base_mod5 F1 : 0.7767942018283395 0.03663645084833992\n",
      "meta_base_mod5 AUC : 0.8408769649018234 0.015464693517448096\n"
     ]
    }
   ],
   "source": [
    "print('Population average')\n",
    "for model, scores in nn_pop_avg_scores.items():\n",
    "    print(f'{model} BA :', np.mean(scores['balanced_accuracy']), np.std(scores['balanced_accuracy']))\n",
    "    print(f'{model} F1 :', np.mean(scores['f1']), np.std(scores['f1']))\n",
    "    print(f'{model} AUC :', np.mean(scores['roc_auc']), np.std(scores['roc_auc']))"
   ]
  },
  {
   "cell_type": "code",
   "execution_count": 48,
   "id": "6d85c17c",
   "metadata": {},
   "outputs": [
    {
     "name": "stdout",
     "output_type": "stream",
     "text": [
      "Population samples\n",
      "meta_base BA : 0.7019044932531797 0.012166625544963432\n",
      "meta_base F1 : 0.6991890188664384 0.016178780031992294\n",
      "meta_base AUC : 0.7763493478077454 0.016532341755535137\n",
      "meta_base_mod BA : 0.7003977552050136 0.016031741789478415\n",
      "meta_base_mod F1 : 0.6988735157300792 0.032342102472891175\n",
      "meta_base_mod AUC : 0.8024259523556442 0.01839262157422627\n",
      "meta_base_mod2 BA : 0.7079241396118636 0.02997281250496056\n",
      "meta_base_mod2 F1 : 0.7057002220578342 0.034547515659186435\n",
      "meta_base_mod2 AUC : 0.78899818464832 0.01042565589149967\n",
      "meta_base_mod3 BA : 0.7186279211058195 0.01017523580908984\n",
      "meta_base_mod3 F1 : 0.7163693515481294 0.020874888068715236\n",
      "meta_base_mod3 AUC : 0.787413540258552 0.009326052232646242\n",
      "meta_base_mod4 BA : 0.706167478002413 0.012381396631716059\n",
      "meta_base_mod4 F1 : 0.7066517304883939 0.02234730217032958\n",
      "meta_base_mod4 AUC : 0.7832271085219966 0.019713566855010682\n",
      "meta_base_mod5 BA : 0.7149700958519507 0.017962711196234094\n",
      "meta_base_mod5 F1 : 0.7095143227713397 0.021725862683079734\n",
      "meta_base_mod5 AUC : 0.8010500498413645 0.012651087691012326\n"
     ]
    }
   ],
   "source": [
    "print('Population samples')\n",
    "for model, scores in nn_pop_smp_scores.items():\n",
    "    print(f'{model} BA :', np.mean(scores['balanced_accuracy']), np.std(scores['balanced_accuracy']))\n",
    "    print(f'{model} F1 :', np.mean(scores['f1']), np.std(scores['f1']))\n",
    "    print(f'{model} AUC :', np.mean(scores['roc_auc']), np.std(scores['roc_auc']))"
   ]
  },
  {
   "cell_type": "code",
   "execution_count": 49,
   "id": "55cd7a6e",
   "metadata": {},
   "outputs": [
    {
     "name": "stdout",
     "output_type": "stream",
     "text": [
      "Age average\n",
      "meta_base BA : 0.730698478243011 0.013499813449562244\n",
      "meta_base F1 : 0.7214495640423534 0.015204350516430591\n",
      "meta_base AUC : 0.803393709312602 0.02782075170623191\n",
      "meta_base_mod BA : 0.7456744086452818 0.016211472077255564\n",
      "meta_base_mod F1 : 0.7575743056394008 0.013577349924042718\n",
      "meta_base_mod AUC : 0.8198578150158428 0.02410236927032436\n",
      "meta_base_mod2 BA : 0.7271923281983455 0.02511017542815695\n",
      "meta_base_mod2 F1 : 0.7244947604759033 0.03935632281140253\n",
      "meta_base_mod2 AUC : 0.8096870302647783 0.01943353892666581\n",
      "meta_base_mod3 BA : 0.7313781303222633 0.011933460891599702\n",
      "meta_base_mod3 F1 : 0.7360215954897683 0.01730836092843041\n",
      "meta_base_mod3 AUC : 0.8023893082324388 0.01105321630085373\n",
      "meta_base_mod4 BA : 0.7259682676102288 0.024108386769738976\n",
      "meta_base_mod4 F1 : 0.7265966184286252 0.029802922000951866\n",
      "meta_base_mod4 AUC : 0.8058991067408726 0.017877472147215613\n",
      "meta_base_mod5 BA : 0.7313479578317317 0.017203772096384205\n",
      "meta_base_mod5 F1 : 0.7322224625008619 0.026551286030562688\n",
      "meta_base_mod5 AUC : 0.8098007665529974 0.011140645941759666\n"
     ]
    }
   ],
   "source": [
    "print('Age average')\n",
    "for model, scores in nn_age_avg_scores.items():\n",
    "    print(f'{model} BA :', np.mean(scores['balanced_accuracy']), np.std(scores['balanced_accuracy']))\n",
    "    print(f'{model} F1 :', np.mean(scores['f1']), np.std(scores['f1']))\n",
    "    print(f'{model} AUC :', np.mean(scores['roc_auc']), np.std(scores['roc_auc']))"
   ]
  },
  {
   "cell_type": "code",
   "execution_count": 50,
   "id": "dc6bb8fc",
   "metadata": {},
   "outputs": [
    {
     "name": "stdout",
     "output_type": "stream",
     "text": [
      "Hospital average\n",
      "meta_base BA : 0.6651165239016665 0.011923042824798417\n",
      "meta_base F1 : 0.6508198303394809 0.01594005940462538\n",
      "meta_base AUC : 0.742178188688498 0.02380149727725999\n",
      "meta_base_mod BA : 0.7280342655416716 0.013871773423783092\n",
      "meta_base_mod F1 : 0.7371321130328864 0.025124299305920604\n",
      "meta_base_mod AUC : 0.8180785431495246 0.0156578996072657\n",
      "meta_base_mod2 BA : 0.7358845718972867 0.025135720885770464\n",
      "meta_base_mod2 F1 : 0.7419537104594915 0.029777247703624186\n",
      "meta_base_mod2 AUC : 0.8111254675414432 0.02568959650026931\n",
      "meta_base_mod3 BA : 0.730092804717336 0.02120833905498525\n",
      "meta_base_mod3 F1 : 0.7370903980857008 0.02645500487827428\n",
      "meta_base_mod3 AUC : 0.8051159382766716 0.020846176913076157\n",
      "meta_base_mod4 BA : 0.7339737975462967 0.02216723059897531\n",
      "meta_base_mod4 F1 : 0.740140628234613 0.02736029193127217\n",
      "meta_base_mod4 AUC : 0.8123895771067872 0.021593487017267342\n",
      "meta_base_mod5 BA : 0.7212041955980805 0.02502126656118948\n",
      "meta_base_mod5 F1 : 0.7261242217267402 0.03652046911634467\n",
      "meta_base_mod5 AUC : 0.7989133829082993 0.029206514579566502\n"
     ]
    }
   ],
   "source": [
    "print('Hospital average')\n",
    "for model, scores in nn_hsp_avg_scores.items():\n",
    "    print(f'{model} BA :', np.mean(scores['balanced_accuracy']), np.std(scores['balanced_accuracy']))\n",
    "    print(f'{model} F1 :', np.mean(scores['f1']), np.std(scores['f1']))\n",
    "    print(f'{model} AUC :', np.mean(scores['roc_auc']), np.std(scores['roc_auc']))"
   ]
  },
  {
   "cell_type": "markdown",
   "id": "290dd97f",
   "metadata": {},
   "source": [
    "#### Locate data"
   ]
  },
  {
   "cell_type": "code",
   "execution_count": 51,
   "id": "8db8cd3c",
   "metadata": {},
   "outputs": [],
   "source": [
    "def load_cv_data_pred_only( cv=1, dataset='age_average' ):\n",
    "    \n",
    "    base_path = os.path.join( cfg.raw_output_base, 'checkpoints' )\n",
    "    model_cross_val_paths = np.array( sorted( [ i for i in os.listdir( base_path ) if 'CROSS' and 'v2' in i] ) )\n",
    "    model_datasets = np.array([ '_'.join( j.split('_')[2:4]) for j in model_cross_val_paths ])\n",
    "    cross_val_paths = model_cross_val_paths[ model_datasets == dataset ]\n",
    "    \n",
    "    current_fold_path = os.path.join( base_path, cross_val_paths[0] )\n",
    "    model_checkpoint_dir = os.listdir( current_fold_path )\n",
    "    \n",
    "    current_final_path = os.path.join( current_fold_path, model_checkpoint_dir[cv-1] )+ '/pred.csv'\n",
    "    \n",
    "    pred_df = pd.read_csv(current_final_path)\n",
    "    pred_df.prognosis.replace('SEVERE', 1, inplace=True)\n",
    "    pred_df.prognosis.replace('MILD', 0, inplace=True)\n",
    "    \n",
    "    y_pred = pred_df.prognosis.values\n",
    "    \n",
    "    \n",
    "    FOLD = int(open(os.path.join( current_fold_path, model_checkpoint_dir[cv-1], \"fold\"), 'r').readline()) + 1\n",
    "    y_true = pd.read_csv( cfg.datasets[dataset].cv_valid_table+f'cv{FOLD}.csv')\n",
    "    y_true.Prognosis.replace('SEVERE', 1, inplace=True)\n",
    "    y_true.Prognosis.replace('MILD', 0, inplace=True)\n",
    "    y_true = y_true.Prognosis.values\n",
    "        \n",
    "    return y_pred, y_true"
   ]
  },
  {
   "cell_type": "code",
   "execution_count": 52,
   "id": "a285fe1d",
   "metadata": {},
   "outputs": [],
   "source": [
    "def five_fold_cv_model_eval_NN_pred_only(dataset='age_average'):\n",
    "        \n",
    "    b_accs = []\n",
    "    roc_aucs = []\n",
    "    f1s = []\n",
    "    \n",
    "    scores = {}\n",
    "    \n",
    "    for f in range(1,6):\n",
    "        #print(columns)\n",
    "        y_pred, y_true = load_cv_data_pred_only(f, dataset)\n",
    "        \n",
    "        try:\n",
    "            b_acc = metrics.balanced_accuracy_score( y_pred=y_pred, y_true=y_true )\n",
    "            f1 = metrics.f1_score( y_true=y_true, y_pred=y_pred )\n",
    "            f1s.append(f1)\n",
    "            b_accs.append(b_acc)\n",
    "        except:\n",
    "            print('', end='\\r')\n",
    "        \n",
    "        try:\n",
    "            roc_auc = metrics.roc_auc_score( y_true=y_true, y_score=y_pred )\n",
    "            roc_aucs.append(roc_auc)\n",
    "            \n",
    "        except:\n",
    "            print('', end='\\r')\n",
    "    \n",
    "    scores['balanced_accuracy'] = b_accs\n",
    "    scores['roc_auc'] = roc_aucs\n",
    "    scores['f1'] = f1s\n",
    "    \n",
    "    return scores"
   ]
  },
  {
   "cell_type": "code",
   "execution_count": 53,
   "id": "bacfebf0",
   "metadata": {},
   "outputs": [
    {
     "name": "stdout",
     "output_type": "stream",
     "text": [
      "['CROSS_VAL_age_average_v2' 'CROSS_VAL_population_average_v2']\n",
      "['CROSS_VAL_age_average_v2' 'CROSS_VAL_population_average_v2']\n",
      "['CROSS_VAL_age_average_v2' 'CROSS_VAL_population_average_v2']\n",
      "['CROSS_VAL_age_average_v2' 'CROSS_VAL_population_average_v2']\n",
      "['CROSS_VAL_age_average_v2' 'CROSS_VAL_population_average_v2']\n"
     ]
    }
   ],
   "source": [
    "scores_age_avg = five_fold_cv_model_eval_NN_pred_only('age_average')"
   ]
  },
  {
   "cell_type": "code",
   "execution_count": 50,
   "id": "8a07ba0b",
   "metadata": {},
   "outputs": [
    {
     "data": {
      "text/plain": [
       "{'balanced_accuracy': [0.7550492610837438,\n",
       "  0.7209972025670561,\n",
       "  0.7555309734513274,\n",
       "  0.7647902327105867,\n",
       "  0.7095425479586817],\n",
       " 'roc_auc': [0.7550492610837438,\n",
       "  0.7209972025670561,\n",
       "  0.7555309734513274,\n",
       "  0.7647902327105867,\n",
       "  0.7095425479586819],\n",
       " 'f1': [0.7672413793103448,\n",
       "  0.7822878228782287,\n",
       "  0.7610619469026548,\n",
       "  0.7614678899082569,\n",
       "  0.6952380952380953]}"
      ]
     },
     "execution_count": 50,
     "metadata": {},
     "output_type": "execute_result"
    }
   ],
   "source": [
    "scores_age_avg"
   ]
  },
  {
   "cell_type": "code",
   "execution_count": 43,
   "id": "3f80c917",
   "metadata": {},
   "outputs": [],
   "source": [
    "scores_pop_avg = five_fold_cv_model_eval_NN_pred_only('population_average')"
   ]
  },
  {
   "cell_type": "code",
   "execution_count": 44,
   "id": "eba2687e",
   "metadata": {},
   "outputs": [
    {
     "data": {
      "text/plain": [
       "{'balanced_accuracy': [0.781900826446281,\n",
       "  0.6900197465854863,\n",
       "  0.7665598290598291,\n",
       "  0.7265240904621435,\n",
       "  0.7734349393641429],\n",
       " 'roc_auc': [0.781900826446281,\n",
       "  0.6900197465854863,\n",
       "  0.7665598290598291,\n",
       "  0.7265240904621435,\n",
       "  0.773434939364143],\n",
       " 'f1': [0.7860262008733625,\n",
       "  0.7703180212014133,\n",
       "  0.7678571428571429,\n",
       "  0.696969696969697,\n",
       "  0.7807017543859648]}"
      ]
     },
     "execution_count": 44,
     "metadata": {},
     "output_type": "execute_result"
    }
   ],
   "source": [
    "scores_pop_avg"
   ]
  },
  {
   "cell_type": "code",
   "execution_count": 45,
   "id": "2a147c6f",
   "metadata": {},
   "outputs": [],
   "source": [
    "def plot_scores(scores, current_model, color, m, dataset, shift):\n",
    "    ax1 = plt.subplot(131)\n",
    "    value = np.mean( scores['balanced_accuracy'] )\n",
    "    std_err = np.std( scores['balanced_accuracy'] ) / np.sqrt(5)\n",
    "    sc = plt.errorbar( 5+shift, value, yerr=std_err, label=current_model, c=color, marker=m )\n",
    "    plt.ylabel('Balanced accuracy score')\n",
    "    plt.grid(True)\n",
    "    sc.set_label(dataset)  \n",
    "\n",
    "    ax2 = plt.subplot(132)\n",
    "    value = np.mean( scores['roc_auc'] )\n",
    "    std_err = np.std( scores['roc_auc'] ) / np.sqrt(5)\n",
    "    sc = plt.errorbar( 5+shift, value, yerr=std_err, label=current_model, c=color, marker=m )\n",
    "    plt.ylabel('Roc auc score')\n",
    "    plt.grid(True)\n",
    "    sc.set_label(dataset)       \n",
    "\n",
    "    ax3 = plt.subplot(133)\n",
    "    value = np.mean( scores['f1'] )\n",
    "    std_err = np.std( scores['f1'] ) / np.sqrt(5)\n",
    "    sc = plt.errorbar( 5+shift, value, yerr=std_err, label=current_model, c=color, marker=m )\n",
    "    plt.ylabel('F1 score')\n",
    "    plt.grid(True)\n",
    "    sc.set_label(dataset)"
   ]
  },
  {
   "cell_type": "code",
   "execution_count": 46,
   "id": "e5ef521a",
   "metadata": {},
   "outputs": [
    {
     "name": "stdout",
     "output_type": "stream",
     "text": [
      "[14:51:18] WARNING: ../src/learner.cc:1115: Starting in XGBoost 1.3.0, the default evaluation metric used with the objective 'binary:logistic' was changed from 'error' to 'logloss'. Explicitly set eval_metric if you'd like to restore the old behavior.\n",
      "[14:51:18] WARNING: ../src/learner.cc:1115: Starting in XGBoost 1.3.0, the default evaluation metric used with the objective 'binary:logistic' was changed from 'error' to 'logloss'. Explicitly set eval_metric if you'd like to restore the old behavior.\n",
      "[14:51:18] WARNING: ../src/learner.cc:1115: Starting in XGBoost 1.3.0, the default evaluation metric used with the objective 'binary:logistic' was changed from 'error' to 'logloss'. Explicitly set eval_metric if you'd like to restore the old behavior.\n",
      "[14:51:19] WARNING: ../src/learner.cc:1115: Starting in XGBoost 1.3.0, the default evaluation metric used with the objective 'binary:logistic' was changed from 'error' to 'logloss'. Explicitly set eval_metric if you'd like to restore the old behavior.\n",
      "[14:51:19] WARNING: ../src/learner.cc:1115: Starting in XGBoost 1.3.0, the default evaluation metric used with the objective 'binary:logistic' was changed from 'error' to 'logloss'. Explicitly set eval_metric if you'd like to restore the old behavior.\n",
      "[14:51:25] WARNING: ../src/learner.cc:1115: Starting in XGBoost 1.3.0, the default evaluation metric used with the objective 'binary:logistic' was changed from 'error' to 'logloss'. Explicitly set eval_metric if you'd like to restore the old behavior.\n",
      "[14:51:25] WARNING: ../src/learner.cc:1115: Starting in XGBoost 1.3.0, the default evaluation metric used with the objective 'binary:logistic' was changed from 'error' to 'logloss'. Explicitly set eval_metric if you'd like to restore the old behavior.\n",
      "[14:51:25] WARNING: ../src/learner.cc:1115: Starting in XGBoost 1.3.0, the default evaluation metric used with the objective 'binary:logistic' was changed from 'error' to 'logloss'. Explicitly set eval_metric if you'd like to restore the old behavior.\n",
      "[14:51:25] WARNING: ../src/learner.cc:1115: Starting in XGBoost 1.3.0, the default evaluation metric used with the objective 'binary:logistic' was changed from 'error' to 'logloss'. Explicitly set eval_metric if you'd like to restore the old behavior.\n",
      "[14:51:25] WARNING: ../src/learner.cc:1115: Starting in XGBoost 1.3.0, the default evaluation metric used with the objective 'binary:logistic' was changed from 'error' to 'logloss'. Explicitly set eval_metric if you'd like to restore the old behavior.\n"
     ]
    },
    {
     "data": {
      "image/png": "[encoded data removed]",
      "text/plain": [
       "<Figure size 1728x576 with 3 Axes>"
      ]
     },
     "metadata": {
      "needs_background": "light"
     },
     "output_type": "display_data"
    }
   ],
   "source": [
    "fig = plt.figure( figsize=(24,8) )\n",
    "fit_and_eval_models( num_to_model, models_to_run, fig, dataset='population_average', color='darkred', m='o', shift=-0.15)\n",
    "#fit_and_eval_models( num_to_model, models_to_run, fig, dataset='population_sampled', color='forestgreen', m='x', shift=-0.05)\n",
    "fit_and_eval_models( num_to_model, models_to_run, fig, dataset='age_average', color='midnightblue', m='v', shift=0.05)\n",
    "#fit_and_eval_models( num_to_model, models_to_run, fig, dataset='hospital_average', color='orange', m='s', shift=0.15)\n",
    "plot_scores(scores_age_avg, 'Hybrid NN', color='orange', m='s', dataset='hybrid age_avg', shift=.2)\n",
    "plot_scores(scores_pop_avg, 'Hybrid NN', color='forestgreen', m='x', dataset='hybrid pop_avg', shift=.25)"
   ]
  },
  {
   "cell_type": "code",
   "execution_count": null,
   "id": "ae428259",
   "metadata": {},
   "outputs": [],
   "source": []
  }
 ],
 "metadata": {
  "kernelspec": {
   "display_name": "Python 3",
   "language": "python",
   "name": "python3"
  },
  "language_info": {
   "codemirror_mode": {
    "name": "ipython",
    "version": 3
   },
   "file_extension": ".py",
   "mimetype": "text/x-python",
   "name": "python",
   "nbconvert_exporter": "python",
   "pygments_lexer": "ipython3",
   "version": "3.6.13"
  }
 },
 "nbformat": 4,
 "nbformat_minor": 5
}
